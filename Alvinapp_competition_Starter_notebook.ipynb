{
  "cells": [
    {
      "cell_type": "markdown",
      "metadata": {
        "id": "view-in-github",
        "colab_type": "text"
      },
      "source": [
        "<a href=\"https://colab.research.google.com/github/emms204/Alvin-Smart-Money-Management-Classification-Challenge/blob/main/Alvinapp_competition_Starter_notebook.ipynb\" target=\"_parent\"><img src=\"https://colab.research.google.com/assets/colab-badge.svg\" alt=\"Open In Colab\"/></a>"
      ]
    },
    {
      "cell_type": "markdown",
      "metadata": {
        "id": "PvKRBlqreh9N"
      },
      "source": [
        "# AlvinApp Competition"
      ]
    },
    {
      "cell_type": "markdown",
      "metadata": {
        "id": "Q3cWg9DG-KUG"
      },
      "source": [
        "##Alvin is a Kenyan personal finance company building money management widgets optimized for African contexts. They'd like to use the classification assessments that Alvin users have classified manually so far to produce a machine learning model that recommends categorizations for future transactions Alvin users make at new merchants."
      ]
    },
    {
      "cell_type": "markdown",
      "metadata": {
        "id": "jNl4Kvk3d_s3"
      },
      "source": [
        "This is a simple starter notebook to get started with the AvinApp Competition on Zindi.\n",
        "\n",
        "This notebook covers:\n",
        "\n",
        "*   Loading the data\n",
        "*   Simple Exploratory Data Analysis and an example of feature engineering\n",
        "*   Data preprocessing and data wrangling\n",
        "*   Creating a simple model\n",
        "*   Making a submission\n",
        "*   Some tips for improving your score\n",
        "\n",
        "\n",
        "\n",
        "\n",
        "\n"
      ]
    },
    {
      "cell_type": "markdown",
      "metadata": {
        "id": "iYdpBYYceneg"
      },
      "source": [
        "## Importing libraries"
      ]
    },
    {
      "cell_type": "code",
      "execution_count": null,
      "metadata": {
        "id": "06kkNxjIdgSW"
      },
      "outputs": [],
      "source": [
        "# Dataframe and Plotting libraries\n",
        "import pandas as pd\n",
        "import numpy as np\n",
        "import seaborn as sns\n",
        "import matplotlib.pyplot as plt\n",
        "\n",
        "# Machine Learning libraries\n",
        "from sklearn.preprocessing import StandardScaler\n",
        "from sklearn.tree import DecisionTreeClassifier\n",
        "from sklearn.metrics import accuracy_score, classification_report\n",
        "from sklearn.model_selection import train_test_split\n",
        "from sklearn.metrics import log_loss\n",
        "\n",
        "\n",
        "pd.set_option('display.max_columns', None)\n",
        "# from google.colab import files\n",
        "import warnings\n",
        "warnings.filterwarnings('ignore')"
      ]
    },
    {
      "cell_type": "markdown",
      "metadata": {
        "id": "J8AhJ0cKer7b"
      },
      "source": [
        "## 1. Load the dataset"
      ]
    },
    {
      "cell_type": "code",
      "execution_count": null,
      "metadata": {
        "id": "n9KORySPiN1r"
      },
      "outputs": [],
      "source": [
        "# Testing path\n",
        "# path = '/content/drive/MyDrive/Colab Notebooks/alvinapp/'\n",
        "path = \"/content/\""
      ]
    },
    {
      "cell_type": "code",
      "execution_count": null,
      "metadata": {
        "id": "aPn2dmoMexCU"
      },
      "outputs": [],
      "source": [
        "# Load the files into a Pandas Dataframe\n",
        "train = pd.read_csv(path+'Train.csv',parse_dates=['MERCHANT_CATEGORIZED_AT','PURCHASED_AT'])\n",
        "test = pd.read_csv(path+'Test.csv',parse_dates=['MERCHANT_CATEGORIZED_AT','PURCHASED_AT'])\n",
        "ss = pd.read_csv(path+'SampleSubmission.csv')"
      ]
    },
    {
      "cell_type": "code",
      "execution_count": null,
      "metadata": {
        "id": "C4UzX1old_I2"
      },
      "outputs": [],
      "source": [
        "ext_data = pd.read_csv('/content/extra_data.csv')"
      ]
    },
    {
      "cell_type": "code",
      "execution_count": null,
      "metadata": {
        "colab": {
          "base_uri": "https://localhost:8080/"
        },
        "id": "HSj_1Qz7ezsw",
        "outputId": "57adb6f8-3fb6-4d0b-a802-0cab6ce37918"
      },
      "outputs": [
        {
          "output_type": "stream",
          "name": "stdout",
          "text": [
            "Train data shape : (373, 12)\n",
            "Test data shape : (558, 11)\n",
            "Extra data shape : (10000, 12)\n"
          ]
        }
      ],
      "source": [
        "# Let’s observe the shape of our datasets.\n",
        "print('Train data shape :', train.shape)\n",
        "print('Test data shape :', test.shape)\n",
        "print('Extra data shape :', ext_data.shape)"
      ]
    },
    {
      "cell_type": "markdown",
      "metadata": {
        "id": "BJslatwHfAaN"
      },
      "source": [
        "The above output shows the number of rows and columns for train and test dataset. We have 12 variables in the train dataset, 11 independent variables and 1 dependent variable. In the test dataset, we have 11 independent variables.\n",
        "\n",
        "We can observe the first five rows from our data set by using the head() method from the pandas library."
      ]
    },
    {
      "cell_type": "code",
      "execution_count": null,
      "metadata": {
        "colab": {
          "base_uri": "https://localhost:8080/",
          "height": 394
        },
        "id": "XcPDRGzXm_Nv",
        "outputId": "c97c9ec3-103f-42e8-dee4-257cdd6e7f10"
      },
      "outputs": [
        {
          "output_type": "execute_result",
          "data": {
            "text/plain": [
              "                              COLUMN_NAME  \\\n",
              "0                 MERCHANT_CATEGORIZED_AT   \n",
              "1                           MERCHANT_NAME   \n",
              "2                 MERCHANT_CATEGORIZED_AS   \n",
              "3                          PURCHASE_VALUE   \n",
              "4                            PURCHASED_AT   \n",
              "5   IS_PURCHASE_PAID_VIA_MPESA_SEND_MONEY   \n",
              "6                              USER_EMAIL   \n",
              "7                                USER_AGE   \n",
              "8                             USER_GENDER   \n",
              "9                          USER_HOUSEHOLD   \n",
              "10                            USER_INCOME   \n",
              "\n",
              "                                                        COLUMN_DEFINATION  \n",
              "0                   The time the merchant was categorized by the customer  \n",
              "1                                                The name of the merchant  \n",
              "2                  The category the merchant was assigned by the customer  \n",
              "3                          The value of the purchase made by the customer  \n",
              "4                                          The time the purchase was made  \n",
              "5   If true indicates that the merchant is not a registered business name  \n",
              "6                                               The email of the customer  \n",
              "7                                                 The age of the customer  \n",
              "8                                              The gender of the customer  \n",
              "9                                            The number of family members  \n",
              "10                                     The monthly income of the customer  "
            ],
            "text/html": [
              "\n",
              "  <div id=\"df-ba5772c3-54bf-4c4f-876f-eee891286ed8\">\n",
              "    <div class=\"colab-df-container\">\n",
              "      <div>\n",
              "<style scoped>\n",
              "    .dataframe tbody tr th:only-of-type {\n",
              "        vertical-align: middle;\n",
              "    }\n",
              "\n",
              "    .dataframe tbody tr th {\n",
              "        vertical-align: top;\n",
              "    }\n",
              "\n",
              "    .dataframe thead th {\n",
              "        text-align: right;\n",
              "    }\n",
              "</style>\n",
              "<table border=\"1\" class=\"dataframe\">\n",
              "  <thead>\n",
              "    <tr style=\"text-align: right;\">\n",
              "      <th></th>\n",
              "      <th>COLUMN_NAME</th>\n",
              "      <th>COLUMN_DEFINATION</th>\n",
              "    </tr>\n",
              "  </thead>\n",
              "  <tbody>\n",
              "    <tr>\n",
              "      <th>0</th>\n",
              "      <td>MERCHANT_CATEGORIZED_AT</td>\n",
              "      <td>The time the merchant was categorized by the customer</td>\n",
              "    </tr>\n",
              "    <tr>\n",
              "      <th>1</th>\n",
              "      <td>MERCHANT_NAME</td>\n",
              "      <td>The name of the merchant</td>\n",
              "    </tr>\n",
              "    <tr>\n",
              "      <th>2</th>\n",
              "      <td>MERCHANT_CATEGORIZED_AS</td>\n",
              "      <td>The category the merchant was assigned by the customer</td>\n",
              "    </tr>\n",
              "    <tr>\n",
              "      <th>3</th>\n",
              "      <td>PURCHASE_VALUE</td>\n",
              "      <td>The value of the purchase made by the customer</td>\n",
              "    </tr>\n",
              "    <tr>\n",
              "      <th>4</th>\n",
              "      <td>PURCHASED_AT</td>\n",
              "      <td>The time the purchase was made</td>\n",
              "    </tr>\n",
              "    <tr>\n",
              "      <th>5</th>\n",
              "      <td>IS_PURCHASE_PAID_VIA_MPESA_SEND_MONEY</td>\n",
              "      <td>If true indicates that the merchant is not a registered business name</td>\n",
              "    </tr>\n",
              "    <tr>\n",
              "      <th>6</th>\n",
              "      <td>USER_EMAIL</td>\n",
              "      <td>The email of the customer</td>\n",
              "    </tr>\n",
              "    <tr>\n",
              "      <th>7</th>\n",
              "      <td>USER_AGE</td>\n",
              "      <td>The age of the customer</td>\n",
              "    </tr>\n",
              "    <tr>\n",
              "      <th>8</th>\n",
              "      <td>USER_GENDER</td>\n",
              "      <td>The gender of the customer</td>\n",
              "    </tr>\n",
              "    <tr>\n",
              "      <th>9</th>\n",
              "      <td>USER_HOUSEHOLD</td>\n",
              "      <td>The number of family members</td>\n",
              "    </tr>\n",
              "    <tr>\n",
              "      <th>10</th>\n",
              "      <td>USER_INCOME</td>\n",
              "      <td>The monthly income of the customer</td>\n",
              "    </tr>\n",
              "  </tbody>\n",
              "</table>\n",
              "</div>\n",
              "      <button class=\"colab-df-convert\" onclick=\"convertToInteractive('df-ba5772c3-54bf-4c4f-876f-eee891286ed8')\"\n",
              "              title=\"Convert this dataframe to an interactive table.\"\n",
              "              style=\"display:none;\">\n",
              "        \n",
              "  <svg xmlns=\"http://www.w3.org/2000/svg\" height=\"24px\"viewBox=\"0 0 24 24\"\n",
              "       width=\"24px\">\n",
              "    <path d=\"M0 0h24v24H0V0z\" fill=\"none\"/>\n",
              "    <path d=\"M18.56 5.44l.94 2.06.94-2.06 2.06-.94-2.06-.94-.94-2.06-.94 2.06-2.06.94zm-11 1L8.5 8.5l.94-2.06 2.06-.94-2.06-.94L8.5 2.5l-.94 2.06-2.06.94zm10 10l.94 2.06.94-2.06 2.06-.94-2.06-.94-.94-2.06-.94 2.06-2.06.94z\"/><path d=\"M17.41 7.96l-1.37-1.37c-.4-.4-.92-.59-1.43-.59-.52 0-1.04.2-1.43.59L10.3 9.45l-7.72 7.72c-.78.78-.78 2.05 0 2.83L4 21.41c.39.39.9.59 1.41.59.51 0 1.02-.2 1.41-.59l7.78-7.78 2.81-2.81c.8-.78.8-2.07 0-2.86zM5.41 20L4 18.59l7.72-7.72 1.47 1.35L5.41 20z\"/>\n",
              "  </svg>\n",
              "      </button>\n",
              "      \n",
              "  <style>\n",
              "    .colab-df-container {\n",
              "      display:flex;\n",
              "      flex-wrap:wrap;\n",
              "      gap: 12px;\n",
              "    }\n",
              "\n",
              "    .colab-df-convert {\n",
              "      background-color: #E8F0FE;\n",
              "      border: none;\n",
              "      border-radius: 50%;\n",
              "      cursor: pointer;\n",
              "      display: none;\n",
              "      fill: #1967D2;\n",
              "      height: 32px;\n",
              "      padding: 0 0 0 0;\n",
              "      width: 32px;\n",
              "    }\n",
              "\n",
              "    .colab-df-convert:hover {\n",
              "      background-color: #E2EBFA;\n",
              "      box-shadow: 0px 1px 2px rgba(60, 64, 67, 0.3), 0px 1px 3px 1px rgba(60, 64, 67, 0.15);\n",
              "      fill: #174EA6;\n",
              "    }\n",
              "\n",
              "    [theme=dark] .colab-df-convert {\n",
              "      background-color: #3B4455;\n",
              "      fill: #D2E3FC;\n",
              "    }\n",
              "\n",
              "    [theme=dark] .colab-df-convert:hover {\n",
              "      background-color: #434B5C;\n",
              "      box-shadow: 0px 1px 3px 1px rgba(0, 0, 0, 0.15);\n",
              "      filter: drop-shadow(0px 1px 2px rgba(0, 0, 0, 0.3));\n",
              "      fill: #FFFFFF;\n",
              "    }\n",
              "  </style>\n",
              "\n",
              "      <script>\n",
              "        const buttonEl =\n",
              "          document.querySelector('#df-ba5772c3-54bf-4c4f-876f-eee891286ed8 button.colab-df-convert');\n",
              "        buttonEl.style.display =\n",
              "          google.colab.kernel.accessAllowed ? 'block' : 'none';\n",
              "\n",
              "        async function convertToInteractive(key) {\n",
              "          const element = document.querySelector('#df-ba5772c3-54bf-4c4f-876f-eee891286ed8');\n",
              "          const dataTable =\n",
              "            await google.colab.kernel.invokeFunction('convertToInteractive',\n",
              "                                                     [key], {});\n",
              "          if (!dataTable) return;\n",
              "\n",
              "          const docLinkHtml = 'Like what you see? Visit the ' +\n",
              "            '<a target=\"_blank\" href=https://colab.research.google.com/notebooks/data_table.ipynb>data table notebook</a>'\n",
              "            + ' to learn more about interactive tables.';\n",
              "          element.innerHTML = '';\n",
              "          dataTable['output_type'] = 'display_data';\n",
              "          await google.colab.output.renderOutput(dataTable, element);\n",
              "          const docLink = document.createElement('div');\n",
              "          docLink.innerHTML = docLinkHtml;\n",
              "          element.appendChild(docLink);\n",
              "        }\n",
              "      </script>\n",
              "    </div>\n",
              "  </div>\n",
              "  "
            ]
          },
          "metadata": {},
          "execution_count": 7
        }
      ],
      "source": [
        "pd.set_option('display.max_colwidth',200)\n",
        "var_def = pd.read_csv('/content/VariableDefinitions.csv')\n",
        "var_def"
      ]
    },
    {
      "cell_type": "code",
      "execution_count": null,
      "metadata": {
        "colab": {
          "base_uri": "https://localhost:8080/",
          "height": 670
        },
        "id": "aeKToQ98lOVe",
        "outputId": "05c4a875-e6fd-4bf8-8aed-b84a6946f23c"
      },
      "outputs": [
        {
          "output_type": "execute_result",
          "data": {
            "text/plain": [
              "           MERCHANT_CATEGORIZED_AT                      MERCHANT_NAME  \\\n",
              "0 2022-05-04 10:25:50.588042+00:00  UONSDA CHURCH  MOGERE MWAYO TITHE   \n",
              "1 2021-10-25 16:18:38.586837+00:00                          PARK N GO   \n",
              "2 2022-05-20 14:17:30.917297+00:00         SAFARICOM OFFERS  TUNUKIWA   \n",
              "3 2022-04-12 15:59:14.139347+00:00            ZILLIONS CREDIT LIMITED   \n",
              "4 2022-05-04 10:24:26.709045+00:00                    MICHAEL MUSEMBI   \n",
              "5 2022-01-07 09:41:44.286084+00:00                     JOSEPH NTHENGE   \n",
              "6 2021-10-05 12:45:58.000193+00:00                   NAIVAS KITENGELA   \n",
              "7 2022-05-13 06:55:53.403538+00:00                       FATUMA OSORE   \n",
              "8 2022-05-31 13:27:24.704992+00:00                   FARMERS BUTCHERY   \n",
              "9 2022-06-01 10:25:16.713100+00:00                   M-SHWARI ACCOUNT   \n",
              "\n",
              "  MERCHANT_CATEGORIZED_AS  PURCHASE_VALUE              PURCHASED_AT  \\\n",
              "0         Rent / Mortgage            1700 2022-05-04 13:56:00+00:00   \n",
              "1        Transport & Fuel             100 2021-10-24 14:12:00+00:00   \n",
              "2             Data & WiFi              20 2022-05-27 12:46:00+00:00   \n",
              "3          Loan Repayment            3800 2022-02-07 12:16:00+00:00   \n",
              "4            Bills & Fees              60 2022-05-04 15:28:00+00:00   \n",
              "5           Miscellaneous           14800 2022-01-08 12:56:00+00:00   \n",
              "6               Groceries             657 2021-10-06 17:11:00+00:00   \n",
              "7            Bills & Fees             100 2022-05-13 14:04:00+00:00   \n",
              "8                Shopping            1600 2022-02-19 10:34:00+00:00   \n",
              "9            Bills & Fees            1000 2022-06-02 06:42:00+00:00   \n",
              "\n",
              "   IS_PURCHASE_PAID_VIA_MPESA_SEND_MONEY  USER_AGE USER_GENDER  \\\n",
              "0                                  False       NaN        Male   \n",
              "1                                  False      25.0      Female   \n",
              "2                                  False       NaN        Male   \n",
              "3                                  False       NaN        Male   \n",
              "4                                  False       NaN        Male   \n",
              "5                                   True      27.0      Female   \n",
              "6                                  False      25.0      Female   \n",
              "7                                  False       NaN        Male   \n",
              "8                                  False       NaN        Male   \n",
              "9                                  False       NaN        Male   \n",
              "\n",
              "   USER_HOUSEHOLD  USER_INCOME      USER_ID Transaction_ID  \n",
              "0               3        10000  ID_ZX4DCF4K    ID_04mk78fa  \n",
              "1               4        90000  ID_U9WZMGJZ    ID_04xkfb07  \n",
              "2               3        10000  ID_ZX4DCF4K    ID_051urwuw  \n",
              "3               5       252000  ID_3JA0MAFB    ID_0e1om7rz  \n",
              "4               3        10000  ID_ZX4DCF4K    ID_0kfcoawb  \n",
              "5               2         8000  ID_L8QMYB09    ID_0ntvo3wr  \n",
              "6               4        90000  ID_U9WZMGJZ    ID_0vakiykh  \n",
              "7               3        10000  ID_ZX4DCF4K    ID_0vhidyto  \n",
              "8               5       150000  ID_O8P8YS18    ID_0wnir1ur  \n",
              "9               3        10000  ID_ZX4DCF4K    ID_0xrs122b  "
            ],
            "text/html": [
              "\n",
              "  <div id=\"df-376e2309-f6b9-44c5-85c0-1acd8bb2837a\">\n",
              "    <div class=\"colab-df-container\">\n",
              "      <div>\n",
              "<style scoped>\n",
              "    .dataframe tbody tr th:only-of-type {\n",
              "        vertical-align: middle;\n",
              "    }\n",
              "\n",
              "    .dataframe tbody tr th {\n",
              "        vertical-align: top;\n",
              "    }\n",
              "\n",
              "    .dataframe thead th {\n",
              "        text-align: right;\n",
              "    }\n",
              "</style>\n",
              "<table border=\"1\" class=\"dataframe\">\n",
              "  <thead>\n",
              "    <tr style=\"text-align: right;\">\n",
              "      <th></th>\n",
              "      <th>MERCHANT_CATEGORIZED_AT</th>\n",
              "      <th>MERCHANT_NAME</th>\n",
              "      <th>MERCHANT_CATEGORIZED_AS</th>\n",
              "      <th>PURCHASE_VALUE</th>\n",
              "      <th>PURCHASED_AT</th>\n",
              "      <th>IS_PURCHASE_PAID_VIA_MPESA_SEND_MONEY</th>\n",
              "      <th>USER_AGE</th>\n",
              "      <th>USER_GENDER</th>\n",
              "      <th>USER_HOUSEHOLD</th>\n",
              "      <th>USER_INCOME</th>\n",
              "      <th>USER_ID</th>\n",
              "      <th>Transaction_ID</th>\n",
              "    </tr>\n",
              "  </thead>\n",
              "  <tbody>\n",
              "    <tr>\n",
              "      <th>0</th>\n",
              "      <td>2022-05-04 10:25:50.588042+00:00</td>\n",
              "      <td>UONSDA CHURCH  MOGERE MWAYO TITHE</td>\n",
              "      <td>Rent / Mortgage</td>\n",
              "      <td>1700</td>\n",
              "      <td>2022-05-04 13:56:00+00:00</td>\n",
              "      <td>False</td>\n",
              "      <td>NaN</td>\n",
              "      <td>Male</td>\n",
              "      <td>3</td>\n",
              "      <td>10000</td>\n",
              "      <td>ID_ZX4DCF4K</td>\n",
              "      <td>ID_04mk78fa</td>\n",
              "    </tr>\n",
              "    <tr>\n",
              "      <th>1</th>\n",
              "      <td>2021-10-25 16:18:38.586837+00:00</td>\n",
              "      <td>PARK N GO</td>\n",
              "      <td>Transport &amp; Fuel</td>\n",
              "      <td>100</td>\n",
              "      <td>2021-10-24 14:12:00+00:00</td>\n",
              "      <td>False</td>\n",
              "      <td>25.0</td>\n",
              "      <td>Female</td>\n",
              "      <td>4</td>\n",
              "      <td>90000</td>\n",
              "      <td>ID_U9WZMGJZ</td>\n",
              "      <td>ID_04xkfb07</td>\n",
              "    </tr>\n",
              "    <tr>\n",
              "      <th>2</th>\n",
              "      <td>2022-05-20 14:17:30.917297+00:00</td>\n",
              "      <td>SAFARICOM OFFERS  TUNUKIWA</td>\n",
              "      <td>Data &amp; WiFi</td>\n",
              "      <td>20</td>\n",
              "      <td>2022-05-27 12:46:00+00:00</td>\n",
              "      <td>False</td>\n",
              "      <td>NaN</td>\n",
              "      <td>Male</td>\n",
              "      <td>3</td>\n",
              "      <td>10000</td>\n",
              "      <td>ID_ZX4DCF4K</td>\n",
              "      <td>ID_051urwuw</td>\n",
              "    </tr>\n",
              "    <tr>\n",
              "      <th>3</th>\n",
              "      <td>2022-04-12 15:59:14.139347+00:00</td>\n",
              "      <td>ZILLIONS CREDIT LIMITED</td>\n",
              "      <td>Loan Repayment</td>\n",
              "      <td>3800</td>\n",
              "      <td>2022-02-07 12:16:00+00:00</td>\n",
              "      <td>False</td>\n",
              "      <td>NaN</td>\n",
              "      <td>Male</td>\n",
              "      <td>5</td>\n",
              "      <td>252000</td>\n",
              "      <td>ID_3JA0MAFB</td>\n",
              "      <td>ID_0e1om7rz</td>\n",
              "    </tr>\n",
              "    <tr>\n",
              "      <th>4</th>\n",
              "      <td>2022-05-04 10:24:26.709045+00:00</td>\n",
              "      <td>MICHAEL MUSEMBI</td>\n",
              "      <td>Bills &amp; Fees</td>\n",
              "      <td>60</td>\n",
              "      <td>2022-05-04 15:28:00+00:00</td>\n",
              "      <td>False</td>\n",
              "      <td>NaN</td>\n",
              "      <td>Male</td>\n",
              "      <td>3</td>\n",
              "      <td>10000</td>\n",
              "      <td>ID_ZX4DCF4K</td>\n",
              "      <td>ID_0kfcoawb</td>\n",
              "    </tr>\n",
              "    <tr>\n",
              "      <th>5</th>\n",
              "      <td>2022-01-07 09:41:44.286084+00:00</td>\n",
              "      <td>JOSEPH NTHENGE</td>\n",
              "      <td>Miscellaneous</td>\n",
              "      <td>14800</td>\n",
              "      <td>2022-01-08 12:56:00+00:00</td>\n",
              "      <td>True</td>\n",
              "      <td>27.0</td>\n",
              "      <td>Female</td>\n",
              "      <td>2</td>\n",
              "      <td>8000</td>\n",
              "      <td>ID_L8QMYB09</td>\n",
              "      <td>ID_0ntvo3wr</td>\n",
              "    </tr>\n",
              "    <tr>\n",
              "      <th>6</th>\n",
              "      <td>2021-10-05 12:45:58.000193+00:00</td>\n",
              "      <td>NAIVAS KITENGELA</td>\n",
              "      <td>Groceries</td>\n",
              "      <td>657</td>\n",
              "      <td>2021-10-06 17:11:00+00:00</td>\n",
              "      <td>False</td>\n",
              "      <td>25.0</td>\n",
              "      <td>Female</td>\n",
              "      <td>4</td>\n",
              "      <td>90000</td>\n",
              "      <td>ID_U9WZMGJZ</td>\n",
              "      <td>ID_0vakiykh</td>\n",
              "    </tr>\n",
              "    <tr>\n",
              "      <th>7</th>\n",
              "      <td>2022-05-13 06:55:53.403538+00:00</td>\n",
              "      <td>FATUMA OSORE</td>\n",
              "      <td>Bills &amp; Fees</td>\n",
              "      <td>100</td>\n",
              "      <td>2022-05-13 14:04:00+00:00</td>\n",
              "      <td>False</td>\n",
              "      <td>NaN</td>\n",
              "      <td>Male</td>\n",
              "      <td>3</td>\n",
              "      <td>10000</td>\n",
              "      <td>ID_ZX4DCF4K</td>\n",
              "      <td>ID_0vhidyto</td>\n",
              "    </tr>\n",
              "    <tr>\n",
              "      <th>8</th>\n",
              "      <td>2022-05-31 13:27:24.704992+00:00</td>\n",
              "      <td>FARMERS BUTCHERY</td>\n",
              "      <td>Shopping</td>\n",
              "      <td>1600</td>\n",
              "      <td>2022-02-19 10:34:00+00:00</td>\n",
              "      <td>False</td>\n",
              "      <td>NaN</td>\n",
              "      <td>Male</td>\n",
              "      <td>5</td>\n",
              "      <td>150000</td>\n",
              "      <td>ID_O8P8YS18</td>\n",
              "      <td>ID_0wnir1ur</td>\n",
              "    </tr>\n",
              "    <tr>\n",
              "      <th>9</th>\n",
              "      <td>2022-06-01 10:25:16.713100+00:00</td>\n",
              "      <td>M-SHWARI ACCOUNT</td>\n",
              "      <td>Bills &amp; Fees</td>\n",
              "      <td>1000</td>\n",
              "      <td>2022-06-02 06:42:00+00:00</td>\n",
              "      <td>False</td>\n",
              "      <td>NaN</td>\n",
              "      <td>Male</td>\n",
              "      <td>3</td>\n",
              "      <td>10000</td>\n",
              "      <td>ID_ZX4DCF4K</td>\n",
              "      <td>ID_0xrs122b</td>\n",
              "    </tr>\n",
              "  </tbody>\n",
              "</table>\n",
              "</div>\n",
              "      <button class=\"colab-df-convert\" onclick=\"convertToInteractive('df-376e2309-f6b9-44c5-85c0-1acd8bb2837a')\"\n",
              "              title=\"Convert this dataframe to an interactive table.\"\n",
              "              style=\"display:none;\">\n",
              "        \n",
              "  <svg xmlns=\"http://www.w3.org/2000/svg\" height=\"24px\"viewBox=\"0 0 24 24\"\n",
              "       width=\"24px\">\n",
              "    <path d=\"M0 0h24v24H0V0z\" fill=\"none\"/>\n",
              "    <path d=\"M18.56 5.44l.94 2.06.94-2.06 2.06-.94-2.06-.94-.94-2.06-.94 2.06-2.06.94zm-11 1L8.5 8.5l.94-2.06 2.06-.94-2.06-.94L8.5 2.5l-.94 2.06-2.06.94zm10 10l.94 2.06.94-2.06 2.06-.94-2.06-.94-.94-2.06-.94 2.06-2.06.94z\"/><path d=\"M17.41 7.96l-1.37-1.37c-.4-.4-.92-.59-1.43-.59-.52 0-1.04.2-1.43.59L10.3 9.45l-7.72 7.72c-.78.78-.78 2.05 0 2.83L4 21.41c.39.39.9.59 1.41.59.51 0 1.02-.2 1.41-.59l7.78-7.78 2.81-2.81c.8-.78.8-2.07 0-2.86zM5.41 20L4 18.59l7.72-7.72 1.47 1.35L5.41 20z\"/>\n",
              "  </svg>\n",
              "      </button>\n",
              "      \n",
              "  <style>\n",
              "    .colab-df-container {\n",
              "      display:flex;\n",
              "      flex-wrap:wrap;\n",
              "      gap: 12px;\n",
              "    }\n",
              "\n",
              "    .colab-df-convert {\n",
              "      background-color: #E8F0FE;\n",
              "      border: none;\n",
              "      border-radius: 50%;\n",
              "      cursor: pointer;\n",
              "      display: none;\n",
              "      fill: #1967D2;\n",
              "      height: 32px;\n",
              "      padding: 0 0 0 0;\n",
              "      width: 32px;\n",
              "    }\n",
              "\n",
              "    .colab-df-convert:hover {\n",
              "      background-color: #E2EBFA;\n",
              "      box-shadow: 0px 1px 2px rgba(60, 64, 67, 0.3), 0px 1px 3px 1px rgba(60, 64, 67, 0.15);\n",
              "      fill: #174EA6;\n",
              "    }\n",
              "\n",
              "    [theme=dark] .colab-df-convert {\n",
              "      background-color: #3B4455;\n",
              "      fill: #D2E3FC;\n",
              "    }\n",
              "\n",
              "    [theme=dark] .colab-df-convert:hover {\n",
              "      background-color: #434B5C;\n",
              "      box-shadow: 0px 1px 3px 1px rgba(0, 0, 0, 0.15);\n",
              "      filter: drop-shadow(0px 1px 2px rgba(0, 0, 0, 0.3));\n",
              "      fill: #FFFFFF;\n",
              "    }\n",
              "  </style>\n",
              "\n",
              "      <script>\n",
              "        const buttonEl =\n",
              "          document.querySelector('#df-376e2309-f6b9-44c5-85c0-1acd8bb2837a button.colab-df-convert');\n",
              "        buttonEl.style.display =\n",
              "          google.colab.kernel.accessAllowed ? 'block' : 'none';\n",
              "\n",
              "        async function convertToInteractive(key) {\n",
              "          const element = document.querySelector('#df-376e2309-f6b9-44c5-85c0-1acd8bb2837a');\n",
              "          const dataTable =\n",
              "            await google.colab.kernel.invokeFunction('convertToInteractive',\n",
              "                                                     [key], {});\n",
              "          if (!dataTable) return;\n",
              "\n",
              "          const docLinkHtml = 'Like what you see? Visit the ' +\n",
              "            '<a target=\"_blank\" href=https://colab.research.google.com/notebooks/data_table.ipynb>data table notebook</a>'\n",
              "            + ' to learn more about interactive tables.';\n",
              "          element.innerHTML = '';\n",
              "          dataTable['output_type'] = 'display_data';\n",
              "          await google.colab.output.renderOutput(dataTable, element);\n",
              "          const docLink = document.createElement('div');\n",
              "          docLink.innerHTML = docLinkHtml;\n",
              "          element.appendChild(docLink);\n",
              "        }\n",
              "      </script>\n",
              "    </div>\n",
              "  </div>\n",
              "  "
            ]
          },
          "metadata": {},
          "execution_count": 8
        }
      ],
      "source": [
        "# Inspect the training data\n",
        "train.head(10)"
      ]
    },
    {
      "cell_type": "code",
      "execution_count": null,
      "metadata": {
        "colab": {
          "base_uri": "https://localhost:8080/",
          "height": 357
        },
        "id": "jQNBM1_FeUHp",
        "outputId": "e7bae376-0183-4f8a-c62e-891549c9165f"
      },
      "outputs": [
        {
          "output_type": "execute_result",
          "data": {
            "text/plain": [
              "   MERCHANT_CATEGORIZED_AT MERCHANT_NAME  MERCHANT_CATEGORIZED_AS  \\\n",
              "0                      NaN  MARK NYABAYO                      NaN   \n",
              "1                      NaN   ACCESS AFYA                      NaN   \n",
              "2                      NaN           POA                      NaN   \n",
              "3                      NaN           POA                      NaN   \n",
              "4                      NaN   ACCESS AFYA                      NaN   \n",
              "\n",
              "   PURCHASE_VALUE            PURCHASED_AT  \\\n",
              "0              20  2021-03-22 12:37:00+00   \n",
              "1               1  2021-07-05 11:07:00+00   \n",
              "2            1500  2021-06-21 19:40:00+00   \n",
              "3            1500  2021-04-22 18:41:00+00   \n",
              "4               1  2021-07-29 13:03:00+00   \n",
              "\n",
              "   IS_PURCHASE_PAID_VIA_MPESA_SEND_MONEY  USER_AGE USER_GENDER  \\\n",
              "0                                  False       NaN         NaN   \n",
              "1                                  False       NaN         NaN   \n",
              "2                                  False       NaN         NaN   \n",
              "3                                  False       NaN         NaN   \n",
              "4                                  False       NaN         NaN   \n",
              "\n",
              "   USER_HOUSEHOLD  USER_INCOME      USER_ID Transaction_ID  \n",
              "0               1        10000  ID_R4T8Q46J    ID_v13grrw3  \n",
              "1               1        10000  ID_R4T8Q46J    ID_rgne8ij5  \n",
              "2               1        10000  ID_R4T8Q46J    ID_4i2b28b6  \n",
              "3               1        10000  ID_R4T8Q46J    ID_6dvi32yc  \n",
              "4               1        10000  ID_R4T8Q46J    ID_sfk1yxbm  "
            ],
            "text/html": [
              "\n",
              "  <div id=\"df-a268f77c-f067-4b6b-999a-72625aef9565\">\n",
              "    <div class=\"colab-df-container\">\n",
              "      <div>\n",
              "<style scoped>\n",
              "    .dataframe tbody tr th:only-of-type {\n",
              "        vertical-align: middle;\n",
              "    }\n",
              "\n",
              "    .dataframe tbody tr th {\n",
              "        vertical-align: top;\n",
              "    }\n",
              "\n",
              "    .dataframe thead th {\n",
              "        text-align: right;\n",
              "    }\n",
              "</style>\n",
              "<table border=\"1\" class=\"dataframe\">\n",
              "  <thead>\n",
              "    <tr style=\"text-align: right;\">\n",
              "      <th></th>\n",
              "      <th>MERCHANT_CATEGORIZED_AT</th>\n",
              "      <th>MERCHANT_NAME</th>\n",
              "      <th>MERCHANT_CATEGORIZED_AS</th>\n",
              "      <th>PURCHASE_VALUE</th>\n",
              "      <th>PURCHASED_AT</th>\n",
              "      <th>IS_PURCHASE_PAID_VIA_MPESA_SEND_MONEY</th>\n",
              "      <th>USER_AGE</th>\n",
              "      <th>USER_GENDER</th>\n",
              "      <th>USER_HOUSEHOLD</th>\n",
              "      <th>USER_INCOME</th>\n",
              "      <th>USER_ID</th>\n",
              "      <th>Transaction_ID</th>\n",
              "    </tr>\n",
              "  </thead>\n",
              "  <tbody>\n",
              "    <tr>\n",
              "      <th>0</th>\n",
              "      <td>NaN</td>\n",
              "      <td>MARK NYABAYO</td>\n",
              "      <td>NaN</td>\n",
              "      <td>20</td>\n",
              "      <td>2021-03-22 12:37:00+00</td>\n",
              "      <td>False</td>\n",
              "      <td>NaN</td>\n",
              "      <td>NaN</td>\n",
              "      <td>1</td>\n",
              "      <td>10000</td>\n",
              "      <td>ID_R4T8Q46J</td>\n",
              "      <td>ID_v13grrw3</td>\n",
              "    </tr>\n",
              "    <tr>\n",
              "      <th>1</th>\n",
              "      <td>NaN</td>\n",
              "      <td>ACCESS AFYA</td>\n",
              "      <td>NaN</td>\n",
              "      <td>1</td>\n",
              "      <td>2021-07-05 11:07:00+00</td>\n",
              "      <td>False</td>\n",
              "      <td>NaN</td>\n",
              "      <td>NaN</td>\n",
              "      <td>1</td>\n",
              "      <td>10000</td>\n",
              "      <td>ID_R4T8Q46J</td>\n",
              "      <td>ID_rgne8ij5</td>\n",
              "    </tr>\n",
              "    <tr>\n",
              "      <th>2</th>\n",
              "      <td>NaN</td>\n",
              "      <td>POA</td>\n",
              "      <td>NaN</td>\n",
              "      <td>1500</td>\n",
              "      <td>2021-06-21 19:40:00+00</td>\n",
              "      <td>False</td>\n",
              "      <td>NaN</td>\n",
              "      <td>NaN</td>\n",
              "      <td>1</td>\n",
              "      <td>10000</td>\n",
              "      <td>ID_R4T8Q46J</td>\n",
              "      <td>ID_4i2b28b6</td>\n",
              "    </tr>\n",
              "    <tr>\n",
              "      <th>3</th>\n",
              "      <td>NaN</td>\n",
              "      <td>POA</td>\n",
              "      <td>NaN</td>\n",
              "      <td>1500</td>\n",
              "      <td>2021-04-22 18:41:00+00</td>\n",
              "      <td>False</td>\n",
              "      <td>NaN</td>\n",
              "      <td>NaN</td>\n",
              "      <td>1</td>\n",
              "      <td>10000</td>\n",
              "      <td>ID_R4T8Q46J</td>\n",
              "      <td>ID_6dvi32yc</td>\n",
              "    </tr>\n",
              "    <tr>\n",
              "      <th>4</th>\n",
              "      <td>NaN</td>\n",
              "      <td>ACCESS AFYA</td>\n",
              "      <td>NaN</td>\n",
              "      <td>1</td>\n",
              "      <td>2021-07-29 13:03:00+00</td>\n",
              "      <td>False</td>\n",
              "      <td>NaN</td>\n",
              "      <td>NaN</td>\n",
              "      <td>1</td>\n",
              "      <td>10000</td>\n",
              "      <td>ID_R4T8Q46J</td>\n",
              "      <td>ID_sfk1yxbm</td>\n",
              "    </tr>\n",
              "  </tbody>\n",
              "</table>\n",
              "</div>\n",
              "      <button class=\"colab-df-convert\" onclick=\"convertToInteractive('df-a268f77c-f067-4b6b-999a-72625aef9565')\"\n",
              "              title=\"Convert this dataframe to an interactive table.\"\n",
              "              style=\"display:none;\">\n",
              "        \n",
              "  <svg xmlns=\"http://www.w3.org/2000/svg\" height=\"24px\"viewBox=\"0 0 24 24\"\n",
              "       width=\"24px\">\n",
              "    <path d=\"M0 0h24v24H0V0z\" fill=\"none\"/>\n",
              "    <path d=\"M18.56 5.44l.94 2.06.94-2.06 2.06-.94-2.06-.94-.94-2.06-.94 2.06-2.06.94zm-11 1L8.5 8.5l.94-2.06 2.06-.94-2.06-.94L8.5 2.5l-.94 2.06-2.06.94zm10 10l.94 2.06.94-2.06 2.06-.94-2.06-.94-.94-2.06-.94 2.06-2.06.94z\"/><path d=\"M17.41 7.96l-1.37-1.37c-.4-.4-.92-.59-1.43-.59-.52 0-1.04.2-1.43.59L10.3 9.45l-7.72 7.72c-.78.78-.78 2.05 0 2.83L4 21.41c.39.39.9.59 1.41.59.51 0 1.02-.2 1.41-.59l7.78-7.78 2.81-2.81c.8-.78.8-2.07 0-2.86zM5.41 20L4 18.59l7.72-7.72 1.47 1.35L5.41 20z\"/>\n",
              "  </svg>\n",
              "      </button>\n",
              "      \n",
              "  <style>\n",
              "    .colab-df-container {\n",
              "      display:flex;\n",
              "      flex-wrap:wrap;\n",
              "      gap: 12px;\n",
              "    }\n",
              "\n",
              "    .colab-df-convert {\n",
              "      background-color: #E8F0FE;\n",
              "      border: none;\n",
              "      border-radius: 50%;\n",
              "      cursor: pointer;\n",
              "      display: none;\n",
              "      fill: #1967D2;\n",
              "      height: 32px;\n",
              "      padding: 0 0 0 0;\n",
              "      width: 32px;\n",
              "    }\n",
              "\n",
              "    .colab-df-convert:hover {\n",
              "      background-color: #E2EBFA;\n",
              "      box-shadow: 0px 1px 2px rgba(60, 64, 67, 0.3), 0px 1px 3px 1px rgba(60, 64, 67, 0.15);\n",
              "      fill: #174EA6;\n",
              "    }\n",
              "\n",
              "    [theme=dark] .colab-df-convert {\n",
              "      background-color: #3B4455;\n",
              "      fill: #D2E3FC;\n",
              "    }\n",
              "\n",
              "    [theme=dark] .colab-df-convert:hover {\n",
              "      background-color: #434B5C;\n",
              "      box-shadow: 0px 1px 3px 1px rgba(0, 0, 0, 0.15);\n",
              "      filter: drop-shadow(0px 1px 2px rgba(0, 0, 0, 0.3));\n",
              "      fill: #FFFFFF;\n",
              "    }\n",
              "  </style>\n",
              "\n",
              "      <script>\n",
              "        const buttonEl =\n",
              "          document.querySelector('#df-a268f77c-f067-4b6b-999a-72625aef9565 button.colab-df-convert');\n",
              "        buttonEl.style.display =\n",
              "          google.colab.kernel.accessAllowed ? 'block' : 'none';\n",
              "\n",
              "        async function convertToInteractive(key) {\n",
              "          const element = document.querySelector('#df-a268f77c-f067-4b6b-999a-72625aef9565');\n",
              "          const dataTable =\n",
              "            await google.colab.kernel.invokeFunction('convertToInteractive',\n",
              "                                                     [key], {});\n",
              "          if (!dataTable) return;\n",
              "\n",
              "          const docLinkHtml = 'Like what you see? Visit the ' +\n",
              "            '<a target=\"_blank\" href=https://colab.research.google.com/notebooks/data_table.ipynb>data table notebook</a>'\n",
              "            + ' to learn more about interactive tables.';\n",
              "          element.innerHTML = '';\n",
              "          dataTable['output_type'] = 'display_data';\n",
              "          await google.colab.output.renderOutput(dataTable, element);\n",
              "          const docLink = document.createElement('div');\n",
              "          docLink.innerHTML = docLinkHtml;\n",
              "          element.appendChild(docLink);\n",
              "        }\n",
              "      </script>\n",
              "    </div>\n",
              "  </div>\n",
              "  "
            ]
          },
          "metadata": {},
          "execution_count": 9
        }
      ],
      "source": [
        "ext_data.head()"
      ]
    },
    {
      "cell_type": "code",
      "execution_count": null,
      "metadata": {
        "colab": {
          "base_uri": "https://localhost:8080/"
        },
        "id": "Y0Un8fQN3z5Z",
        "outputId": "cddd5c25-0762-482d-e7f8-e89516daf88d"
      },
      "outputs": [
        {
          "output_type": "execute_result",
          "data": {
            "text/plain": [
              "MERCHANT_CATEGORIZED_AT                  10000\n",
              "MERCHANT_NAME                                0\n",
              "MERCHANT_CATEGORIZED_AS                  10000\n",
              "PURCHASE_VALUE                               0\n",
              "PURCHASED_AT                                 0\n",
              "IS_PURCHASE_PAID_VIA_MPESA_SEND_MONEY        0\n",
              "USER_AGE                                  8842\n",
              "USER_GENDER                                 34\n",
              "USER_HOUSEHOLD                               0\n",
              "USER_INCOME                                  0\n",
              "USER_ID                                      0\n",
              "Transaction_ID                               0\n",
              "dtype: int64"
            ]
          },
          "metadata": {},
          "execution_count": 10
        }
      ],
      "source": [
        "ext_data.isnull().sum()"
      ]
    },
    {
      "cell_type": "markdown",
      "metadata": {
        "id": "Lp2Ci3uLtN_C"
      },
      "source": [
        "It is important to understand the meaning of each feature so you can really understand the dataset. You can read the VariableDefinition.csv file to understand the meaning of each variable presented in the dataset.\n",
        "\n",
        "The SampleSubmission.csv gives us an example of what our submission file should look like. This file will contain the unique id column combined with the merchant name from the Test.csv file and the target we predict with our model. Once we have created this file, we will submit it to the competition page and obtain a position on the leaderboard."
      ]
    },
    {
      "cell_type": "code",
      "execution_count": null,
      "metadata": {
        "colab": {
          "base_uri": "https://localhost:8080/",
          "height": 305
        },
        "id": "fhD55_f3tYAE",
        "outputId": "33c8a5cf-fe01-4cfa-e15d-c1c4fac225d3"
      },
      "outputs": [
        {
          "output_type": "execute_result",
          "data": {
            "text/plain": [
              "  Transaction_ID  Bills & Fees  Data & WiFi  Education  Emergency fund  \\\n",
              "0    ID_00x9h2yx             0            0          0               0   \n",
              "1    ID_01db594f             0            0          0               0   \n",
              "2    ID_07pm99no             0            0          0               0   \n",
              "3    ID_09jryhkd             0            0          0               0   \n",
              "4    ID_0ccv924c             0            0          0               0   \n",
              "\n",
              "   Family & Friends  Going out  Groceries  Health  Loan Repayment  \\\n",
              "0                 0          0          0       0               0   \n",
              "1                 0          0          0       0               0   \n",
              "2                 0          0          0       0               0   \n",
              "3                 0          0          0       0               0   \n",
              "4                 0          0          0       0               0   \n",
              "\n",
              "   Miscellaneous  Rent / Mortgage  Shopping  Transport & Fuel  \n",
              "0              0                0         0                 0  \n",
              "1              0                0         0                 0  \n",
              "2              0                0         0                 0  \n",
              "3              0                0         0                 0  \n",
              "4              0                0         0                 0  "
            ],
            "text/html": [
              "\n",
              "  <div id=\"df-75322f6e-99a2-4c98-a699-f60dfaa7d2e2\">\n",
              "    <div class=\"colab-df-container\">\n",
              "      <div>\n",
              "<style scoped>\n",
              "    .dataframe tbody tr th:only-of-type {\n",
              "        vertical-align: middle;\n",
              "    }\n",
              "\n",
              "    .dataframe tbody tr th {\n",
              "        vertical-align: top;\n",
              "    }\n",
              "\n",
              "    .dataframe thead th {\n",
              "        text-align: right;\n",
              "    }\n",
              "</style>\n",
              "<table border=\"1\" class=\"dataframe\">\n",
              "  <thead>\n",
              "    <tr style=\"text-align: right;\">\n",
              "      <th></th>\n",
              "      <th>Transaction_ID</th>\n",
              "      <th>Bills &amp; Fees</th>\n",
              "      <th>Data &amp; WiFi</th>\n",
              "      <th>Education</th>\n",
              "      <th>Emergency fund</th>\n",
              "      <th>Family &amp; Friends</th>\n",
              "      <th>Going out</th>\n",
              "      <th>Groceries</th>\n",
              "      <th>Health</th>\n",
              "      <th>Loan Repayment</th>\n",
              "      <th>Miscellaneous</th>\n",
              "      <th>Rent / Mortgage</th>\n",
              "      <th>Shopping</th>\n",
              "      <th>Transport &amp; Fuel</th>\n",
              "    </tr>\n",
              "  </thead>\n",
              "  <tbody>\n",
              "    <tr>\n",
              "      <th>0</th>\n",
              "      <td>ID_00x9h2yx</td>\n",
              "      <td>0</td>\n",
              "      <td>0</td>\n",
              "      <td>0</td>\n",
              "      <td>0</td>\n",
              "      <td>0</td>\n",
              "      <td>0</td>\n",
              "      <td>0</td>\n",
              "      <td>0</td>\n",
              "      <td>0</td>\n",
              "      <td>0</td>\n",
              "      <td>0</td>\n",
              "      <td>0</td>\n",
              "      <td>0</td>\n",
              "    </tr>\n",
              "    <tr>\n",
              "      <th>1</th>\n",
              "      <td>ID_01db594f</td>\n",
              "      <td>0</td>\n",
              "      <td>0</td>\n",
              "      <td>0</td>\n",
              "      <td>0</td>\n",
              "      <td>0</td>\n",
              "      <td>0</td>\n",
              "      <td>0</td>\n",
              "      <td>0</td>\n",
              "      <td>0</td>\n",
              "      <td>0</td>\n",
              "      <td>0</td>\n",
              "      <td>0</td>\n",
              "      <td>0</td>\n",
              "    </tr>\n",
              "    <tr>\n",
              "      <th>2</th>\n",
              "      <td>ID_07pm99no</td>\n",
              "      <td>0</td>\n",
              "      <td>0</td>\n",
              "      <td>0</td>\n",
              "      <td>0</td>\n",
              "      <td>0</td>\n",
              "      <td>0</td>\n",
              "      <td>0</td>\n",
              "      <td>0</td>\n",
              "      <td>0</td>\n",
              "      <td>0</td>\n",
              "      <td>0</td>\n",
              "      <td>0</td>\n",
              "      <td>0</td>\n",
              "    </tr>\n",
              "    <tr>\n",
              "      <th>3</th>\n",
              "      <td>ID_09jryhkd</td>\n",
              "      <td>0</td>\n",
              "      <td>0</td>\n",
              "      <td>0</td>\n",
              "      <td>0</td>\n",
              "      <td>0</td>\n",
              "      <td>0</td>\n",
              "      <td>0</td>\n",
              "      <td>0</td>\n",
              "      <td>0</td>\n",
              "      <td>0</td>\n",
              "      <td>0</td>\n",
              "      <td>0</td>\n",
              "      <td>0</td>\n",
              "    </tr>\n",
              "    <tr>\n",
              "      <th>4</th>\n",
              "      <td>ID_0ccv924c</td>\n",
              "      <td>0</td>\n",
              "      <td>0</td>\n",
              "      <td>0</td>\n",
              "      <td>0</td>\n",
              "      <td>0</td>\n",
              "      <td>0</td>\n",
              "      <td>0</td>\n",
              "      <td>0</td>\n",
              "      <td>0</td>\n",
              "      <td>0</td>\n",
              "      <td>0</td>\n",
              "      <td>0</td>\n",
              "      <td>0</td>\n",
              "    </tr>\n",
              "  </tbody>\n",
              "</table>\n",
              "</div>\n",
              "      <button class=\"colab-df-convert\" onclick=\"convertToInteractive('df-75322f6e-99a2-4c98-a699-f60dfaa7d2e2')\"\n",
              "              title=\"Convert this dataframe to an interactive table.\"\n",
              "              style=\"display:none;\">\n",
              "        \n",
              "  <svg xmlns=\"http://www.w3.org/2000/svg\" height=\"24px\"viewBox=\"0 0 24 24\"\n",
              "       width=\"24px\">\n",
              "    <path d=\"M0 0h24v24H0V0z\" fill=\"none\"/>\n",
              "    <path d=\"M18.56 5.44l.94 2.06.94-2.06 2.06-.94-2.06-.94-.94-2.06-.94 2.06-2.06.94zm-11 1L8.5 8.5l.94-2.06 2.06-.94-2.06-.94L8.5 2.5l-.94 2.06-2.06.94zm10 10l.94 2.06.94-2.06 2.06-.94-2.06-.94-.94-2.06-.94 2.06-2.06.94z\"/><path d=\"M17.41 7.96l-1.37-1.37c-.4-.4-.92-.59-1.43-.59-.52 0-1.04.2-1.43.59L10.3 9.45l-7.72 7.72c-.78.78-.78 2.05 0 2.83L4 21.41c.39.39.9.59 1.41.59.51 0 1.02-.2 1.41-.59l7.78-7.78 2.81-2.81c.8-.78.8-2.07 0-2.86zM5.41 20L4 18.59l7.72-7.72 1.47 1.35L5.41 20z\"/>\n",
              "  </svg>\n",
              "      </button>\n",
              "      \n",
              "  <style>\n",
              "    .colab-df-container {\n",
              "      display:flex;\n",
              "      flex-wrap:wrap;\n",
              "      gap: 12px;\n",
              "    }\n",
              "\n",
              "    .colab-df-convert {\n",
              "      background-color: #E8F0FE;\n",
              "      border: none;\n",
              "      border-radius: 50%;\n",
              "      cursor: pointer;\n",
              "      display: none;\n",
              "      fill: #1967D2;\n",
              "      height: 32px;\n",
              "      padding: 0 0 0 0;\n",
              "      width: 32px;\n",
              "    }\n",
              "\n",
              "    .colab-df-convert:hover {\n",
              "      background-color: #E2EBFA;\n",
              "      box-shadow: 0px 1px 2px rgba(60, 64, 67, 0.3), 0px 1px 3px 1px rgba(60, 64, 67, 0.15);\n",
              "      fill: #174EA6;\n",
              "    }\n",
              "\n",
              "    [theme=dark] .colab-df-convert {\n",
              "      background-color: #3B4455;\n",
              "      fill: #D2E3FC;\n",
              "    }\n",
              "\n",
              "    [theme=dark] .colab-df-convert:hover {\n",
              "      background-color: #434B5C;\n",
              "      box-shadow: 0px 1px 3px 1px rgba(0, 0, 0, 0.15);\n",
              "      filter: drop-shadow(0px 1px 2px rgba(0, 0, 0, 0.3));\n",
              "      fill: #FFFFFF;\n",
              "    }\n",
              "  </style>\n",
              "\n",
              "      <script>\n",
              "        const buttonEl =\n",
              "          document.querySelector('#df-75322f6e-99a2-4c98-a699-f60dfaa7d2e2 button.colab-df-convert');\n",
              "        buttonEl.style.display =\n",
              "          google.colab.kernel.accessAllowed ? 'block' : 'none';\n",
              "\n",
              "        async function convertToInteractive(key) {\n",
              "          const element = document.querySelector('#df-75322f6e-99a2-4c98-a699-f60dfaa7d2e2');\n",
              "          const dataTable =\n",
              "            await google.colab.kernel.invokeFunction('convertToInteractive',\n",
              "                                                     [key], {});\n",
              "          if (!dataTable) return;\n",
              "\n",
              "          const docLinkHtml = 'Like what you see? Visit the ' +\n",
              "            '<a target=\"_blank\" href=https://colab.research.google.com/notebooks/data_table.ipynb>data table notebook</a>'\n",
              "            + ' to learn more about interactive tables.';\n",
              "          element.innerHTML = '';\n",
              "          dataTable['output_type'] = 'display_data';\n",
              "          await google.colab.output.renderOutput(dataTable, element);\n",
              "          const docLink = document.createElement('div');\n",
              "          docLink.innerHTML = docLinkHtml;\n",
              "          element.appendChild(docLink);\n",
              "        }\n",
              "      </script>\n",
              "    </div>\n",
              "  </div>\n",
              "  "
            ]
          },
          "metadata": {},
          "execution_count": 11
        }
      ],
      "source": [
        "# View the submission file\n",
        "ss.head()"
      ]
    },
    {
      "cell_type": "markdown",
      "metadata": {
        "id": "uR7H9KmYtqqg"
      },
      "source": [
        "## 2. Understand the dataset"
      ]
    },
    {
      "cell_type": "markdown",
      "metadata": {
        "id": "6Gp_xSOrtyfj"
      },
      "source": [
        "Let's look at a bar graph of the train data."
      ]
    },
    {
      "cell_type": "code",
      "execution_count": null,
      "metadata": {
        "colab": {
          "base_uri": "https://localhost:8080/",
          "height": 780
        },
        "id": "3_E4cGDvstrK",
        "outputId": "b8613169-a9e5-42ae-96da-3ed1da852ba5"
      },
      "outputs": [
        {
          "output_type": "execute_result",
          "data": {
            "text/plain": [
              "<BarContainer object of 373 artists>"
            ]
          },
          "metadata": {},
          "execution_count": 12
        },
        {
          "output_type": "display_data",
          "data": {
            "text/plain": [
              "<Figure size 800x600 with 1 Axes>"
            ],
            "image/png": "[encoded data removed]"
          },
          "metadata": {
            "needs_background": "light"
          }
        }
      ],
      "source": [
        "# Show a bar graph of the purchase_value vs the target in the train data (merchant_categorized_as)\n",
        "plt.figure(dpi=200, figsize=(4,3))\n",
        "plt.xticks(rotation=90)\n",
        "plt.bar(data=train, x='MERCHANT_CATEGORIZED_AS', height='PURCHASE_VALUE')"
      ]
    },
    {
      "cell_type": "markdown",
      "metadata": {
        "id": "8NZhaPZIs2xk"
      },
      "source": [
        "It's interesting to note that more money was spent on education than bills & fees, emergency fund, rent/mortgage and loan repayment.\n",
        "\n",
        "Also very little was spent on health and transport & fuel."
      ]
    },
    {
      "cell_type": "markdown",
      "metadata": {
        "id": "nkFQ1a_klXwd"
      },
      "source": [
        "Let's look at more detail by running the .info method\n",
        "\n",
        "The output shows the list of variables/features, sizes, if it contains missing values and the data type for each variable. We have 3 features of the integer data type, 6 features of the object data type, 1 of the boolean data type and 1 of the float data type.\n",
        "\n",
        "If you want to learn how to handle missing data in your dataset, we recommend you read [How to Handle Missing Data with Python](https://machinelearningmastery.com/handle-missing-data-python/) by Jason Brownlee.\n",
        "\n",
        "For more information you can visit the link below.\n",
        "\n",
        "[Why you need to explore your data and how you can start](https://https://medium.com/analytics-vidhya/why-you-need-to-explore-your-data-how-you-can-start-13de6f29c8c1)"
      ]
    },
    {
      "cell_type": "markdown",
      "metadata": {
        "id": "wKJswRvsyD8d"
      },
      "source": [
        "Encode the target labels to values to show a correlation matrix."
      ]
    },
    {
      "cell_type": "code",
      "execution_count": null,
      "metadata": {
        "colab": {
          "base_uri": "https://localhost:8080/"
        },
        "id": "zTPRRb1dyH2R",
        "outputId": "780187a5-aa0a-4546-8b21-3243ae4ea796"
      },
      "outputs": [
        {
          "output_type": "stream",
          "name": "stdout",
          "text": [
            "Train data:  {'MERCHANT_CATEGORIZED_AS': {'Bills & Fees': 1, 'Data & WiFi': 2, 'Education': 3, 'Emergency fund': 4, 'Family & Friends': 5, 'Going out': 6, 'Groceries': 7, 'Health': 8, 'Loan Repayment': 9, 'Miscellaneous': 10, 'Rent / Mortgage': 11, 'Shopping': 12, 'Transport & Fuel': 13}}\n"
          ]
        }
      ],
      "source": [
        "# Use a dictionary comprehension and zip to create a dictionary for all the categories in the train data\n",
        "labels_train = train['MERCHANT_CATEGORIZED_AS'].astype('category').cat.categories.tolist()\n",
        "replace_map_train = {'MERCHANT_CATEGORIZED_AS' : {k: v for k,v in zip(labels_train,list(range(1,len(labels_train)+1)))}}\n",
        "print(\"Train data: \", replace_map_train)"
      ]
    },
    {
      "cell_type": "code",
      "execution_count": null,
      "metadata": {
        "id": "YEnKu6HjyM2z"
      },
      "outputs": [],
      "source": [
        "train_data_corr = train.copy()"
      ]
    },
    {
      "cell_type": "code",
      "execution_count": null,
      "metadata": {
        "id": "GvFoJNrXyQsp"
      },
      "outputs": [],
      "source": [
        "# Replace the categories with the numerical equivalents from the dictionary\n",
        "train_data_corr.replace(replace_map_train, inplace=True)"
      ]
    },
    {
      "cell_type": "markdown",
      "metadata": {
        "id": "RM0Z7YtByZZ8"
      },
      "source": [
        "Correlation matrix"
      ]
    },
    {
      "cell_type": "code",
      "execution_count": null,
      "metadata": {
        "colab": {
          "base_uri": "https://localhost:8080/"
        },
        "id": "OunGY3AeyYVC",
        "outputId": "ff22492f-3ee7-4933-ae02-170e88c313dc"
      },
      "outputs": [
        {
          "output_type": "execute_result",
          "data": {
            "text/plain": [
              "IS_PURCHASE_PAID_VIA_MPESA_SEND_MONEY   -0.086870\n",
              "PURCHASE_VALUE                          -0.074565\n",
              "USER_HOUSEHOLD                          -0.012197\n",
              "USER_INCOME                              0.041954\n",
              "USER_AGE                                 0.143406\n",
              "MERCHANT_CATEGORIZED_AS                  1.000000\n",
              "Name: MERCHANT_CATEGORIZED_AS, dtype: float64"
            ]
          },
          "metadata": {},
          "execution_count": 16
        }
      ],
      "source": [
        "train_data_corr[train_data_corr.columns[1:]].corr()['MERCHANT_CATEGORIZED_AS'].sort_values()"
      ]
    },
    {
      "cell_type": "markdown",
      "metadata": {
        "id": "_-xUy1m1zSro"
      },
      "source": [
        "We can see that not many things are correlated with MERCHANT_CATEGORIZED_AS, so it seems like we don't have enough data."
      ]
    },
    {
      "cell_type": "markdown",
      "metadata": {
        "id": "brJlTnmLzkiZ"
      },
      "source": [
        "We need to drop empty rows if there are any."
      ]
    },
    {
      "cell_type": "code",
      "execution_count": null,
      "metadata": {
        "colab": {
          "base_uri": "https://localhost:8080/"
        },
        "id": "ChtmGvW8oaZv",
        "outputId": "b9dded7a-5abd-4cd6-d467-45634a8449fd"
      },
      "outputs": [
        {
          "output_type": "execute_result",
          "data": {
            "text/plain": [
              "MERCHANT_CATEGORIZED_AT                    0\n",
              "MERCHANT_NAME                              0\n",
              "MERCHANT_CATEGORIZED_AS                    0\n",
              "PURCHASE_VALUE                             0\n",
              "PURCHASED_AT                               0\n",
              "IS_PURCHASE_PAID_VIA_MPESA_SEND_MONEY      0\n",
              "USER_AGE                                 312\n",
              "USER_GENDER                                6\n",
              "USER_HOUSEHOLD                             0\n",
              "USER_INCOME                                0\n",
              "USER_ID                                    0\n",
              "Transaction_ID                             0\n",
              "dtype: int64"
            ]
          },
          "metadata": {},
          "execution_count": 17
        }
      ],
      "source": [
        "train.isnull().sum()"
      ]
    },
    {
      "cell_type": "code",
      "execution_count": null,
      "metadata": {
        "colab": {
          "base_uri": "https://localhost:8080/"
        },
        "id": "KExzCxF5pIf1",
        "outputId": "a0b13354-e62f-40a6-8962-db827c661542"
      },
      "outputs": [
        {
          "output_type": "execute_result",
          "data": {
            "text/plain": [
              "MERCHANT_CATEGORIZED_AT                    0\n",
              "MERCHANT_NAME                              0\n",
              "PURCHASE_VALUE                             0\n",
              "PURCHASED_AT                               0\n",
              "IS_PURCHASE_PAID_VIA_MPESA_SEND_MONEY      0\n",
              "USER_AGE                                 473\n",
              "USER_GENDER                                5\n",
              "USER_HOUSEHOLD                             0\n",
              "USER_INCOME                                0\n",
              "USER_ID                                    0\n",
              "Transaction_ID                             0\n",
              "dtype: int64"
            ]
          },
          "metadata": {},
          "execution_count": 18
        }
      ],
      "source": [
        "test.isnull().sum()"
      ]
    },
    {
      "cell_type": "code",
      "execution_count": null,
      "metadata": {
        "colab": {
          "base_uri": "https://localhost:8080/"
        },
        "id": "K0e9u0GqexLV",
        "outputId": "4cc67adb-1c18-4dcb-b1a8-8f2ec4f38067"
      },
      "outputs": [
        {
          "output_type": "execute_result",
          "data": {
            "text/plain": [
              "MERCHANT_CATEGORIZED_AT                  10000\n",
              "MERCHANT_NAME                                0\n",
              "MERCHANT_CATEGORIZED_AS                  10000\n",
              "PURCHASE_VALUE                               0\n",
              "PURCHASED_AT                                 0\n",
              "IS_PURCHASE_PAID_VIA_MPESA_SEND_MONEY        0\n",
              "USER_AGE                                  8842\n",
              "USER_GENDER                                 34\n",
              "USER_HOUSEHOLD                               0\n",
              "USER_INCOME                                  0\n",
              "USER_ID                                      0\n",
              "Transaction_ID                               0\n",
              "dtype: int64"
            ]
          },
          "metadata": {},
          "execution_count": 19
        }
      ],
      "source": [
        "ext_data.isnull().sum()"
      ]
    },
    {
      "cell_type": "code",
      "execution_count": null,
      "metadata": {
        "colab": {
          "base_uri": "https://localhost:8080/",
          "height": 339
        },
        "id": "LrSMIKGeouLT",
        "outputId": "d13fcb3c-866e-4038-fef6-e5357649ec4a"
      },
      "outputs": [
        {
          "output_type": "display_data",
          "data": {
            "text/plain": [
              "<Figure size 1296x504 with 1 Axes>"
            ],
            "image/png": "[encoded data removed]"
          },
          "metadata": {
            "needs_background": "light"
          }
        }
      ],
      "source": [
        "ax = train.isna().sum().sort_values().plot(kind='barh', figsize=(18,7))\n",
        "plt.title('Percentage of missing values per columns in Train set', fontdict={'size':15})\n",
        "for p in ax.patches:\n",
        "  percentage = '{:,.0f}%'.format((p.get_width()/train.shape[0])*100)\n",
        "  width, height = p.get_width(), p.get_height()\n",
        "  x = p.get_x()+width+0.2  \n",
        "  y = p.get_y()+height/2\n",
        "  ax.annotate(percentage,(x,y))"
      ]
    },
    {
      "cell_type": "code",
      "execution_count": null,
      "metadata": {
        "colab": {
          "base_uri": "https://localhost:8080/"
        },
        "id": "p7E3HCJrlbzH",
        "outputId": "7e40b779-7b66-43fd-857b-8bb97c98f33d"
      },
      "outputs": [
        {
          "output_type": "stream",
          "name": "stdout",
          "text": [
            "<class 'pandas.core.frame.DataFrame'>\n",
            "RangeIndex: 373 entries, 0 to 372\n",
            "Data columns (total 12 columns):\n",
            " #   Column                                 Non-Null Count  Dtype              \n",
            "---  ------                                 --------------  -----              \n",
            " 0   MERCHANT_CATEGORIZED_AT                373 non-null    datetime64[ns, UTC]\n",
            " 1   MERCHANT_NAME                          373 non-null    object             \n",
            " 2   MERCHANT_CATEGORIZED_AS                373 non-null    object             \n",
            " 3   PURCHASE_VALUE                         373 non-null    int64              \n",
            " 4   PURCHASED_AT                           373 non-null    datetime64[ns, UTC]\n",
            " 5   IS_PURCHASE_PAID_VIA_MPESA_SEND_MONEY  373 non-null    bool               \n",
            " 6   USER_AGE                               61 non-null     float64            \n",
            " 7   USER_GENDER                            367 non-null    object             \n",
            " 8   USER_HOUSEHOLD                         373 non-null    int64              \n",
            " 9   USER_INCOME                            373 non-null    int64              \n",
            " 10  USER_ID                                373 non-null    object             \n",
            " 11  Transaction_ID                         373 non-null    object             \n",
            "dtypes: bool(1), datetime64[ns, UTC](2), float64(1), int64(3), object(5)\n",
            "memory usage: 32.5+ KB\n"
          ]
        }
      ],
      "source": [
        "train.info()"
      ]
    },
    {
      "cell_type": "code",
      "execution_count": null,
      "metadata": {
        "colab": {
          "base_uri": "https://localhost:8080/"
        },
        "id": "dO5EObekv7rm",
        "outputId": "a68f39eb-7647-4291-cf00-25669886c9c2"
      },
      "outputs": [
        {
          "output_type": "stream",
          "name": "stdout",
          "text": [
            "<class 'pandas.core.frame.DataFrame'>\n",
            "RangeIndex: 558 entries, 0 to 557\n",
            "Data columns (total 11 columns):\n",
            " #   Column                                 Non-Null Count  Dtype              \n",
            "---  ------                                 --------------  -----              \n",
            " 0   MERCHANT_CATEGORIZED_AT                558 non-null    datetime64[ns, UTC]\n",
            " 1   MERCHANT_NAME                          558 non-null    object             \n",
            " 2   PURCHASE_VALUE                         558 non-null    int64              \n",
            " 3   PURCHASED_AT                           558 non-null    datetime64[ns, UTC]\n",
            " 4   IS_PURCHASE_PAID_VIA_MPESA_SEND_MONEY  558 non-null    bool               \n",
            " 5   USER_AGE                               85 non-null     float64            \n",
            " 6   USER_GENDER                            553 non-null    object             \n",
            " 7   USER_HOUSEHOLD                         558 non-null    int64              \n",
            " 8   USER_INCOME                            558 non-null    int64              \n",
            " 9   USER_ID                                558 non-null    object             \n",
            " 10  Transaction_ID                         558 non-null    object             \n",
            "dtypes: bool(1), datetime64[ns, UTC](2), float64(1), int64(3), object(4)\n",
            "memory usage: 44.3+ KB\n"
          ]
        }
      ],
      "source": [
        "test.info()"
      ]
    },
    {
      "cell_type": "markdown",
      "metadata": {
        "id": "plxS_TN5lvaR"
      },
      "source": [
        "We can see that the number of entries in Age for the Test set don't correspond to the rest of its entries and for the Train set there are missing entries for Age and for Gender, which means we have some missing values."
      ]
    },
    {
      "cell_type": "code",
      "execution_count": null,
      "metadata": {
        "colab": {
          "base_uri": "https://localhost:8080/"
        },
        "id": "AHANXSdvmdy8",
        "outputId": "e7069805-1158-441b-d792-0880c09928e5"
      },
      "outputs": [
        {
          "output_type": "stream",
          "name": "stdout",
          "text": [
            "Missing values for Train: MERCHANT_CATEGORIZED_AT                    0\n",
            "MERCHANT_NAME                              0\n",
            "MERCHANT_CATEGORIZED_AS                    0\n",
            "PURCHASE_VALUE                             0\n",
            "PURCHASED_AT                               0\n",
            "IS_PURCHASE_PAID_VIA_MPESA_SEND_MONEY      0\n",
            "USER_AGE                                 312\n",
            "USER_GENDER                                6\n",
            "USER_HOUSEHOLD                             0\n",
            "USER_INCOME                                0\n",
            "USER_ID                                    0\n",
            "Transaction_ID                             0\n",
            "dtype: int64\n",
            "\n",
            "Missing values for Test: MERCHANT_CATEGORIZED_AT                    0\n",
            "MERCHANT_NAME                              0\n",
            "PURCHASE_VALUE                             0\n",
            "PURCHASED_AT                               0\n",
            "IS_PURCHASE_PAID_VIA_MPESA_SEND_MONEY      0\n",
            "USER_AGE                                 473\n",
            "USER_GENDER                                5\n",
            "USER_HOUSEHOLD                             0\n",
            "USER_INCOME                                0\n",
            "USER_ID                                    0\n",
            "Transaction_ID                             0\n",
            "dtype: int64\n"
          ]
        }
      ],
      "source": [
        "# We can also use the .isnull() method to check for empty values\n",
        "print('Missing values for Train:', train.isnull().sum())\n",
        "print('')\n",
        "print('Missing values for Test:', test.isnull().sum())"
      ]
    },
    {
      "cell_type": "markdown",
      "metadata": {
        "id": "G4PFdHy_mr9-"
      },
      "source": [
        "There are 4 missing Gender entries and 329 missing Age entries in the train data and 591 missing Age entries for the test data."
      ]
    },
    {
      "cell_type": "code",
      "execution_count": null,
      "metadata": {
        "colab": {
          "base_uri": "https://localhost:8080/",
          "height": 406
        },
        "id": "lNmbB4W4m-Xy",
        "outputId": "bbcec0eb-52ee-45fe-df0d-130c057bf343"
      },
      "outputs": [
        {
          "output_type": "execute_result",
          "data": {
            "text/plain": [
              "             MERCHANT_CATEGORIZED_AT     MERCHANT_NAME  \\\n",
              "35  2021-11-30 10:51:36.702996+00:00  IDEAL APPLIANCES   \n",
              "137 2021-11-30 10:52:38.553994+00:00        QUICK MART   \n",
              "280 2021-08-06 11:28:03.723042+00:00    EQUITY PAYBILL   \n",
              "309 2021-11-30 10:52:38.553994+00:00    NAOMI  WANJOHI   \n",
              "312 2021-11-30 10:51:36.702996+00:00               POA   \n",
              "361 2021-11-30 10:51:36.702996+00:00    MIRIAM  MUNGAI   \n",
              "\n",
              "    MERCHANT_CATEGORIZED_AS  PURCHASE_VALUE              PURCHASED_AT  \\\n",
              "35             Bills & Fees           24995 2021-05-06 14:14:00+00:00   \n",
              "137                Shopping            3298 2021-06-19 15:05:00+00:00   \n",
              "280                Shopping            4000 2021-07-25 10:54:00+00:00   \n",
              "309        Family & Friends            1028 2021-05-13 14:28:00+00:00   \n",
              "312             Data & WiFi            1500 2021-07-21 17:46:00+00:00   \n",
              "361        Family & Friends            1600 2021-06-11 18:25:00+00:00   \n",
              "\n",
              "     IS_PURCHASE_PAID_VIA_MPESA_SEND_MONEY  USER_AGE USER_GENDER  \\\n",
              "35                                   False       NaN         NaN   \n",
              "137                                  False       NaN         NaN   \n",
              "280                                   True       NaN         NaN   \n",
              "309                                   True       NaN         NaN   \n",
              "312                                  False       NaN         NaN   \n",
              "361                                   True       NaN         NaN   \n",
              "\n",
              "     USER_HOUSEHOLD  USER_INCOME      USER_ID Transaction_ID  \n",
              "35                1        10000  ID_R4T8Q46J    ID_3xlptxy6  \n",
              "137               1        10000  ID_R4T8Q46J    ID_dhp3d403  \n",
              "280               1        10000  ID_R4T8Q46J    ID_qvgzrt0r  \n",
              "309               1        10000  ID_R4T8Q46J    ID_u02b0hl6  \n",
              "312               1        10000  ID_R4T8Q46J    ID_uvhgthza  \n",
              "361               1        10000  ID_R4T8Q46J    ID_yxz5etfz  "
            ],
            "text/html": [
              "\n",
              "  <div id=\"df-4e4b4a06-f50f-4eac-a425-824739e5d764\">\n",
              "    <div class=\"colab-df-container\">\n",
              "      <div>\n",
              "<style scoped>\n",
              "    .dataframe tbody tr th:only-of-type {\n",
              "        vertical-align: middle;\n",
              "    }\n",
              "\n",
              "    .dataframe tbody tr th {\n",
              "        vertical-align: top;\n",
              "    }\n",
              "\n",
              "    .dataframe thead th {\n",
              "        text-align: right;\n",
              "    }\n",
              "</style>\n",
              "<table border=\"1\" class=\"dataframe\">\n",
              "  <thead>\n",
              "    <tr style=\"text-align: right;\">\n",
              "      <th></th>\n",
              "      <th>MERCHANT_CATEGORIZED_AT</th>\n",
              "      <th>MERCHANT_NAME</th>\n",
              "      <th>MERCHANT_CATEGORIZED_AS</th>\n",
              "      <th>PURCHASE_VALUE</th>\n",
              "      <th>PURCHASED_AT</th>\n",
              "      <th>IS_PURCHASE_PAID_VIA_MPESA_SEND_MONEY</th>\n",
              "      <th>USER_AGE</th>\n",
              "      <th>USER_GENDER</th>\n",
              "      <th>USER_HOUSEHOLD</th>\n",
              "      <th>USER_INCOME</th>\n",
              "      <th>USER_ID</th>\n",
              "      <th>Transaction_ID</th>\n",
              "    </tr>\n",
              "  </thead>\n",
              "  <tbody>\n",
              "    <tr>\n",
              "      <th>35</th>\n",
              "      <td>2021-11-30 10:51:36.702996+00:00</td>\n",
              "      <td>IDEAL APPLIANCES</td>\n",
              "      <td>Bills &amp; Fees</td>\n",
              "      <td>24995</td>\n",
              "      <td>2021-05-06 14:14:00+00:00</td>\n",
              "      <td>False</td>\n",
              "      <td>NaN</td>\n",
              "      <td>NaN</td>\n",
              "      <td>1</td>\n",
              "      <td>10000</td>\n",
              "      <td>ID_R4T8Q46J</td>\n",
              "      <td>ID_3xlptxy6</td>\n",
              "    </tr>\n",
              "    <tr>\n",
              "      <th>137</th>\n",
              "      <td>2021-11-30 10:52:38.553994+00:00</td>\n",
              "      <td>QUICK MART</td>\n",
              "      <td>Shopping</td>\n",
              "      <td>3298</td>\n",
              "      <td>2021-06-19 15:05:00+00:00</td>\n",
              "      <td>False</td>\n",
              "      <td>NaN</td>\n",
              "      <td>NaN</td>\n",
              "      <td>1</td>\n",
              "      <td>10000</td>\n",
              "      <td>ID_R4T8Q46J</td>\n",
              "      <td>ID_dhp3d403</td>\n",
              "    </tr>\n",
              "    <tr>\n",
              "      <th>280</th>\n",
              "      <td>2021-08-06 11:28:03.723042+00:00</td>\n",
              "      <td>EQUITY PAYBILL</td>\n",
              "      <td>Shopping</td>\n",
              "      <td>4000</td>\n",
              "      <td>2021-07-25 10:54:00+00:00</td>\n",
              "      <td>True</td>\n",
              "      <td>NaN</td>\n",
              "      <td>NaN</td>\n",
              "      <td>1</td>\n",
              "      <td>10000</td>\n",
              "      <td>ID_R4T8Q46J</td>\n",
              "      <td>ID_qvgzrt0r</td>\n",
              "    </tr>\n",
              "    <tr>\n",
              "      <th>309</th>\n",
              "      <td>2021-11-30 10:52:38.553994+00:00</td>\n",
              "      <td>NAOMI  WANJOHI</td>\n",
              "      <td>Family &amp; Friends</td>\n",
              "      <td>1028</td>\n",
              "      <td>2021-05-13 14:28:00+00:00</td>\n",
              "      <td>True</td>\n",
              "      <td>NaN</td>\n",
              "      <td>NaN</td>\n",
              "      <td>1</td>\n",
              "      <td>10000</td>\n",
              "      <td>ID_R4T8Q46J</td>\n",
              "      <td>ID_u02b0hl6</td>\n",
              "    </tr>\n",
              "    <tr>\n",
              "      <th>312</th>\n",
              "      <td>2021-11-30 10:51:36.702996+00:00</td>\n",
              "      <td>POA</td>\n",
              "      <td>Data &amp; WiFi</td>\n",
              "      <td>1500</td>\n",
              "      <td>2021-07-21 17:46:00+00:00</td>\n",
              "      <td>False</td>\n",
              "      <td>NaN</td>\n",
              "      <td>NaN</td>\n",
              "      <td>1</td>\n",
              "      <td>10000</td>\n",
              "      <td>ID_R4T8Q46J</td>\n",
              "      <td>ID_uvhgthza</td>\n",
              "    </tr>\n",
              "    <tr>\n",
              "      <th>361</th>\n",
              "      <td>2021-11-30 10:51:36.702996+00:00</td>\n",
              "      <td>MIRIAM  MUNGAI</td>\n",
              "      <td>Family &amp; Friends</td>\n",
              "      <td>1600</td>\n",
              "      <td>2021-06-11 18:25:00+00:00</td>\n",
              "      <td>True</td>\n",
              "      <td>NaN</td>\n",
              "      <td>NaN</td>\n",
              "      <td>1</td>\n",
              "      <td>10000</td>\n",
              "      <td>ID_R4T8Q46J</td>\n",
              "      <td>ID_yxz5etfz</td>\n",
              "    </tr>\n",
              "  </tbody>\n",
              "</table>\n",
              "</div>\n",
              "      <button class=\"colab-df-convert\" onclick=\"convertToInteractive('df-4e4b4a06-f50f-4eac-a425-824739e5d764')\"\n",
              "              title=\"Convert this dataframe to an interactive table.\"\n",
              "              style=\"display:none;\">\n",
              "        \n",
              "  <svg xmlns=\"http://www.w3.org/2000/svg\" height=\"24px\"viewBox=\"0 0 24 24\"\n",
              "       width=\"24px\">\n",
              "    <path d=\"M0 0h24v24H0V0z\" fill=\"none\"/>\n",
              "    <path d=\"M18.56 5.44l.94 2.06.94-2.06 2.06-.94-2.06-.94-.94-2.06-.94 2.06-2.06.94zm-11 1L8.5 8.5l.94-2.06 2.06-.94-2.06-.94L8.5 2.5l-.94 2.06-2.06.94zm10 10l.94 2.06.94-2.06 2.06-.94-2.06-.94-.94-2.06-.94 2.06-2.06.94z\"/><path d=\"M17.41 7.96l-1.37-1.37c-.4-.4-.92-.59-1.43-.59-.52 0-1.04.2-1.43.59L10.3 9.45l-7.72 7.72c-.78.78-.78 2.05 0 2.83L4 21.41c.39.39.9.59 1.41.59.51 0 1.02-.2 1.41-.59l7.78-7.78 2.81-2.81c.8-.78.8-2.07 0-2.86zM5.41 20L4 18.59l7.72-7.72 1.47 1.35L5.41 20z\"/>\n",
              "  </svg>\n",
              "      </button>\n",
              "      \n",
              "  <style>\n",
              "    .colab-df-container {\n",
              "      display:flex;\n",
              "      flex-wrap:wrap;\n",
              "      gap: 12px;\n",
              "    }\n",
              "\n",
              "    .colab-df-convert {\n",
              "      background-color: #E8F0FE;\n",
              "      border: none;\n",
              "      border-radius: 50%;\n",
              "      cursor: pointer;\n",
              "      display: none;\n",
              "      fill: #1967D2;\n",
              "      height: 32px;\n",
              "      padding: 0 0 0 0;\n",
              "      width: 32px;\n",
              "    }\n",
              "\n",
              "    .colab-df-convert:hover {\n",
              "      background-color: #E2EBFA;\n",
              "      box-shadow: 0px 1px 2px rgba(60, 64, 67, 0.3), 0px 1px 3px 1px rgba(60, 64, 67, 0.15);\n",
              "      fill: #174EA6;\n",
              "    }\n",
              "\n",
              "    [theme=dark] .colab-df-convert {\n",
              "      background-color: #3B4455;\n",
              "      fill: #D2E3FC;\n",
              "    }\n",
              "\n",
              "    [theme=dark] .colab-df-convert:hover {\n",
              "      background-color: #434B5C;\n",
              "      box-shadow: 0px 1px 3px 1px rgba(0, 0, 0, 0.15);\n",
              "      filter: drop-shadow(0px 1px 2px rgba(0, 0, 0, 0.3));\n",
              "      fill: #FFFFFF;\n",
              "    }\n",
              "  </style>\n",
              "\n",
              "      <script>\n",
              "        const buttonEl =\n",
              "          document.querySelector('#df-4e4b4a06-f50f-4eac-a425-824739e5d764 button.colab-df-convert');\n",
              "        buttonEl.style.display =\n",
              "          google.colab.kernel.accessAllowed ? 'block' : 'none';\n",
              "\n",
              "        async function convertToInteractive(key) {\n",
              "          const element = document.querySelector('#df-4e4b4a06-f50f-4eac-a425-824739e5d764');\n",
              "          const dataTable =\n",
              "            await google.colab.kernel.invokeFunction('convertToInteractive',\n",
              "                                                     [key], {});\n",
              "          if (!dataTable) return;\n",
              "\n",
              "          const docLinkHtml = 'Like what you see? Visit the ' +\n",
              "            '<a target=\"_blank\" href=https://colab.research.google.com/notebooks/data_table.ipynb>data table notebook</a>'\n",
              "            + ' to learn more about interactive tables.';\n",
              "          element.innerHTML = '';\n",
              "          dataTable['output_type'] = 'display_data';\n",
              "          await google.colab.output.renderOutput(dataTable, element);\n",
              "          const docLink = document.createElement('div');\n",
              "          docLink.innerHTML = docLinkHtml;\n",
              "          element.appendChild(docLink);\n",
              "        }\n",
              "      </script>\n",
              "    </div>\n",
              "  </div>\n",
              "  "
            ]
          },
          "metadata": {},
          "execution_count": 24
        }
      ],
      "source": [
        "train[train['USER_GENDER'].isnull()]"
      ]
    },
    {
      "cell_type": "code",
      "execution_count": null,
      "metadata": {
        "colab": {
          "base_uri": "https://localhost:8080/",
          "height": 357
        },
        "id": "8cVA8yDFrZ3j",
        "outputId": "2af12d53-4ba9-44af-8eb8-98eb46c6fe10"
      },
      "outputs": [
        {
          "output_type": "execute_result",
          "data": {
            "text/plain": [
              "             MERCHANT_CATEGORIZED_AT     MERCHANT_NAME  PURCHASE_VALUE  \\\n",
              "124 2021-08-06 11:28:16.857538+00:00       ACCESS AFYA               1   \n",
              "138 2021-11-30 10:51:36.702996+00:00   PETER  INDIMULI            1028   \n",
              "374 2021-11-30 10:51:36.702996+00:00  MICHELLE  RODROT             827   \n",
              "395 2021-11-30 10:51:36.702996+00:00   DORCAS  WANJOHI            2600   \n",
              "550 2021-11-30 10:52:38.553994+00:00               POA            1500   \n",
              "\n",
              "                 PURCHASED_AT  IS_PURCHASE_PAID_VIA_MPESA_SEND_MONEY  \\\n",
              "124 2021-08-05 09:32:00+00:00                                  False   \n",
              "138 2021-04-08 12:07:00+00:00                                   True   \n",
              "374 2021-07-22 13:36:00+00:00                                   True   \n",
              "395 2021-06-07 14:05:00+00:00                                   True   \n",
              "550 2021-05-22 19:11:00+00:00                                  False   \n",
              "\n",
              "     USER_AGE USER_GENDER  USER_HOUSEHOLD  USER_INCOME      USER_ID  \\\n",
              "124       NaN         NaN               1        10000  ID_R4T8Q46J   \n",
              "138       NaN         NaN               1        10000  ID_R4T8Q46J   \n",
              "374       NaN         NaN               1        10000  ID_R4T8Q46J   \n",
              "395       NaN         NaN               1        10000  ID_R4T8Q46J   \n",
              "550       NaN         NaN               1        10000  ID_R4T8Q46J   \n",
              "\n",
              "    Transaction_ID  \n",
              "124    ID_8oyhw5j0  \n",
              "138    ID_9au0g3qv  \n",
              "374    ID_p5ajidvp  \n",
              "395    ID_qd7dgqor  \n",
              "550    ID_zqi8lti6  "
            ],
            "text/html": [
              "\n",
              "  <div id=\"df-8feff71b-19fe-4d35-929b-9a134561e585\">\n",
              "    <div class=\"colab-df-container\">\n",
              "      <div>\n",
              "<style scoped>\n",
              "    .dataframe tbody tr th:only-of-type {\n",
              "        vertical-align: middle;\n",
              "    }\n",
              "\n",
              "    .dataframe tbody tr th {\n",
              "        vertical-align: top;\n",
              "    }\n",
              "\n",
              "    .dataframe thead th {\n",
              "        text-align: right;\n",
              "    }\n",
              "</style>\n",
              "<table border=\"1\" class=\"dataframe\">\n",
              "  <thead>\n",
              "    <tr style=\"text-align: right;\">\n",
              "      <th></th>\n",
              "      <th>MERCHANT_CATEGORIZED_AT</th>\n",
              "      <th>MERCHANT_NAME</th>\n",
              "      <th>PURCHASE_VALUE</th>\n",
              "      <th>PURCHASED_AT</th>\n",
              "      <th>IS_PURCHASE_PAID_VIA_MPESA_SEND_MONEY</th>\n",
              "      <th>USER_AGE</th>\n",
              "      <th>USER_GENDER</th>\n",
              "      <th>USER_HOUSEHOLD</th>\n",
              "      <th>USER_INCOME</th>\n",
              "      <th>USER_ID</th>\n",
              "      <th>Transaction_ID</th>\n",
              "    </tr>\n",
              "  </thead>\n",
              "  <tbody>\n",
              "    <tr>\n",
              "      <th>124</th>\n",
              "      <td>2021-08-06 11:28:16.857538+00:00</td>\n",
              "      <td>ACCESS AFYA</td>\n",
              "      <td>1</td>\n",
              "      <td>2021-08-05 09:32:00+00:00</td>\n",
              "      <td>False</td>\n",
              "      <td>NaN</td>\n",
              "      <td>NaN</td>\n",
              "      <td>1</td>\n",
              "      <td>10000</td>\n",
              "      <td>ID_R4T8Q46J</td>\n",
              "      <td>ID_8oyhw5j0</td>\n",
              "    </tr>\n",
              "    <tr>\n",
              "      <th>138</th>\n",
              "      <td>2021-11-30 10:51:36.702996+00:00</td>\n",
              "      <td>PETER  INDIMULI</td>\n",
              "      <td>1028</td>\n",
              "      <td>2021-04-08 12:07:00+00:00</td>\n",
              "      <td>True</td>\n",
              "      <td>NaN</td>\n",
              "      <td>NaN</td>\n",
              "      <td>1</td>\n",
              "      <td>10000</td>\n",
              "      <td>ID_R4T8Q46J</td>\n",
              "      <td>ID_9au0g3qv</td>\n",
              "    </tr>\n",
              "    <tr>\n",
              "      <th>374</th>\n",
              "      <td>2021-11-30 10:51:36.702996+00:00</td>\n",
              "      <td>MICHELLE  RODROT</td>\n",
              "      <td>827</td>\n",
              "      <td>2021-07-22 13:36:00+00:00</td>\n",
              "      <td>True</td>\n",
              "      <td>NaN</td>\n",
              "      <td>NaN</td>\n",
              "      <td>1</td>\n",
              "      <td>10000</td>\n",
              "      <td>ID_R4T8Q46J</td>\n",
              "      <td>ID_p5ajidvp</td>\n",
              "    </tr>\n",
              "    <tr>\n",
              "      <th>395</th>\n",
              "      <td>2021-11-30 10:51:36.702996+00:00</td>\n",
              "      <td>DORCAS  WANJOHI</td>\n",
              "      <td>2600</td>\n",
              "      <td>2021-06-07 14:05:00+00:00</td>\n",
              "      <td>True</td>\n",
              "      <td>NaN</td>\n",
              "      <td>NaN</td>\n",
              "      <td>1</td>\n",
              "      <td>10000</td>\n",
              "      <td>ID_R4T8Q46J</td>\n",
              "      <td>ID_qd7dgqor</td>\n",
              "    </tr>\n",
              "    <tr>\n",
              "      <th>550</th>\n",
              "      <td>2021-11-30 10:52:38.553994+00:00</td>\n",
              "      <td>POA</td>\n",
              "      <td>1500</td>\n",
              "      <td>2021-05-22 19:11:00+00:00</td>\n",
              "      <td>False</td>\n",
              "      <td>NaN</td>\n",
              "      <td>NaN</td>\n",
              "      <td>1</td>\n",
              "      <td>10000</td>\n",
              "      <td>ID_R4T8Q46J</td>\n",
              "      <td>ID_zqi8lti6</td>\n",
              "    </tr>\n",
              "  </tbody>\n",
              "</table>\n",
              "</div>\n",
              "      <button class=\"colab-df-convert\" onclick=\"convertToInteractive('df-8feff71b-19fe-4d35-929b-9a134561e585')\"\n",
              "              title=\"Convert this dataframe to an interactive table.\"\n",
              "              style=\"display:none;\">\n",
              "        \n",
              "  <svg xmlns=\"http://www.w3.org/2000/svg\" height=\"24px\"viewBox=\"0 0 24 24\"\n",
              "       width=\"24px\">\n",
              "    <path d=\"M0 0h24v24H0V0z\" fill=\"none\"/>\n",
              "    <path d=\"M18.56 5.44l.94 2.06.94-2.06 2.06-.94-2.06-.94-.94-2.06-.94 2.06-2.06.94zm-11 1L8.5 8.5l.94-2.06 2.06-.94-2.06-.94L8.5 2.5l-.94 2.06-2.06.94zm10 10l.94 2.06.94-2.06 2.06-.94-2.06-.94-.94-2.06-.94 2.06-2.06.94z\"/><path d=\"M17.41 7.96l-1.37-1.37c-.4-.4-.92-.59-1.43-.59-.52 0-1.04.2-1.43.59L10.3 9.45l-7.72 7.72c-.78.78-.78 2.05 0 2.83L4 21.41c.39.39.9.59 1.41.59.51 0 1.02-.2 1.41-.59l7.78-7.78 2.81-2.81c.8-.78.8-2.07 0-2.86zM5.41 20L4 18.59l7.72-7.72 1.47 1.35L5.41 20z\"/>\n",
              "  </svg>\n",
              "      </button>\n",
              "      \n",
              "  <style>\n",
              "    .colab-df-container {\n",
              "      display:flex;\n",
              "      flex-wrap:wrap;\n",
              "      gap: 12px;\n",
              "    }\n",
              "\n",
              "    .colab-df-convert {\n",
              "      background-color: #E8F0FE;\n",
              "      border: none;\n",
              "      border-radius: 50%;\n",
              "      cursor: pointer;\n",
              "      display: none;\n",
              "      fill: #1967D2;\n",
              "      height: 32px;\n",
              "      padding: 0 0 0 0;\n",
              "      width: 32px;\n",
              "    }\n",
              "\n",
              "    .colab-df-convert:hover {\n",
              "      background-color: #E2EBFA;\n",
              "      box-shadow: 0px 1px 2px rgba(60, 64, 67, 0.3), 0px 1px 3px 1px rgba(60, 64, 67, 0.15);\n",
              "      fill: #174EA6;\n",
              "    }\n",
              "\n",
              "    [theme=dark] .colab-df-convert {\n",
              "      background-color: #3B4455;\n",
              "      fill: #D2E3FC;\n",
              "    }\n",
              "\n",
              "    [theme=dark] .colab-df-convert:hover {\n",
              "      background-color: #434B5C;\n",
              "      box-shadow: 0px 1px 3px 1px rgba(0, 0, 0, 0.15);\n",
              "      filter: drop-shadow(0px 1px 2px rgba(0, 0, 0, 0.3));\n",
              "      fill: #FFFFFF;\n",
              "    }\n",
              "  </style>\n",
              "\n",
              "      <script>\n",
              "        const buttonEl =\n",
              "          document.querySelector('#df-8feff71b-19fe-4d35-929b-9a134561e585 button.colab-df-convert');\n",
              "        buttonEl.style.display =\n",
              "          google.colab.kernel.accessAllowed ? 'block' : 'none';\n",
              "\n",
              "        async function convertToInteractive(key) {\n",
              "          const element = document.querySelector('#df-8feff71b-19fe-4d35-929b-9a134561e585');\n",
              "          const dataTable =\n",
              "            await google.colab.kernel.invokeFunction('convertToInteractive',\n",
              "                                                     [key], {});\n",
              "          if (!dataTable) return;\n",
              "\n",
              "          const docLinkHtml = 'Like what you see? Visit the ' +\n",
              "            '<a target=\"_blank\" href=https://colab.research.google.com/notebooks/data_table.ipynb>data table notebook</a>'\n",
              "            + ' to learn more about interactive tables.';\n",
              "          element.innerHTML = '';\n",
              "          dataTable['output_type'] = 'display_data';\n",
              "          await google.colab.output.renderOutput(dataTable, element);\n",
              "          const docLink = document.createElement('div');\n",
              "          docLink.innerHTML = docLinkHtml;\n",
              "          element.appendChild(docLink);\n",
              "        }\n",
              "      </script>\n",
              "    </div>\n",
              "  </div>\n",
              "  "
            ]
          },
          "metadata": {},
          "execution_count": 25
        }
      ],
      "source": [
        "test[test['USER_GENDER'].isnull()]"
      ]
    },
    {
      "cell_type": "markdown",
      "metadata": {
        "id": "iqPs_Z9L1TuC"
      },
      "source": [
        "### Empty entries"
      ]
    },
    {
      "cell_type": "markdown",
      "metadata": {
        "id": "tNGDf7vvp4dI"
      },
      "source": [
        "By further investigation we see that the empty gender entries in the train set are all for one user: ID_R4T8Q46J in both train and test, therefore we can fill the gender with a value"
      ]
    },
    {
      "cell_type": "code",
      "execution_count": null,
      "metadata": {
        "colab": {
          "base_uri": "https://localhost:8080/"
        },
        "id": "JnbkWE7VrZ3o",
        "outputId": "2a5fd1d3-272a-4625-956f-72842d8b5b18"
      },
      "outputs": [
        {
          "output_type": "execute_result",
          "data": {
            "text/plain": [
              "Male      197\n",
              "Female    170\n",
              "Name: USER_GENDER, dtype: int64"
            ]
          },
          "metadata": {},
          "execution_count": 26
        }
      ],
      "source": [
        "train.USER_GENDER.value_counts()"
      ]
    },
    {
      "cell_type": "code",
      "execution_count": null,
      "metadata": {
        "colab": {
          "base_uri": "https://localhost:8080/"
        },
        "id": "KiyByl7WrZ3r",
        "outputId": "929aa727-f4bf-49df-c324-17b28e57d717"
      },
      "outputs": [
        {
          "output_type": "execute_result",
          "data": {
            "text/plain": [
              "Male      307\n",
              "Female    246\n",
              "Name: USER_GENDER, dtype: int64"
            ]
          },
          "metadata": {},
          "execution_count": 27
        }
      ],
      "source": [
        "test.USER_GENDER.value_counts()"
      ]
    },
    {
      "cell_type": "markdown",
      "metadata": {
        "id": "iB7mdBEorZ3t"
      },
      "source": [
        "Male value seems to be the most common, therefore we'll fill the missing value with male"
      ]
    },
    {
      "cell_type": "code",
      "execution_count": null,
      "metadata": {
        "id": "0cvnK7B5rZ3u"
      },
      "outputs": [],
      "source": [
        "train[\"USER_GENDER\"] = train[\"USER_GENDER\"].apply(lambda x: \"Male\" if pd.isna(x) else x)\n",
        "test[\"USER_GENDER\"] = test[\"USER_GENDER\"].apply(lambda x: \"Male\" if pd.isna(x) else x)"
      ]
    },
    {
      "cell_type": "markdown",
      "metadata": {
        "id": "scNYPbycqeq9"
      },
      "source": [
        "Let's see how this affected our shape"
      ]
    },
    {
      "cell_type": "code",
      "execution_count": null,
      "metadata": {
        "colab": {
          "base_uri": "https://localhost:8080/"
        },
        "id": "DMfeNkdOqeWy",
        "outputId": "6d7aa2fb-344b-4031-d09c-8f70f016d413"
      },
      "outputs": [
        {
          "output_type": "execute_result",
          "data": {
            "text/plain": [
              "(373, 12)"
            ]
          },
          "metadata": {},
          "execution_count": 29
        }
      ],
      "source": [
        "train.shape"
      ]
    },
    {
      "cell_type": "markdown",
      "metadata": {
        "id": "GyzBaBWbrBkO"
      },
      "source": [
        "We have various options with regards to filling in the missing values for AGE.\n",
        "Let's impute these values with the median"
      ]
    },
    {
      "cell_type": "code",
      "execution_count": null,
      "metadata": {
        "id": "ilUVxzfkrK9u"
      },
      "outputs": [],
      "source": [
        "# Impute the missing age entries with the median of that column\n",
        "train_median_value = np.median(train['USER_AGE'].dropna())\n",
        "train['USER_AGE'] = train['USER_AGE'].fillna(train_median_value)\n",
        "\n",
        "test_median_value = np.median(test['USER_AGE'].dropna())\n",
        "test['USER_AGE'] = test['USER_AGE'].fillna(test_median_value)"
      ]
    },
    {
      "cell_type": "code",
      "execution_count": null,
      "metadata": {
        "colab": {
          "base_uri": "https://localhost:8080/"
        },
        "id": "34cEwW0vrVA0",
        "outputId": "501514bb-3c98-4eea-e17c-0b50f5ca5f05"
      },
      "outputs": [
        {
          "output_type": "execute_result",
          "data": {
            "text/plain": [
              "MERCHANT_CATEGORIZED_AT                  0\n",
              "MERCHANT_NAME                            0\n",
              "MERCHANT_CATEGORIZED_AS                  0\n",
              "PURCHASE_VALUE                           0\n",
              "PURCHASED_AT                             0\n",
              "IS_PURCHASE_PAID_VIA_MPESA_SEND_MONEY    0\n",
              "USER_AGE                                 0\n",
              "USER_GENDER                              0\n",
              "USER_HOUSEHOLD                           0\n",
              "USER_INCOME                              0\n",
              "USER_ID                                  0\n",
              "Transaction_ID                           0\n",
              "dtype: int64"
            ]
          },
          "metadata": {},
          "execution_count": 31
        }
      ],
      "source": [
        "# Check that it's done\n",
        "train.isna().sum()"
      ]
    },
    {
      "cell_type": "code",
      "execution_count": null,
      "metadata": {
        "colab": {
          "base_uri": "https://localhost:8080/"
        },
        "id": "9JWxd6V5xfKO",
        "outputId": "aab4160b-9a1a-4015-cf93-ca7a3ab18566"
      },
      "outputs": [
        {
          "output_type": "execute_result",
          "data": {
            "text/plain": [
              "MERCHANT_CATEGORIZED_AT                  0\n",
              "MERCHANT_NAME                            0\n",
              "PURCHASE_VALUE                           0\n",
              "PURCHASED_AT                             0\n",
              "IS_PURCHASE_PAID_VIA_MPESA_SEND_MONEY    0\n",
              "USER_AGE                                 0\n",
              "USER_GENDER                              0\n",
              "USER_HOUSEHOLD                           0\n",
              "USER_INCOME                              0\n",
              "USER_ID                                  0\n",
              "Transaction_ID                           0\n",
              "dtype: int64"
            ]
          },
          "metadata": {},
          "execution_count": 32
        }
      ],
      "source": [
        "test.isna().sum()"
      ]
    },
    {
      "cell_type": "markdown",
      "metadata": {
        "id": "4aVy-Pr01Z3n"
      },
      "source": [
        "### One-hot encode"
      ]
    },
    {
      "cell_type": "markdown",
      "metadata": {
        "id": "JMA98GfzrZsq"
      },
      "source": [
        "Now we need to do some other changes before we can run the metrics.\n",
        "One-hot encode MERCHANT_NAME so we can run metrics.\n",
        "\n",
        "To ensure uniformity across train and test, we will merge both dataset then perform 1 hot encode"
      ]
    },
    {
      "cell_type": "markdown",
      "metadata": {
        "id": "XxRrENe57QN4"
      },
      "source": [
        "##FEATURE ENGINEERING"
      ]
    },
    {
      "cell_type": "code",
      "execution_count": null,
      "metadata": {
        "id": "mPz0VBUtrZ32"
      },
      "outputs": [],
      "source": [
        "train[\"train\"] = 1\n",
        "test[\"train\"] = 0"
      ]
    },
    {
      "cell_type": "code",
      "execution_count": null,
      "metadata": {
        "id": "N6iXRk8krZ33"
      },
      "outputs": [],
      "source": [
        "all_data = pd.concat([train, test]).reset_index(drop=True)"
      ]
    },
    {
      "cell_type": "code",
      "execution_count": null,
      "metadata": {
        "colab": {
          "base_uri": "https://localhost:8080/",
          "height": 394
        },
        "id": "w4r21qI77NH5",
        "outputId": "59ffbff2-a469-4158-b9d8-a6801d763aa9"
      },
      "outputs": [
        {
          "output_type": "execute_result",
          "data": {
            "text/plain": [
              "                              COLUMN_NAME  \\\n",
              "0                 MERCHANT_CATEGORIZED_AT   \n",
              "1                           MERCHANT_NAME   \n",
              "2                 MERCHANT_CATEGORIZED_AS   \n",
              "3                          PURCHASE_VALUE   \n",
              "4                            PURCHASED_AT   \n",
              "5   IS_PURCHASE_PAID_VIA_MPESA_SEND_MONEY   \n",
              "6                              USER_EMAIL   \n",
              "7                                USER_AGE   \n",
              "8                             USER_GENDER   \n",
              "9                          USER_HOUSEHOLD   \n",
              "10                            USER_INCOME   \n",
              "\n",
              "                                                        COLUMN_DEFINATION  \n",
              "0                   The time the merchant was categorized by the customer  \n",
              "1                                                The name of the merchant  \n",
              "2                  The category the merchant was assigned by the customer  \n",
              "3                          The value of the purchase made by the customer  \n",
              "4                                          The time the purchase was made  \n",
              "5   If true indicates that the merchant is not a registered business name  \n",
              "6                                               The email of the customer  \n",
              "7                                                 The age of the customer  \n",
              "8                                              The gender of the customer  \n",
              "9                                            The number of family members  \n",
              "10                                     The monthly income of the customer  "
            ],
            "text/html": [
              "\n",
              "  <div id=\"df-c36da7a6-203e-46ad-ae6d-32ab4bc25d93\">\n",
              "    <div class=\"colab-df-container\">\n",
              "      <div>\n",
              "<style scoped>\n",
              "    .dataframe tbody tr th:only-of-type {\n",
              "        vertical-align: middle;\n",
              "    }\n",
              "\n",
              "    .dataframe tbody tr th {\n",
              "        vertical-align: top;\n",
              "    }\n",
              "\n",
              "    .dataframe thead th {\n",
              "        text-align: right;\n",
              "    }\n",
              "</style>\n",
              "<table border=\"1\" class=\"dataframe\">\n",
              "  <thead>\n",
              "    <tr style=\"text-align: right;\">\n",
              "      <th></th>\n",
              "      <th>COLUMN_NAME</th>\n",
              "      <th>COLUMN_DEFINATION</th>\n",
              "    </tr>\n",
              "  </thead>\n",
              "  <tbody>\n",
              "    <tr>\n",
              "      <th>0</th>\n",
              "      <td>MERCHANT_CATEGORIZED_AT</td>\n",
              "      <td>The time the merchant was categorized by the customer</td>\n",
              "    </tr>\n",
              "    <tr>\n",
              "      <th>1</th>\n",
              "      <td>MERCHANT_NAME</td>\n",
              "      <td>The name of the merchant</td>\n",
              "    </tr>\n",
              "    <tr>\n",
              "      <th>2</th>\n",
              "      <td>MERCHANT_CATEGORIZED_AS</td>\n",
              "      <td>The category the merchant was assigned by the customer</td>\n",
              "    </tr>\n",
              "    <tr>\n",
              "      <th>3</th>\n",
              "      <td>PURCHASE_VALUE</td>\n",
              "      <td>The value of the purchase made by the customer</td>\n",
              "    </tr>\n",
              "    <tr>\n",
              "      <th>4</th>\n",
              "      <td>PURCHASED_AT</td>\n",
              "      <td>The time the purchase was made</td>\n",
              "    </tr>\n",
              "    <tr>\n",
              "      <th>5</th>\n",
              "      <td>IS_PURCHASE_PAID_VIA_MPESA_SEND_MONEY</td>\n",
              "      <td>If true indicates that the merchant is not a registered business name</td>\n",
              "    </tr>\n",
              "    <tr>\n",
              "      <th>6</th>\n",
              "      <td>USER_EMAIL</td>\n",
              "      <td>The email of the customer</td>\n",
              "    </tr>\n",
              "    <tr>\n",
              "      <th>7</th>\n",
              "      <td>USER_AGE</td>\n",
              "      <td>The age of the customer</td>\n",
              "    </tr>\n",
              "    <tr>\n",
              "      <th>8</th>\n",
              "      <td>USER_GENDER</td>\n",
              "      <td>The gender of the customer</td>\n",
              "    </tr>\n",
              "    <tr>\n",
              "      <th>9</th>\n",
              "      <td>USER_HOUSEHOLD</td>\n",
              "      <td>The number of family members</td>\n",
              "    </tr>\n",
              "    <tr>\n",
              "      <th>10</th>\n",
              "      <td>USER_INCOME</td>\n",
              "      <td>The monthly income of the customer</td>\n",
              "    </tr>\n",
              "  </tbody>\n",
              "</table>\n",
              "</div>\n",
              "      <button class=\"colab-df-convert\" onclick=\"convertToInteractive('df-c36da7a6-203e-46ad-ae6d-32ab4bc25d93')\"\n",
              "              title=\"Convert this dataframe to an interactive table.\"\n",
              "              style=\"display:none;\">\n",
              "        \n",
              "  <svg xmlns=\"http://www.w3.org/2000/svg\" height=\"24px\"viewBox=\"0 0 24 24\"\n",
              "       width=\"24px\">\n",
              "    <path d=\"M0 0h24v24H0V0z\" fill=\"none\"/>\n",
              "    <path d=\"M18.56 5.44l.94 2.06.94-2.06 2.06-.94-2.06-.94-.94-2.06-.94 2.06-2.06.94zm-11 1L8.5 8.5l.94-2.06 2.06-.94-2.06-.94L8.5 2.5l-.94 2.06-2.06.94zm10 10l.94 2.06.94-2.06 2.06-.94-2.06-.94-.94-2.06-.94 2.06-2.06.94z\"/><path d=\"M17.41 7.96l-1.37-1.37c-.4-.4-.92-.59-1.43-.59-.52 0-1.04.2-1.43.59L10.3 9.45l-7.72 7.72c-.78.78-.78 2.05 0 2.83L4 21.41c.39.39.9.59 1.41.59.51 0 1.02-.2 1.41-.59l7.78-7.78 2.81-2.81c.8-.78.8-2.07 0-2.86zM5.41 20L4 18.59l7.72-7.72 1.47 1.35L5.41 20z\"/>\n",
              "  </svg>\n",
              "      </button>\n",
              "      \n",
              "  <style>\n",
              "    .colab-df-container {\n",
              "      display:flex;\n",
              "      flex-wrap:wrap;\n",
              "      gap: 12px;\n",
              "    }\n",
              "\n",
              "    .colab-df-convert {\n",
              "      background-color: #E8F0FE;\n",
              "      border: none;\n",
              "      border-radius: 50%;\n",
              "      cursor: pointer;\n",
              "      display: none;\n",
              "      fill: #1967D2;\n",
              "      height: 32px;\n",
              "      padding: 0 0 0 0;\n",
              "      width: 32px;\n",
              "    }\n",
              "\n",
              "    .colab-df-convert:hover {\n",
              "      background-color: #E2EBFA;\n",
              "      box-shadow: 0px 1px 2px rgba(60, 64, 67, 0.3), 0px 1px 3px 1px rgba(60, 64, 67, 0.15);\n",
              "      fill: #174EA6;\n",
              "    }\n",
              "\n",
              "    [theme=dark] .colab-df-convert {\n",
              "      background-color: #3B4455;\n",
              "      fill: #D2E3FC;\n",
              "    }\n",
              "\n",
              "    [theme=dark] .colab-df-convert:hover {\n",
              "      background-color: #434B5C;\n",
              "      box-shadow: 0px 1px 3px 1px rgba(0, 0, 0, 0.15);\n",
              "      filter: drop-shadow(0px 1px 2px rgba(0, 0, 0, 0.3));\n",
              "      fill: #FFFFFF;\n",
              "    }\n",
              "  </style>\n",
              "\n",
              "      <script>\n",
              "        const buttonEl =\n",
              "          document.querySelector('#df-c36da7a6-203e-46ad-ae6d-32ab4bc25d93 button.colab-df-convert');\n",
              "        buttonEl.style.display =\n",
              "          google.colab.kernel.accessAllowed ? 'block' : 'none';\n",
              "\n",
              "        async function convertToInteractive(key) {\n",
              "          const element = document.querySelector('#df-c36da7a6-203e-46ad-ae6d-32ab4bc25d93');\n",
              "          const dataTable =\n",
              "            await google.colab.kernel.invokeFunction('convertToInteractive',\n",
              "                                                     [key], {});\n",
              "          if (!dataTable) return;\n",
              "\n",
              "          const docLinkHtml = 'Like what you see? Visit the ' +\n",
              "            '<a target=\"_blank\" href=https://colab.research.google.com/notebooks/data_table.ipynb>data table notebook</a>'\n",
              "            + ' to learn more about interactive tables.';\n",
              "          element.innerHTML = '';\n",
              "          dataTable['output_type'] = 'display_data';\n",
              "          await google.colab.output.renderOutput(dataTable, element);\n",
              "          const docLink = document.createElement('div');\n",
              "          docLink.innerHTML = docLinkHtml;\n",
              "          element.appendChild(docLink);\n",
              "        }\n",
              "      </script>\n",
              "    </div>\n",
              "  </div>\n",
              "  "
            ]
          },
          "metadata": {},
          "execution_count": 41
        }
      ],
      "source": [
        "var_def"
      ]
    },
    {
      "cell_type": "code",
      "execution_count": null,
      "metadata": {
        "id": "q6V-LqWW1Mq6"
      },
      "outputs": [],
      "source": [
        "all_data['week'] = all_data['PURCHASED_AT'].dt.week"
      ]
    },
    {
      "cell_type": "code",
      "execution_count": null,
      "metadata": {
        "id": "Dj7baMzQmxeD"
      },
      "outputs": [],
      "source": [
        "all_data['MERCHANT_NAME'] = all_data.apply(lambda x:' '.join(x['MERCHANT_NAME'].split()),axis=1)"
      ]
    },
    {
      "cell_type": "code",
      "execution_count": null,
      "metadata": {
        "id": "8dcBk1MrnLxT"
      },
      "outputs": [],
      "source": [
        "all_data['len_char'] = all_data.apply(lambda x:len(x['MERCHANT_NAME'].replace(\" \",\"\")),axis=1)\n",
        "all_data['len_word'] = all_data.apply(lambda x:len(x['MERCHANT_NAME'].split()),axis=1)\n",
        "all_data['len_sent'] = all_data.apply(lambda x:len(x['MERCHANT_NAME']),axis=1)\n",
        "all_data['len_unique'] = all_data.apply(lambda x:(len(set(x['MERCHANT_NAME']))-1),axis=1)"
      ]
    },
    {
      "cell_type": "code",
      "execution_count": null,
      "metadata": {
        "id": "zSHibMU8tz1M"
      },
      "outputs": [],
      "source": [
        "all_data['avg_wordlength'] = all_data['len_char']/all_data['len_word']\n",
        "all_data['avg_sentlength'] = all_data['len_word']/all_data['len_sent']\n",
        "all_data['unique_vs_words'] = all_data['len_unique']/all_data['len_word']"
      ]
    },
    {
      "cell_type": "code",
      "source": [
        "from sklearn.feature_extraction.text import CountVectorizer\n",
        "vectorizer = CountVectorizer(analyzer='word', ngram_range=(1, 1),stop_words={'english'})\n",
        "vectorized = vectorizer.fit_transform(all_data['MERCHANT_NAME'])\n",
        "all_data_cf_idf = pd.DataFrame(vectorized.toarray(),columns=vectorizer.get_feature_names())"
      ],
      "metadata": {
        "id": "FxbGtBs9EZ-C"
      },
      "execution_count": null,
      "outputs": []
    },
    {
      "cell_type": "code",
      "execution_count": null,
      "metadata": {
        "id": "cpySqTOK49DB"
      },
      "outputs": [],
      "source": [
        "# from sklearn.feature_extraction.text import TfidfVectorizer\n",
        "# vectorizer = TfidfVectorizer(analyzer='word', ngram_range=(1, 1),stop_words={'english'})\n",
        "# vectorized = vectorizer.fit_transform(all_data['MERCHANT_NAME'])\n",
        "# all_data_cf_idf = pd.DataFrame(vectorized.toarray(),columns=vectorizer.get_feature_names())"
      ]
    },
    {
      "cell_type": "code",
      "execution_count": null,
      "metadata": {
        "id": "dsfEQyU849hp"
      },
      "outputs": [],
      "source": [
        "all_data = pd.merge(all_data,all_data_cf_idf,left_index=True, right_index=True)"
      ]
    },
    {
      "cell_type": "code",
      "execution_count": null,
      "metadata": {
        "colab": {
          "base_uri": "https://localhost:8080/"
        },
        "id": "tPovwwvKBLlO",
        "outputId": "1cc414e1-6fee-4a0e-a974-6a6a1d4e2e4c"
      },
      "outputs": [
        {
          "output_type": "execute_result",
          "data": {
            "text/plain": [
              "SAFARICOM OFFERS TUNUKIWA    27\n",
              "PETER KENDA                  24\n",
              "FATUMA OSORE                 23\n",
              "M-SHWARI ACCOUNT             22\n",
              "KPLC PREPAID                 20\n",
              "                             ..\n",
              "TOTAL K STATE HOUSE- SHOP     1\n",
              "LEILA KAINGU                  1\n",
              "PIZZA IN BELLEVUE             1\n",
              "RODGERS SIMIYU                1\n",
              "DECATHLON HUB TILL 5          1\n",
              "Name: MERCHANT_NAME, Length: 438, dtype: int64"
            ]
          },
          "metadata": {},
          "execution_count": 49
        }
      ],
      "source": [
        "ce all_data.MERCHANT_NAME.value_counts()"
      ]
    },
    {
      "cell_type": "code",
      "execution_count": null,
      "metadata": {
        "colab": {
          "base_uri": "https://localhost:8080/"
        },
        "id": "TBHkD2y1aDMB",
        "outputId": "0c575887-be94-49d2-e5f8-78bf87edd21f"
      },
      "outputs": [
        {
          "output_type": "execute_result",
          "data": {
            "text/plain": [
              "array(['Rent / Mortgage', 'Transport & Fuel', 'Data & WiFi',\n",
              "       'Loan Repayment', 'Bills & Fees', 'Miscellaneous', 'Groceries',\n",
              "       'Shopping', 'Family & Friends', 'Going out', 'Emergency fund',\n",
              "       'Health', 'Education', nan], dtype=object)"
            ]
          },
          "metadata": {},
          "execution_count": 50
        }
      ],
      "source": [
        "all_data['MERCHANT_CATEGORIZED_AS'].unique"
      ]
    },
    {
      "cell_type": "code",
      "execution_count": null,
      "metadata": {
        "colab": {
          "base_uri": "https://localhost:8080/"
        },
        "id": "lalj0tdIanz7",
        "outputId": "f4623be7-7747-4466-d5fd-5298f2ea5b36"
      },
      "outputs": [
        {
          "output_type": "execute_result",
          "data": {
            "text/plain": [
              "Bills & Fees        78\n",
              "Groceries           50\n",
              "Data & WiFi         43\n",
              "Miscellaneous       43\n",
              "Family & Friends    41\n",
              "Going out           41\n",
              "Transport & Fuel    29\n",
              "Shopping            21\n",
              "Emergency fund      12\n",
              "Health               6\n",
              "Loan Repayment       5\n",
              "Rent / Mortgage      2\n",
              "Education            2\n",
              "Name: MERCHANT_CATEGORIZED_AS, dtype: int64"
            ]
          },
          "metadata": {},
          "execution_count": 51
        }
      ],
      "source": [
        "all_data['MERCHANT_CATEGORIZED_AS'].value_counts()"
      ]
    },
    {
      "cell_type": "code",
      "execution_count": null,
      "metadata": {
        "id": "c_Tc1fLHCsK7"
      },
      "outputs": [],
      "source": [
        "all_data['Frequency_per_merchant'] = all_data.groupby(['USER_ID','MERCHANT_NAME'])[['Transaction_ID']].transform('count')\n",
        "all_data['Mean_Purchase_per_merchant'] = all_data.groupby(['MERCHANT_NAME'])[['PURCHASE_VALUE']].transform('mean')"
      ]
    },
    {
      "cell_type": "code",
      "execution_count": null,
      "metadata": {
        "id": "EumtvMByN2sy"
      },
      "outputs": [],
      "source": [
        "#all_data['Threshold_max'] = all_data.groupby(['MERCHANT_NAME'])[['PURCHASE_VALUE']].transform('max')\n",
        "all_data['Threshold_min'] = all_data.groupby(['MERCHANT_NAME'])[['PURCHASE_VALUE']].transform('min')\n",
        "#all_data['Threshold_mean'] = all_data.groupby(['MERCHANT_NAME'])[['PURCHASE_VALUE']].transform('mean')"
      ]
    },
    {
      "cell_type": "code",
      "source": [
        "from textblob import TextBlob\n",
        "# functions to get polatiy and subjectivity of text using the module textblob\n",
        "def get_polarity(text):\n",
        "    try:\n",
        "        textblob = TextBlob(text)\n",
        "        pol = textblob.sentiment.polarity\n",
        "    except:\n",
        "        pol = 0.0\n",
        "    return pol\n",
        "\n",
        "def get_subjectivity(text):\n",
        "    try:\n",
        "        textblob = TextBlob(text)\n",
        "        subj = textblob.sentiment.subjectivity\n",
        "    except:\n",
        "        subj = 0.0\n",
        "    return subj\n",
        "\n",
        "\n",
        "# change df_small to df to create these features on complete dataframe\n",
        "all_data['polarity'] = all_data['MERCHANT_NAME'].apply(get_polarity)\n",
        "all_data['subjectivity'] = all_data['MERCHANT_NAME'].apply(get_subjectivity)"
      ],
      "metadata": {
        "id": "F03dg5LYx3LB"
      },
      "execution_count": null,
      "outputs": []
    },
    {
      "cell_type": "code",
      "source": [
        "!pip install category_encoders\n",
        "import category_encoders as ce\n",
        "def target_encode_multiclass(X,y):\n",
        "  #X,y are pandas df and series\n",
        "  y=y.astype(str)   #convert to string to onehot encode\n",
        "  enc=ce.OneHotEncoder().fit(y)\n",
        "  y_onehot=enc.transform(y)\n",
        "  class_names=y_onehot.columns  #names of onehot encoded columns\n",
        "  X_obj=X.select_dtypes('object') #separate categorical columns\n",
        "  X=X.select_dtypes(exclude='object') \n",
        "  for class_ in class_names:\n",
        "    enc=ce.TargetEncoder()\n",
        "    enc.fit(X_obj,y_onehot[class_]) #convert all categorical \n",
        "    temp=enc.transform(X_obj)       #columns for class_\n",
        "    temp.columns=[str(x)+'_'+str(class_) for x in temp.columns]\n",
        "    X=pd.concat([X,temp],axis=1)    #add to original dataset\n",
        "      \n",
        "  return X"
      ],
      "metadata": {
        "id": "I9J7GMX4x3vR",
        "colab": {
          "base_uri": "https://localhost:8080/"
        },
        "outputId": "3d753a03-cff7-48b9-9164-1b912f392225"
      },
      "execution_count": null,
      "outputs": [
        {
          "output_type": "stream",
          "name": "stdout",
          "text": [
            "Looking in indexes: https://pypi.org/simple, https://us-python.pkg.dev/colab-wheels/public/simple/\n",
            "Collecting category_encoders\n",
            "  Downloading category_encoders-2.5.0-py2.py3-none-any.whl (69 kB)\n",
            "\u001b[K     |████████████████████████████████| 69 kB 2.9 MB/s \n",
            "\u001b[?25hRequirement already satisfied: statsmodels>=0.9.0 in /usr/local/lib/python3.7/dist-packages (from category_encoders) (0.10.2)\n",
            "Requirement already satisfied: scipy>=1.0.0 in /usr/local/lib/python3.7/dist-packages (from category_encoders) (1.7.3)\n",
            "Requirement already satisfied: scikit-learn>=0.20.0 in /usr/local/lib/python3.7/dist-packages (from category_encoders) (1.0.2)\n",
            "Requirement already satisfied: numpy>=1.14.0 in /usr/local/lib/python3.7/dist-packages (from category_encoders) (1.21.6)\n",
            "Requirement already satisfied: patsy>=0.5.1 in /usr/local/lib/python3.7/dist-packages (from category_encoders) (0.5.2)\n",
            "Requirement already satisfied: pandas>=1.0.5 in /usr/local/lib/python3.7/dist-packages (from category_encoders) (1.3.5)\n",
            "Requirement already satisfied: pytz>=2017.3 in /usr/local/lib/python3.7/dist-packages (from pandas>=1.0.5->category_encoders) (2022.1)\n",
            "Requirement already satisfied: python-dateutil>=2.7.3 in /usr/local/lib/python3.7/dist-packages (from pandas>=1.0.5->category_encoders) (2.8.2)\n",
            "Requirement already satisfied: six in /usr/local/lib/python3.7/dist-packages (from patsy>=0.5.1->category_encoders) (1.15.0)\n",
            "Requirement already satisfied: threadpoolctl>=2.0.0 in /usr/local/lib/python3.7/dist-packages (from scikit-learn>=0.20.0->category_encoders) (3.1.0)\n",
            "Requirement already satisfied: joblib>=0.11 in /usr/local/lib/python3.7/dist-packages (from scikit-learn>=0.20.0->category_encoders) (1.1.0)\n",
            "Installing collected packages: category-encoders\n",
            "Successfully installed category-encoders-2.5.0\n"
          ]
        }
      ]
    },
    {
      "cell_type": "code",
      "source": [
        " the#all_data = pd.merge(all_data,target_encoding,left_index=True, right_index=Tru"
      ],
      "metadata": {
        "id": "NNXDY9ctx31-"
      },
      "execution_count": null,
      "outputs": []
    },
    {
      "cell_type": "code",
      "source": [
        "#all_data['Prev_MERCHANT_NAME'] = all_data['MERCHANT_NAME'].shift(1,fill_value=''"
      ],
      "metadata": {
        "id": "mY95T4IWvMu1"
      },
      "execution_count": null,
      "outputs": []
    },
    {
      "cell_type": "code",
      "source": [],
      "metadata": {
        "id": "5DRgAWXpx2Yn"
      },
      "execution_count": null,
      "outputs": []
    },
    {
      "cell_type": "code",
      "execution_count": null,
      "metadata": {
        "id": "ruVaiG41RFlW"
      },
      "outputs": [],
      "source": [
        "#!pip install category_encoders\n",
        "#import category_encoders as ce"
      ]
    },
    {
      "cell_type": "code",
      "execution_count": null,
      "metadata": {
        "id": "imskEVKfwCKS"
      },
      "outputs": [],
      "source": [
        "from sklearn.preprocessing import LabelEncoder\n",
        "le = LabelEncoder()"
      ]
    },
    {
      "cell_type": "code",
      "execution_count": null,
      "metadata": {
        "id": "fP_xTjXiehOO"
      },
      "outputs": [],
      "source": [
        "all_data['USER_ID'] = le.fit_transform(all_data['USER_ID'])"
      ]
    },
    {
      "cell_type": "code",
      "execution_count": null,
      "metadata": {
        "id": "sP3zNYBKdT4X"
      },
      "outputs": [],
      "source": [
        "#all_data['MERCHANT_NAME'].value_counts().head(35)\n",
        "#keep_cols = all_data['MERCHANT_NAME'].value_counts().index[0:35]\n",
        "#all_data['OHE_MERCHANT_NAME'] = np.where(all_data['MERCHANT_NAME'].isin(keep_cols),all_data['MERCHANT_NAME'],'others')"
      ]
    },
    {
      "cell_type": "code",
      "execution_count": null,
      "metadata": {
        "id": "1zeosIrMGCc3"
      },
      "outputs": [],
      "source": [
        "all_data['MERCHANT_NAME'] = le.fit_transform(all_data['MERCHANT_NAME'])"
      ]
    },
    {
      "cell_type": "code",
      "execution_count": null,
      "metadata": {
        "id": "OibgQphQRRfW"
      },
      "outputs": [],
      "source": [
        "#encoder= ce.OneHotEncoder(cols=['OHE_MERCHANT_NAME'],return_df=True,use_cat_names=True)\n",
        "#data_encoded=encoder.fit_transform(all_data[['OHE_MERCHANT_NAME']]) \n",
        "#all_data = all_data.join(data_encoded)\n",
        "#Arik air = #80,119"
      ]
    },
    {
      "cell_type": "code",
      "execution_count": null,
      "metadata": {
        "id": "vQ0GOPUdsJlI"
      },
      "outputs": [],
      "source": [
        "# Based on our data set, this function converts boolean to binary entries\n",
        "def create_binary_cols(content):\n",
        "  if content == False:\n",
        "    content = 0\n",
        "  elif content == True:\n",
        "    content = 1\n",
        "  elif content == 'N':\n",
        "    content = 0\n",
        "  elif content == 'Y':\n",
        "    content = 1\n",
        "  elif content == 'Male':\n",
        "    content = 0\n",
        "  elif content == 'Female':\n",
        "    content = 1\n",
        "  return content"
      ]
    },
    {
      "cell_type": "code",
      "execution_count": null,
      "metadata": {
        "id": "WV7llutosRsK"
      },
      "outputs": [],
      "source": [
        "# Gender column convert:\n",
        "all_data['USER_GENDER'] = all_data['USER_GENDER'].apply(create_binary_cols)\n",
        "\n",
        "# Is_purchase_paid_via_mpesa_send_money column convert:\n",
        "all_data['IS_PURCHASE_PAID_VIA_MPESA_SEND_MONEY'] = all_data['IS_PURCHASE_PAID_VIA_MPESA_SEND_MONEY'].apply(create_binary_cols)"
      ]
    },
    {
      "cell_type": "code",
      "execution_count": null,
      "metadata": {
        "id": "m2IvLQ6Yregx"
      },
      "outputs": [],
      "source": [
        "#all_data = pd.get_dummies(all_data, prefix_sep=\"_\", columns=['MERCHANT_NAME'])"
      ]
    },
    {
      "cell_type": "markdown",
      "metadata": {
        "id": "E0RrIAKorrCd"
      },
      "source": [
        "Let's see how this affected the shapes"
      ]
    },
    {
      "cell_type": "code",
      "execution_count": null,
      "metadata": {
        "id": "4ij_YGUNrZ36"
      },
      "outputs": [],
      "source": [
        "Train = all_data[all_data[\"train\"] == 1]\n",
        "Test = all_data[all_data[\"train\"] == 0]"
      ]
    },
    {
      "cell_type": "code",
      "execution_count": null,
      "metadata": {
        "colab": {
          "base_uri": "https://localhost:8080/"
        },
        "id": "Ur_WN81srqMF",
        "outputId": "deae3168-276d-42b3-adcc-9b3337fa80b9"
      },
      "outputs": [
        {
          "output_type": "stream",
          "name": "stdout",
          "text": [
            "Train:  (373, 813)\n",
            "Test:  (558, 813)\n"
          ]
        }
      ],
      "source": [
        "print(\"Train: \", Train.shape)\n",
        "print(\"Test: \", Test.shape)"
      ]
    },
    {
      "cell_type": "markdown",
      "metadata": {
        "id": "_-hQBD7R1gF1"
      },
      "source": [
        "### Drop unnecessary columns"
      ]
    },
    {
      "cell_type": "markdown",
      "metadata": {
        "id": "b6Smz5ogrxFt"
      },
      "source": [
        "We can also drop unnecessary categorical columns as we're currently not interested in when the purchases were made or when they were categorized."
      ]
    },
    {
      "cell_type": "code",
      "execution_count": null,
      "metadata": {
        "id": "ySpFfwxJr4D7"
      },
      "outputs": [],
      "source": [
        "Train = Train.drop(['MERCHANT_CATEGORIZED_AT','PURCHASED_AT','Transaction_ID', \"train\",\n",
        "                    'len_char', 'len_word','len_sent', 'len_unique'], axis=1)\n",
        "Test = Test.drop(['MERCHANT_CATEGORIZED_AT','PURCHASED_AT',\"train\", \"MERCHANT_CATEGORIZED_AS\",\n",
        "                  'len_char', 'len_word','len_sent', 'len_unique'],axis=1)"
      ]
    },
    {
      "cell_type": "code",
      "source": [
        "Train[['MERCHANT_NAME']] = Train[['MERCHANT_NAME']].astype('object')"
      ],
      "metadata": {
        "id": "KBRcXvOBJaGE"
      },
      "execution_count": null,
      "outputs": []
    },
    {
      "cell_type": "markdown",
      "metadata": {
        "id": "xRQDXQho1lBg"
      },
      "source": [
        "### Convert Boolean to Binary"
      ]
    },
    {
      "cell_type": "markdown",
      "metadata": {
        "id": "MX2U_Uc4sGB1"
      },
      "source": [
        "Now we convert boolean entries to binary"
      ]
    },
    {
      "cell_type": "markdown",
      "metadata": {
        "id": "4ofAVhkhuarx"
      },
      "source": [
        "## 3. Data preparation for machine learning\n",
        "\n",
        "Before you train the model for prediction, you need to perform data [cleaning](https://www.dataquest.io/blog/machine-learning-preparing-data/) and [preprocessing](https://towardsdatascience.com/data-preprocessing-concepts-fa946d11c825). This is a very important step; your model will not perform well without these steps.\n",
        "\n",
        "The first step is to separate the independent variables and target() from the training data. Then transform the target values from the object data type into numerical.\n"
      ]
    },
    {
      "cell_type": "code",
      "execution_count": null,
      "metadata": {
        "id": "bMzyndZyhZTn"
      },
      "outputs": [],
      "source": [
        "X = Train.drop(['MERCHANT_CATEGORIZED_AS'],axis=1)  \n",
        "y = train_data_corr[\"MERCHANT_CATEGORIZED_AS\"]"
      ]
    },
    {
      "cell_type": "code",
      "execution_count": null,
      "metadata": {
        "colab": {
          "base_uri": "https://localhost:8080/"
        },
        "id": "iXwzW_sq1Arr",
        "outputId": "c82113e7-e834-4a6e-9c27-c57e2a7c67a2"
      },
      "outputs": [
        {
          "output_type": "execute_result",
          "data": {
            "text/plain": [
              "(373, 804)"
            ]
          },
          "metadata": {},
          "execution_count": 72
        }
      ],
      "source": [
        "X.shape"
      ]
    },
    {
      "cell_type": "markdown",
      "metadata": {
        "id": "q1aHDTs90qu_"
      },
      "source": [
        "Now we have more independent variables than before (235 variables). This doesn’t mean all these variables are important to train our model. You need to select only important features that can increase the performance of the model. But we will not apply any feature selection technique in this article; if you want to learn and know more about feature selection techniques, we recommend you read the following articles:\n",
        "\n",
        "\n",
        "*    [Introduction to Feature Selection methods with an example (or how to select the right variables?)](https://https://www.analyticsvidhya.com/blog/2016/12/introduction-to-feature-selection-methods-with-an-example-or-how-to-select-the-right-variables/)\n",
        "*   [The 5 Feature Selection Algorithms every Data Scientist should know](https://towardsdatascience.com/the-5-feature-selection-algorithms-every-data-scientist-need-to-know-3a6b566efd2)\n",
        "*   [How to Choose a Feature Selection Method For Machine Learning](https://machinelearningmastery.com/feature-selection-with-real-and-categorical-data/)\n",
        "*   [Feature Selection Techniques in Machine Learning with Python](https://towardsdatascience.com/feature-selection-techniques-in-machine-learning-with-python-f24e7da3f36e)"
      ]
    },
    {
      "cell_type": "markdown",
      "metadata": {
        "id": "T2SGpaag1QSD"
      },
      "source": [
        "##4. Model Building and Experiments\n",
        "A portion of the training data set will be used to evaluate our models and find the best one that performs well before using it in the test dataset.\n"
      ]
    },
    {
      "cell_type": "code",
      "execution_count": null,
      "metadata": {
        "id": "46Eo9DNW2oYf"
      },
      "outputs": [],
      "source": [
        "from xgboost import XGBClassifier\n",
        "from lightgbm import LGBMClassifier"
      ]
    },
    {
      "cell_type": "code",
      "execution_count": null,
      "metadata": {
        "id": "AysqNB6uVS-e"
      },
      "outputs": [],
      "source": []
    },
    {
      "cell_type": "code",
      "execution_count": null,
      "metadata": {
        "colab": {
          "base_uri": "https://localhost:8080/"
        },
        "id": "OjZE_Uxk22Wr",
        "outputId": "a2717cfe-b8dd-46da-a8fd-f643a2433cc3"
      },
      "outputs": [
        {
          "output_type": "stream",
          "name": "stdout",
          "text": [
            "Looking in indexes: https://pypi.org/simple, https://us-python.pkg.dev/colab-wheels/public/simple/\n",
            "Collecting catboost\n",
            "  Downloading catboost-1.0.6-cp37-none-manylinux1_x86_64.whl (76.6 MB)\n",
            "\u001b[K     |████████████████████████████████| 76.6 MB 1.2 MB/s \n",
            "\u001b[?25hRequirement already satisfied: matplotlib in /usr/local/lib/python3.7/dist-packages (from catboost) (3.2.2)\n",
            "Requirement already satisfied: graphviz in /usr/local/lib/python3.7/dist-packages (from catboost) (0.10.1)\n",
            "Requirement already satisfied: six in /usr/local/lib/python3.7/dist-packages (from catboost) (1.15.0)\n",
            "Requirement already satisfied: plotly in /usr/local/lib/python3.7/dist-packages (from catboost) (5.5.0)\n",
            "Requirement already satisfied: pandas>=0.24.0 in /usr/local/lib/python3.7/dist-packages (from catboost) (1.3.5)\n",
            "Requirement already satisfied: scipy in /usr/local/lib/python3.7/dist-packages (from catboost) (1.7.3)\n",
            "Requirement already satisfied: numpy>=1.16.0 in /usr/local/lib/python3.7/dist-packages (from catboost) (1.21.6)\n",
            "Requirement already satisfied: pytz>=2017.3 in /usr/local/lib/python3.7/dist-packages (from pandas>=0.24.0->catboost) (2022.1)\n",
            "Requirement already satisfied: python-dateutil>=2.7.3 in /usr/local/lib/python3.7/dist-packages (from pandas>=0.24.0->catboost) (2.8.2)\n",
            "Requirement already satisfied: pyparsing!=2.0.4,!=2.1.2,!=2.1.6,>=2.0.1 in /usr/local/lib/python3.7/dist-packages (from matplotlib->catboost) (3.0.9)\n",
            "Requirement already satisfied: kiwisolver>=1.0.1 in /usr/local/lib/python3.7/dist-packages (from matplotlib->catboost) (1.4.4)\n",
            "Requirement already satisfied: cycler>=0.10 in /usr/local/lib/python3.7/dist-packages (from matplotlib->catboost) (0.11.0)\n",
            "Requirement already satisfied: typing-extensions in /usr/local/lib/python3.7/dist-packages (from kiwisolver>=1.0.1->matplotlib->catboost) (4.1.1)\n",
            "Requirement already satisfied: tenacity>=6.2.0 in /usr/local/lib/python3.7/dist-packages (from plotly->catboost) (8.0.1)\n",
            "Installing collected packages: catboost\n",
            "Successfully installed catboost-1.0.6\n"
          ]
        }
      ],
      "source": [
        "!pip install catboost\n",
        "from catboost import CatBoostClassifier"
      ]
    },
    {
      "cell_type": "code",
      "execution_count": null,
      "metadata": {
        "id": "zvXH1SYb3kdv"
      },
      "outputs": [],
      "source": [
        "from sklearn.model_selection import KFold, StratifiedKFold,StratifiedShuffleSplit,RepeatedStratifiedKFold\n",
        "from sklearn.metrics import accuracy_score, f1_score, log_loss\n",
        "from sklearn.preprocessing import MinMaxScaler, StandardScaler\n",
        "from sklearn.utils.class_weight import compute_class_weight"
      ]
    },
    {
      "cell_type": "code",
      "execution_count": null,
      "metadata": {
        "colab": {
          "base_uri": "https://localhost:8080/"
        },
        "id": "l_drWmnh-qTQ",
        "outputId": "ead7d9e9-7cbf-420e-feb5-687cc2911caf"
      },
      "outputs": [
        {
          "output_type": "execute_result",
          "data": {
            "text/plain": [
              "array([ 1,  2,  3,  4,  5,  6,  7,  8,  9, 10, 11, 12, 13])"
            ]
          },
          "metadata": {},
          "execution_count": 102
        }
      ],
      "source": [
        "np.unique(y)"
      ]
    },
    {
      "cell_type": "code",
      "execution_count": null,
      "metadata": {
        "id": "vprjPQrG43Fp"
      },
      "outputs": [],
      "source": [
        "weights = np.sqrt(compute_class_weight(class_weight='balanced',classes=np.unique(y), y=y))"
      ]
    },
    {
      "cell_type": "code",
      "execution_count": null,
      "metadata": {
        "colab": {
          "base_uri": "https://localhost:8080/"
        },
        "id": "jVTlVkTy_E4w",
        "outputId": "9023c544-d62d-41a2-cc3c-305b6142f0b0"
      },
      "outputs": [
        {
          "output_type": "execute_result",
          "data": {
            "text/plain": [
              "{1: 0.606506470385378,\n",
              " 2: 0.816861658782288,\n",
              " 3: 3.787631693572363,\n",
              " 4: 1.5462941638076635,\n",
              " 5: 0.8365478962613031,\n",
              " 6: 0.8365478962613031,\n",
              " 7: 0.7575263387144726,\n",
              " 8: 2.186790177875162,\n",
              " 9: 2.3955086179059215,\n",
              " 10: 0.816861658782288,\n",
              " 11: 3.787631693572363,\n",
              " 12: 1.1688885174816144,\n",
              " 13: 0.9946808133388334}"
            ]
          },
          "metadata": {},
          "execution_count": 104
        }
      ],
      "source": [
        "class_weights = {k:v for k,v in zip(np.unique(y),weights)} \n",
        "class_weights"
      ]
    },
    {
      "cell_type": "code",
      "execution_count": null,
      "metadata": {
        "id": "MDFMCV2Cf5au"
      },
      "outputs": [],
      "source": [
        "from imblearn.over_sampling import RandomOverSampler\n",
        "ros = RandomOverSampler(sampling_strategy='minority',random_state=2022)\n",
        "mm = MinMaxScaler()"
      ]
    },
    {
      "cell_type": "code",
      "execution_count": null,
      "metadata": {
        "colab": {
          "base_uri": "https://localhost:8080/"
        },
        "id": "ONCGf4SMSxWS",
        "outputId": "fe2c1ce8-ada3-4d16-de9b-0015d986819e"
      },
      "outputs": [
        {
          "output_type": "stream",
          "name": "stdout",
          "text": [
            "1.7624933569198766\n",
            "1.4021129892729949\n",
            "1.702772414616946\n",
            "1.4761189802470158\n",
            "1.5858744352642082\n"
          ]
        }
      ],
      "source": [
        "sss = StratifiedShuffleSplit(n_splits=4, test_size=0.2, random_state=0)\n",
        "#sss = StratifiedKFold(n_splits=4)\n",
        "#sss = KFold(n_splits=5)\n",
        "#sss = RepeatedStratifiedKFold(n_splits=5, n_repeats=2)\n",
        "oof_f1=[]\n",
        "feature_importances_cbc=[X.shape[1]]\n",
        "cbc_pred = []\n",
        "for train_index, test_index in sss.split(X, y):\n",
        "    X_train, X_test = X.iloc[train_index],X.iloc[test_index]\n",
        "    y_train, y_test = y.iloc[train_index],y.iloc[test_index]\n",
        "    #X_ros, y_ros = ros.fit_resample(X_train, y_train)\n",
        "    scaled_X_train = mm.fit_transform(X_train)\n",
        "    scaled_X_test = mm.fit_transform(X_test)\n",
        "    model = CatBoostClassifier()#loss_function='MultiClass',depth=4,l2_leaf_reg=6,\n",
        "                               #iterations=5000,colsample_bylevel=0.75)\n",
        "    model.fit(X_train,y_train,eval_set=[(X_train,y_train),(X_test, y_test)],verbose=False)#erly100\n",
        "    preds=model.predict(X_test)\n",
        "    results = model.evals_result_\n",
        "    print(np.mean(results['validation_1']['MultiClass']))\n",
        "    oof_f1.append(np.mean(results['validation_1']['MultiClass']))\n",
        "    #cbc_pred.append(model.predict_proba(Test.drop([\"Transaction_ID\"], axis=1)))\n",
        "    feature_importances_cbc += model.feature_importances_\n",
        "print(np.mean(oof_f1))"
      ]
    },
    {
      "cell_type": "code",
      "execution_count": null,
      "metadata": {
        "id": "0B7b586-XL_9"
      },
      "outputs": [],
      "source": [
        "feature_importances_cbc = feature_importances_cbc / 5\n",
        "feature_importances_cbc = pd.DataFrame({'feature': list(X.columns), 'importance': feature_importances_cbc}).sort_values('importance', ascending = False)"
      ]
    },
    {
      "cell_type": "code",
      "execution_count": null,
      "metadata": {
        "colab": {
          "base_uri": "https://localhost:8080/",
          "height": 1000
        },
        "id": "m_ld6fb3XQYm",
        "outputId": "0fd306fb-a2b7-44fa-b701-d0cd19ebd41c"
      },
      "outputs": [
        {
          "output_type": "execute_result",
          "data": {
            "text/plain": [
              "                                   feature  importance\n",
              "0                            MERCHANT_NAME  170.401637\n",
              "7                                  USER_ID  167.266240\n",
              "800             Mean_Purchase_per_merchant  167.147691\n",
              "2    IS_PURCHASE_PAID_VIA_MPESA_SEND_MONEY  166.808528\n",
              "801                          Threshold_min  166.215055\n",
              "9                           avg_wordlength  166.095147\n",
              "1                           PURCHASE_VALUE  166.091223\n",
              "799                 Frequency_per_merchant  166.065195\n",
              "8                                     week  166.005752\n",
              "11                         unique_vs_words  165.242911\n",
              "802                               clusters  165.145494\n",
              "654                                    642  165.058407\n",
              "6                              USER_INCOME  164.766788\n",
              "10                          avg_sentlength  164.591029\n",
              "5                           USER_HOUSEHOLD  163.910715\n",
              "803                      Merchant_clusters  162.686774\n",
              "4                              USER_GENDER  162.596847\n",
              "387                                    375  162.071556\n",
              "804                               polarity  161.775348\n",
              "805                           subjectivity  161.529327\n",
              "21                                       9  161.374975\n",
              "500                                    488  161.361911\n",
              "596                                    584  161.335148\n",
              "336                                    324  161.326487\n",
              "192                                    180  161.302742\n",
              "592                                    580  161.279012\n",
              "190                                    178  161.276671\n",
              "3                                 USER_AGE  161.274385\n",
              "522                                    510  161.269496\n",
              "293                                    281  161.246220\n",
              "340                                    328  161.245415\n",
              "690                                    678  161.241858\n",
              "595                                    583  161.241020\n",
              "551                                    539  161.239656\n",
              "586                                    574  161.239016\n",
              "364                                    352  161.233711\n",
              "726                                    714  161.225806\n",
              "561                                    549  161.225550\n",
              "612                                    600  161.224294\n",
              "294                                    282  161.223278\n",
              "614                                    602  161.222983\n",
              "745                                    733  161.222577\n",
              "42                                      30  161.221666\n",
              "164                                    152  161.221073\n",
              "104                                     92  161.220875\n",
              "546                                    534  161.219315\n",
              "552                                    540  161.218344\n",
              "575                                    563  161.218050\n",
              "276                                    264  161.217669\n",
              "661                                    649  161.217545"
            ],
            "text/html": [
              "\n",
              "  <div id=\"df-eae7a3fb-9691-4890-a4fe-418d82380187\">\n",
              "    <div class=\"colab-df-container\">\n",
              "      <div>\n",
              "<style scoped>\n",
              "    .dataframe tbody tr th:only-of-type {\n",
              "        vertical-align: middle;\n",
              "    }\n",
              "\n",
              "    .dataframe tbody tr th {\n",
              "        vertical-align: top;\n",
              "    }\n",
              "\n",
              "    .dataframe thead th {\n",
              "        text-align: right;\n",
              "    }\n",
              "</style>\n",
              "<table border=\"1\" class=\"dataframe\">\n",
              "  <thead>\n",
              "    <tr style=\"text-align: right;\">\n",
              "      <th></th>\n",
              "      <th>feature</th>\n",
              "      <th>importance</th>\n",
              "    </tr>\n",
              "  </thead>\n",
              "  <tbody>\n",
              "    <tr>\n",
              "      <th>0</th>\n",
              "      <td>MERCHANT_NAME</td>\n",
              "      <td>170.401637</td>\n",
              "    </tr>\n",
              "    <tr>\n",
              "      <th>7</th>\n",
              "      <td>USER_ID</td>\n",
              "      <td>167.266240</td>\n",
              "    </tr>\n",
              "    <tr>\n",
              "      <th>800</th>\n",
              "      <td>Mean_Purchase_per_merchant</td>\n",
              "      <td>167.147691</td>\n",
              "    </tr>\n",
              "    <tr>\n",
              "      <th>2</th>\n",
              "      <td>IS_PURCHASE_PAID_VIA_MPESA_SEND_MONEY</td>\n",
              "      <td>166.808528</td>\n",
              "    </tr>\n",
              "    <tr>\n",
              "      <th>801</th>\n",
              "      <td>Threshold_min</td>\n",
              "      <td>166.215055</td>\n",
              "    </tr>\n",
              "    <tr>\n",
              "      <th>9</th>\n",
              "      <td>avg_wordlength</td>\n",
              "      <td>166.095147</td>\n",
              "    </tr>\n",
              "    <tr>\n",
              "      <th>1</th>\n",
              "      <td>PURCHASE_VALUE</td>\n",
              "      <td>166.091223</td>\n",
              "    </tr>\n",
              "    <tr>\n",
              "      <th>799</th>\n",
              "      <td>Frequency_per_merchant</td>\n",
              "      <td>166.065195</td>\n",
              "    </tr>\n",
              "    <tr>\n",
              "      <th>8</th>\n",
              "      <td>week</td>\n",
              "      <td>166.005752</td>\n",
              "    </tr>\n",
              "    <tr>\n",
              "      <th>11</th>\n",
              "      <td>unique_vs_words</td>\n",
              "      <td>165.242911</td>\n",
              "    </tr>\n",
              "    <tr>\n",
              "      <th>802</th>\n",
              "      <td>clusters</td>\n",
              "      <td>165.145494</td>\n",
              "    </tr>\n",
              "    <tr>\n",
              "      <th>654</th>\n",
              "      <td>642</td>\n",
              "      <td>165.058407</td>\n",
              "    </tr>\n",
              "    <tr>\n",
              "      <th>6</th>\n",
              "      <td>USER_INCOME</td>\n",
              "      <td>164.766788</td>\n",
              "    </tr>\n",
              "    <tr>\n",
              "      <th>10</th>\n",
              "      <td>avg_sentlength</td>\n",
              "      <td>164.591029</td>\n",
              "    </tr>\n",
              "    <tr>\n",
              "      <th>5</th>\n",
              "      <td>USER_HOUSEHOLD</td>\n",
              "      <td>163.910715</td>\n",
              "    </tr>\n",
              "    <tr>\n",
              "      <th>803</th>\n",
              "      <td>Merchant_clusters</td>\n",
              "      <td>162.686774</td>\n",
              "    </tr>\n",
              "    <tr>\n",
              "      <th>4</th>\n",
              "      <td>USER_GENDER</td>\n",
              "      <td>162.596847</td>\n",
              "    </tr>\n",
              "    <tr>\n",
              "      <th>387</th>\n",
              "      <td>375</td>\n",
              "      <td>162.071556</td>\n",
              "    </tr>\n",
              "    <tr>\n",
              "      <th>804</th>\n",
              "      <td>polarity</td>\n",
              "      <td>161.775348</td>\n",
              "    </tr>\n",
              "    <tr>\n",
              "      <th>805</th>\n",
              "      <td>subjectivity</td>\n",
              "      <td>161.529327</td>\n",
              "    </tr>\n",
              "    <tr>\n",
              "      <th>21</th>\n",
              "      <td>9</td>\n",
              "      <td>161.374975</td>\n",
              "    </tr>\n",
              "    <tr>\n",
              "      <th>500</th>\n",
              "      <td>488</td>\n",
              "      <td>161.361911</td>\n",
              "    </tr>\n",
              "    <tr>\n",
              "      <th>596</th>\n",
              "      <td>584</td>\n",
              "      <td>161.335148</td>\n",
              "    </tr>\n",
              "    <tr>\n",
              "      <th>336</th>\n",
              "      <td>324</td>\n",
              "      <td>161.326487</td>\n",
              "    </tr>\n",
              "    <tr>\n",
              "      <th>192</th>\n",
              "      <td>180</td>\n",
              "      <td>161.302742</td>\n",
              "    </tr>\n",
              "    <tr>\n",
              "      <th>592</th>\n",
              "      <td>580</td>\n",
              "      <td>161.279012</td>\n",
              "    </tr>\n",
              "    <tr>\n",
              "      <th>190</th>\n",
              "      <td>178</td>\n",
              "      <td>161.276671</td>\n",
              "    </tr>\n",
              "    <tr>\n",
              "      <th>3</th>\n",
              "      <td>USER_AGE</td>\n",
              "      <td>161.274385</td>\n",
              "    </tr>\n",
              "    <tr>\n",
              "      <th>522</th>\n",
              "      <td>510</td>\n",
              "      <td>161.269496</td>\n",
              "    </tr>\n",
              "    <tr>\n",
              "      <th>293</th>\n",
              "      <td>281</td>\n",
              "      <td>161.246220</td>\n",
              "    </tr>\n",
              "    <tr>\n",
              "      <th>340</th>\n",
              "      <td>328</td>\n",
              "      <td>161.245415</td>\n",
              "    </tr>\n",
              "    <tr>\n",
              "      <th>690</th>\n",
              "      <td>678</td>\n",
              "      <td>161.241858</td>\n",
              "    </tr>\n",
              "    <tr>\n",
              "      <th>595</th>\n",
              "      <td>583</td>\n",
              "      <td>161.241020</td>\n",
              "    </tr>\n",
              "    <tr>\n",
              "      <th>551</th>\n",
              "      <td>539</td>\n",
              "      <td>161.239656</td>\n",
              "    </tr>\n",
              "    <tr>\n",
              "      <th>586</th>\n",
              "      <td>574</td>\n",
              "      <td>161.239016</td>\n",
              "    </tr>\n",
              "    <tr>\n",
              "      <th>364</th>\n",
              "      <td>352</td>\n",
              "      <td>161.233711</td>\n",
              "    </tr>\n",
              "    <tr>\n",
              "      <th>726</th>\n",
              "      <td>714</td>\n",
              "      <td>161.225806</td>\n",
              "    </tr>\n",
              "    <tr>\n",
              "      <th>561</th>\n",
              "      <td>549</td>\n",
              "      <td>161.225550</td>\n",
              "    </tr>\n",
              "    <tr>\n",
              "      <th>612</th>\n",
              "      <td>600</td>\n",
              "      <td>161.224294</td>\n",
              "    </tr>\n",
              "    <tr>\n",
              "      <th>294</th>\n",
              "      <td>282</td>\n",
              "      <td>161.223278</td>\n",
              "    </tr>\n",
              "    <tr>\n",
              "      <th>614</th>\n",
              "      <td>602</td>\n",
              "      <td>161.222983</td>\n",
              "    </tr>\n",
              "    <tr>\n",
              "      <th>745</th>\n",
              "      <td>733</td>\n",
              "      <td>161.222577</td>\n",
              "    </tr>\n",
              "    <tr>\n",
              "      <th>42</th>\n",
              "      <td>30</td>\n",
              "      <td>161.221666</td>\n",
              "    </tr>\n",
              "    <tr>\n",
              "      <th>164</th>\n",
              "      <td>152</td>\n",
              "      <td>161.221073</td>\n",
              "    </tr>\n",
              "    <tr>\n",
              "      <th>104</th>\n",
              "      <td>92</td>\n",
              "      <td>161.220875</td>\n",
              "    </tr>\n",
              "    <tr>\n",
              "      <th>546</th>\n",
              "      <td>534</td>\n",
              "      <td>161.219315</td>\n",
              "    </tr>\n",
              "    <tr>\n",
              "      <th>552</th>\n",
              "      <td>540</td>\n",
              "      <td>161.218344</td>\n",
              "    </tr>\n",
              "    <tr>\n",
              "      <th>575</th>\n",
              "      <td>563</td>\n",
              "      <td>161.218050</td>\n",
              "    </tr>\n",
              "    <tr>\n",
              "      <th>276</th>\n",
              "      <td>264</td>\n",
              "      <td>161.217669</td>\n",
              "    </tr>\n",
              "    <tr>\n",
              "      <th>661</th>\n",
              "      <td>649</td>\n",
              "      <td>161.217545</td>\n",
              "    </tr>\n",
              "  </tbody>\n",
              "</table>\n",
              "</div>\n",
              "      <button class=\"colab-df-convert\" onclick=\"convertToInteractive('df-eae7a3fb-9691-4890-a4fe-418d82380187')\"\n",
              "              title=\"Convert this dataframe to an interactive table.\"\n",
              "              style=\"display:none;\">\n",
              "        \n",
              "  <svg xmlns=\"http://www.w3.org/2000/svg\" height=\"24px\"viewBox=\"0 0 24 24\"\n",
              "       width=\"24px\">\n",
              "    <path d=\"M0 0h24v24H0V0z\" fill=\"none\"/>\n",
              "    <path d=\"M18.56 5.44l.94 2.06.94-2.06 2.06-.94-2.06-.94-.94-2.06-.94 2.06-2.06.94zm-11 1L8.5 8.5l.94-2.06 2.06-.94-2.06-.94L8.5 2.5l-.94 2.06-2.06.94zm10 10l.94 2.06.94-2.06 2.06-.94-2.06-.94-.94-2.06-.94 2.06-2.06.94z\"/><path d=\"M17.41 7.96l-1.37-1.37c-.4-.4-.92-.59-1.43-.59-.52 0-1.04.2-1.43.59L10.3 9.45l-7.72 7.72c-.78.78-.78 2.05 0 2.83L4 21.41c.39.39.9.59 1.41.59.51 0 1.02-.2 1.41-.59l7.78-7.78 2.81-2.81c.8-.78.8-2.07 0-2.86zM5.41 20L4 18.59l7.72-7.72 1.47 1.35L5.41 20z\"/>\n",
              "  </svg>\n",
              "      </button>\n",
              "      \n",
              "  <style>\n",
              "    .colab-df-container {\n",
              "      display:flex;\n",
              "      flex-wrap:wrap;\n",
              "      gap: 12px;\n",
              "    }\n",
              "\n",
              "    .colab-df-convert {\n",
              "      background-color: #E8F0FE;\n",
              "      border: none;\n",
              "      border-radius: 50%;\n",
              "      cursor: pointer;\n",
              "      display: none;\n",
              "      fill: #1967D2;\n",
              "      height: 32px;\n",
              "      padding: 0 0 0 0;\n",
              "      width: 32px;\n",
              "    }\n",
              "\n",
              "    .colab-df-convert:hover {\n",
              "      background-color: #E2EBFA;\n",
              "      box-shadow: 0px 1px 2px rgba(60, 64, 67, 0.3), 0px 1px 3px 1px rgba(60, 64, 67, 0.15);\n",
              "      fill: #174EA6;\n",
              "    }\n",
              "\n",
              "    [theme=dark] .colab-df-convert {\n",
              "      background-color: #3B4455;\n",
              "      fill: #D2E3FC;\n",
              "    }\n",
              "\n",
              "    [theme=dark] .colab-df-convert:hover {\n",
              "      background-color: #434B5C;\n",
              "      box-shadow: 0px 1px 3px 1px rgba(0, 0, 0, 0.15);\n",
              "      filter: drop-shadow(0px 1px 2px rgba(0, 0, 0, 0.3));\n",
              "      fill: #FFFFFF;\n",
              "    }\n",
              "  </style>\n",
              "\n",
              "      <script>\n",
              "        const buttonEl =\n",
              "          document.querySelector('#df-eae7a3fb-9691-4890-a4fe-418d82380187 button.colab-df-convert');\n",
              "        buttonEl.style.display =\n",
              "          google.colab.kernel.accessAllowed ? 'block' : 'none';\n",
              "\n",
              "        async function convertToInteractive(key) {\n",
              "          const element = document.querySelector('#df-eae7a3fb-9691-4890-a4fe-418d82380187');\n",
              "          const dataTable =\n",
              "            await google.colab.kernel.invokeFunction('convertToInteractive',\n",
              "                                                     [key], {});\n",
              "          if (!dataTable) return;\n",
              "\n",
              "          const docLinkHtml = 'Like what you see? Visit the ' +\n",
              "            '<a target=\"_blank\" href=https://colab.research.google.com/notebooks/data_table.ipynb>data table notebook</a>'\n",
              "            + ' to learn more about interactive tables.';\n",
              "          element.innerHTML = '';\n",
              "          dataTable['output_type'] = 'display_data';\n",
              "          await google.colab.output.renderOutput(dataTable, element);\n",
              "          const docLink = document.createElement('div');\n",
              "          docLink.innerHTML = docLinkHtml;\n",
              "          element.appendChild(docLink);\n",
              "        }\n",
              "      </script>\n",
              "    </div>\n",
              "  </div>\n",
              "  "
            ]
          },
          "metadata": {},
          "execution_count": 108
        }
      ],
      "source": [
        "feature_importances_cbc.head(50)"
      ]
    },
    {
      "cell_type": "code",
      "execution_count": null,
      "metadata": {
        "colab": {
          "base_uri": "https://localhost:8080/"
        },
        "id": "zQviDL88Xrfy",
        "outputId": "3e684321-3540-47ae-9e81-85d3a3c0552b"
      },
      "outputs": [
        {
          "name": "stdout",
          "output_type": "stream",
          "text": [
            "              precision    recall  f1-score   support\n",
            "\n",
            "           1       0.67      0.62      0.65        16\n",
            "           2       0.75      1.00      0.86         9\n",
            "           4       0.00      0.00      0.00         3\n",
            "           5       0.75      0.75      0.75         8\n",
            "           6       0.47      0.88      0.61         8\n",
            "           7       0.71      0.50      0.59        10\n",
            "           8       0.00      0.00      0.00         1\n",
            "           9       0.00      0.00      0.00         1\n",
            "          10       0.64      0.78      0.70         9\n",
            "          12       0.00      0.00      0.00         4\n",
            "          13       0.75      0.50      0.60         6\n",
            "\n",
            "    accuracy                           0.63        75\n",
            "   macro avg       0.43      0.46      0.43        75\n",
            "weighted avg       0.59      0.63      0.60        75\n",
            "\n"
          ]
        }
      ],
      "source": [
        "print(classification_report(y_test, preds))"
      ]
    },
    {
      "cell_type": "code",
      "execution_count": null,
      "metadata": {
        "colab": {
          "base_uri": "https://localhost:8080/"
        },
        "id": "wKyKzxJAgMQE",
        "outputId": "f7f51bd9-7878-4c8c-9e08-88f6019683d2"
      },
      "outputs": [
        {
          "output_type": "stream",
          "name": "stdout",
          "text": [
            "1.712072974982304\n",
            "1.404331541970474\n",
            "1.6311478482285646\n",
            "1.4160361009113553\n",
            "1.6020996002114272\n",
            "1.553137613260825\n"
          ]
        }
      ],
      "source": [
        "sss = StratifiedShuffleSplit(n_splits=5, test_size=0.2, random_state=0)\n",
        "#sss = StratifiedKFold(n_splits=5)\n",
        "#sss = RepeatedStratifiedKFold(n_splits=5, n_repeats=2)\n",
        "oof_f1=[]\n",
        "feature_importances_lgb=[X.shape[1]]\n",
        "lgb_pred = []\n",
        "for train_index, test_index in sss.split(X, y):\n",
        "    X_train, X_test = X.iloc[train_index],X.iloc[test_index]\n",
        "    y_train, y_test = y.iloc[train_index],y.iloc[test_index]\n",
        "    #X_ros, y_ros = ros.fit_resample(X_train, y_train)\n",
        "    scaled_X_train = mm.fit_transform(X_train)\n",
        "    scaled_X_test = mm.fit_transform(X_test)\n",
        "    #model = CatBoostClassifier(loss_function='MultiClass',random_state=25,\n",
        "                               #custom_metric=['AUC'])\n",
        "    #model = XGBClassifier(metric='multiclass',eval_metric='mlogloss')\n",
        "    model = LGBMClassifier()#objective='multiclass',metric='multi_logloss',n_estimators=4500,\n",
        "                           #num_leaves=2,min_gain_to_split=0.5,\n",
        "                           #min_child_samples=2,max_depth=9,colsample_bytree = 0.75)\n",
        "    model.fit(X_train,y_train,eval_set=[(X_train,y_train),(X_test, y_test)], early_stopping_rounds=10,verbose=False)#erly100\n",
        "    preds=model.predict(X_test)\n",
        "    results = model.evals_result_\n",
        "    print(np.mean(results['valid_1']['multi_logloss']))\n",
        "    oof_f1.append(np.mean(results['valid_1']['multi_logloss']))\n",
        "    #lgb_pred.append(model.predict_proba(Test.drop([\"Transaction_ID\"], axis=1)))\n",
        "    feature_importances_lgb += model.feature_importances_\n",
        "print(np.mean(oof_f1))"
      ]
    },
    {
      "cell_type": "code",
      "execution_count": null,
      "metadata": {
        "id": "PbErLTlwNekF"
      },
      "outputs": [],
      "source": [
        "feature_importances_lgb = feature_importances_lgb / 5\n",
        "feature_importances_lgb = pd.DataFrame({'feature': list(X.columns), 'importance': feature_importances_lgb}).sort_values('importance', ascending = False)"
      ]
    },
    {
      "cell_type": "code",
      "execution_count": null,
      "metadata": {
        "colab": {
          "base_uri": "https://localhost:8080/",
          "height": 1000
        },
        "id": "gQUD4ASWNGYM",
        "outputId": "5b0f8b8b-799a-4fff-f1f3-81fc912a93b8"
      },
      "outputs": [
        {
          "output_type": "execute_result",
          "data": {
            "text/plain": [
              "                                   feature  importance\n",
              "0                            MERCHANT_NAME      1086.2\n",
              "800             Mean_Purchase_per_merchant       781.4\n",
              "801                          Threshold_min       741.2\n",
              "799                 Frequency_per_merchant       728.6\n",
              "7                                  USER_ID       633.6\n",
              "8                                     week       626.4\n",
              "11                         unique_vs_words       542.0\n",
              "1                           PURCHASE_VALUE       528.0\n",
              "9                           avg_wordlength       523.0\n",
              "10                          avg_sentlength       431.0\n",
              "6                              USER_INCOME       380.8\n",
              "2    IS_PURCHASE_PAID_VIA_MPESA_SEND_MONEY       339.6\n",
              "5                           USER_HOUSEHOLD       317.8\n",
              "802                               clusters       305.6\n",
              "654                                    642       260.8\n",
              "4                              USER_GENDER       230.0\n",
              "387                                    375       195.0\n",
              "805                           subjectivity       189.4\n",
              "804                               polarity       171.6\n",
              "803                      Merchant_clusters       168.0\n",
              "21                                       9       164.4\n",
              "18                                       6       161.2\n",
              "547                                    535       161.2\n",
              "537                                    525       161.2\n",
              "538                                    526       161.2\n",
              "539                                    527       161.2\n",
              "540                                    528       161.2\n",
              "541                                    529       161.2\n",
              "542                                    530       161.2\n",
              "543                                    531       161.2\n",
              "544                                    532       161.2\n",
              "545                                    533       161.2\n",
              "546                                    534       161.2\n",
              "549                                    537       161.2\n",
              "548                                    536       161.2\n",
              "535                                    523       161.2\n",
              "550                                    538       161.2\n",
              "551                                    539       161.2\n",
              "552                                    540       161.2\n",
              "553                                    541       161.2\n",
              "554                                    542       161.2\n",
              "555                                    543       161.2\n",
              "556                                    544       161.2\n",
              "557                                    545       161.2\n",
              "536                                    524       161.2\n",
              "533                                    521       161.2\n",
              "534                                    522       161.2\n",
              "522                                    510       161.2\n",
              "513                                    501       161.2\n",
              "514                                    502       161.2"
            ],
            "text/html": [
              "\n",
              "  <div id=\"df-f1894b0f-120c-4cf2-a7a7-b37605cc5dcc\">\n",
              "    <div class=\"colab-df-container\">\n",
              "      <div>\n",
              "<style scoped>\n",
              "    .dataframe tbody tr th:only-of-type {\n",
              "        vertical-align: middle;\n",
              "    }\n",
              "\n",
              "    .dataframe tbody tr th {\n",
              "        vertical-align: top;\n",
              "    }\n",
              "\n",
              "    .dataframe thead th {\n",
              "        text-align: right;\n",
              "    }\n",
              "</style>\n",
              "<table border=\"1\" class=\"dataframe\">\n",
              "  <thead>\n",
              "    <tr style=\"text-align: right;\">\n",
              "      <th></th>\n",
              "      <th>feature</th>\n",
              "      <th>importance</th>\n",
              "    </tr>\n",
              "  </thead>\n",
              "  <tbody>\n",
              "    <tr>\n",
              "      <th>0</th>\n",
              "      <td>MERCHANT_NAME</td>\n",
              "      <td>1086.2</td>\n",
              "    </tr>\n",
              "    <tr>\n",
              "      <th>800</th>\n",
              "      <td>Mean_Purchase_per_merchant</td>\n",
              "      <td>781.4</td>\n",
              "    </tr>\n",
              "    <tr>\n",
              "      <th>801</th>\n",
              "      <td>Threshold_min</td>\n",
              "      <td>741.2</td>\n",
              "    </tr>\n",
              "    <tr>\n",
              "      <th>799</th>\n",
              "      <td>Frequency_per_merchant</td>\n",
              "      <td>728.6</td>\n",
              "    </tr>\n",
              "    <tr>\n",
              "      <th>7</th>\n",
              "      <td>USER_ID</td>\n",
              "      <td>633.6</td>\n",
              "    </tr>\n",
              "    <tr>\n",
              "      <th>8</th>\n",
              "      <td>week</td>\n",
              "      <td>626.4</td>\n",
              "    </tr>\n",
              "    <tr>\n",
              "      <th>11</th>\n",
              "      <td>unique_vs_words</td>\n",
              "      <td>542.0</td>\n",
              "    </tr>\n",
              "    <tr>\n",
              "      <th>1</th>\n",
              "      <td>PURCHASE_VALUE</td>\n",
              "      <td>528.0</td>\n",
              "    </tr>\n",
              "    <tr>\n",
              "      <th>9</th>\n",
              "      <td>avg_wordlength</td>\n",
              "      <td>523.0</td>\n",
              "    </tr>\n",
              "    <tr>\n",
              "      <th>10</th>\n",
              "      <td>avg_sentlength</td>\n",
              "      <td>431.0</td>\n",
              "    </tr>\n",
              "    <tr>\n",
              "      <th>6</th>\n",
              "      <td>USER_INCOME</td>\n",
              "      <td>380.8</td>\n",
              "    </tr>\n",
              "    <tr>\n",
              "      <th>2</th>\n",
              "      <td>IS_PURCHASE_PAID_VIA_MPESA_SEND_MONEY</td>\n",
              "      <td>339.6</td>\n",
              "    </tr>\n",
              "    <tr>\n",
              "      <th>5</th>\n",
              "      <td>USER_HOUSEHOLD</td>\n",
              "      <td>317.8</td>\n",
              "    </tr>\n",
              "    <tr>\n",
              "      <th>802</th>\n",
              "      <td>clusters</td>\n",
              "      <td>305.6</td>\n",
              "    </tr>\n",
              "    <tr>\n",
              "      <th>654</th>\n",
              "      <td>642</td>\n",
              "      <td>260.8</td>\n",
              "    </tr>\n",
              "    <tr>\n",
              "      <th>4</th>\n",
              "      <td>USER_GENDER</td>\n",
              "      <td>230.0</td>\n",
              "    </tr>\n",
              "    <tr>\n",
              "      <th>387</th>\n",
              "      <td>375</td>\n",
              "      <td>195.0</td>\n",
              "    </tr>\n",
              "    <tr>\n",
              "      <th>805</th>\n",
              "      <td>subjectivity</td>\n",
              "      <td>189.4</td>\n",
              "    </tr>\n",
              "    <tr>\n",
              "      <th>804</th>\n",
              "      <td>polarity</td>\n",
              "      <td>171.6</td>\n",
              "    </tr>\n",
              "    <tr>\n",
              "      <th>803</th>\n",
              "      <td>Merchant_clusters</td>\n",
              "      <td>168.0</td>\n",
              "    </tr>\n",
              "    <tr>\n",
              "      <th>21</th>\n",
              "      <td>9</td>\n",
              "      <td>164.4</td>\n",
              "    </tr>\n",
              "    <tr>\n",
              "      <th>18</th>\n",
              "      <td>6</td>\n",
              "      <td>161.2</td>\n",
              "    </tr>\n",
              "    <tr>\n",
              "      <th>547</th>\n",
              "      <td>535</td>\n",
              "      <td>161.2</td>\n",
              "    </tr>\n",
              "    <tr>\n",
              "      <th>537</th>\n",
              "      <td>525</td>\n",
              "      <td>161.2</td>\n",
              "    </tr>\n",
              "    <tr>\n",
              "      <th>538</th>\n",
              "      <td>526</td>\n",
              "      <td>161.2</td>\n",
              "    </tr>\n",
              "    <tr>\n",
              "      <th>539</th>\n",
              "      <td>527</td>\n",
              "      <td>161.2</td>\n",
              "    </tr>\n",
              "    <tr>\n",
              "      <th>540</th>\n",
              "      <td>528</td>\n",
              "      <td>161.2</td>\n",
              "    </tr>\n",
              "    <tr>\n",
              "      <th>541</th>\n",
              "      <td>529</td>\n",
              "      <td>161.2</td>\n",
              "    </tr>\n",
              "    <tr>\n",
              "      <th>542</th>\n",
              "      <td>530</td>\n",
              "      <td>161.2</td>\n",
              "    </tr>\n",
              "    <tr>\n",
              "      <th>543</th>\n",
              "      <td>531</td>\n",
              "      <td>161.2</td>\n",
              "    </tr>\n",
              "    <tr>\n",
              "      <th>544</th>\n",
              "      <td>532</td>\n",
              "      <td>161.2</td>\n",
              "    </tr>\n",
              "    <tr>\n",
              "      <th>545</th>\n",
              "      <td>533</td>\n",
              "      <td>161.2</td>\n",
              "    </tr>\n",
              "    <tr>\n",
              "      <th>546</th>\n",
              "      <td>534</td>\n",
              "      <td>161.2</td>\n",
              "    </tr>\n",
              "    <tr>\n",
              "      <th>549</th>\n",
              "      <td>537</td>\n",
              "      <td>161.2</td>\n",
              "    </tr>\n",
              "    <tr>\n",
              "      <th>548</th>\n",
              "      <td>536</td>\n",
              "      <td>161.2</td>\n",
              "    </tr>\n",
              "    <tr>\n",
              "      <th>535</th>\n",
              "      <td>523</td>\n",
              "      <td>161.2</td>\n",
              "    </tr>\n",
              "    <tr>\n",
              "      <th>550</th>\n",
              "      <td>538</td>\n",
              "      <td>161.2</td>\n",
              "    </tr>\n",
              "    <tr>\n",
              "      <th>551</th>\n",
              "      <td>539</td>\n",
              "      <td>161.2</td>\n",
              "    </tr>\n",
              "    <tr>\n",
              "      <th>552</th>\n",
              "      <td>540</td>\n",
              "      <td>161.2</td>\n",
              "    </tr>\n",
              "    <tr>\n",
              "      <th>553</th>\n",
              "      <td>541</td>\n",
              "      <td>161.2</td>\n",
              "    </tr>\n",
              "    <tr>\n",
              "      <th>554</th>\n",
              "      <td>542</td>\n",
              "      <td>161.2</td>\n",
              "    </tr>\n",
              "    <tr>\n",
              "      <th>555</th>\n",
              "      <td>543</td>\n",
              "      <td>161.2</td>\n",
              "    </tr>\n",
              "    <tr>\n",
              "      <th>556</th>\n",
              "      <td>544</td>\n",
              "      <td>161.2</td>\n",
              "    </tr>\n",
              "    <tr>\n",
              "      <th>557</th>\n",
              "      <td>545</td>\n",
              "      <td>161.2</td>\n",
              "    </tr>\n",
              "    <tr>\n",
              "      <th>536</th>\n",
              "      <td>524</td>\n",
              "      <td>161.2</td>\n",
              "    </tr>\n",
              "    <tr>\n",
              "      <th>533</th>\n",
              "      <td>521</td>\n",
              "      <td>161.2</td>\n",
              "    </tr>\n",
              "    <tr>\n",
              "      <th>534</th>\n",
              "      <td>522</td>\n",
              "      <td>161.2</td>\n",
              "    </tr>\n",
              "    <tr>\n",
              "      <th>522</th>\n",
              "      <td>510</td>\n",
              "      <td>161.2</td>\n",
              "    </tr>\n",
              "    <tr>\n",
              "      <th>513</th>\n",
              "      <td>501</td>\n",
              "      <td>161.2</td>\n",
              "    </tr>\n",
              "    <tr>\n",
              "      <th>514</th>\n",
              "      <td>502</td>\n",
              "      <td>161.2</td>\n",
              "    </tr>\n",
              "  </tbody>\n",
              "</table>\n",
              "</div>\n",
              "      <button class=\"colab-df-convert\" onclick=\"convertToInteractive('df-f1894b0f-120c-4cf2-a7a7-b37605cc5dcc')\"\n",
              "              title=\"Convert this dataframe to an interactive table.\"\n",
              "              style=\"display:none;\">\n",
              "        \n",
              "  <svg xmlns=\"http://www.w3.org/2000/svg\" height=\"24px\"viewBox=\"0 0 24 24\"\n",
              "       width=\"24px\">\n",
              "    <path d=\"M0 0h24v24H0V0z\" fill=\"none\"/>\n",
              "    <path d=\"M18.56 5.44l.94 2.06.94-2.06 2.06-.94-2.06-.94-.94-2.06-.94 2.06-2.06.94zm-11 1L8.5 8.5l.94-2.06 2.06-.94-2.06-.94L8.5 2.5l-.94 2.06-2.06.94zm10 10l.94 2.06.94-2.06 2.06-.94-2.06-.94-.94-2.06-.94 2.06-2.06.94z\"/><path d=\"M17.41 7.96l-1.37-1.37c-.4-.4-.92-.59-1.43-.59-.52 0-1.04.2-1.43.59L10.3 9.45l-7.72 7.72c-.78.78-.78 2.05 0 2.83L4 21.41c.39.39.9.59 1.41.59.51 0 1.02-.2 1.41-.59l7.78-7.78 2.81-2.81c.8-.78.8-2.07 0-2.86zM5.41 20L4 18.59l7.72-7.72 1.47 1.35L5.41 20z\"/>\n",
              "  </svg>\n",
              "      </button>\n",
              "      \n",
              "  <style>\n",
              "    .colab-df-container {\n",
              "      display:flex;\n",
              "      flex-wrap:wrap;\n",
              "      gap: 12px;\n",
              "    }\n",
              "\n",
              "    .colab-df-convert {\n",
              "      background-color: #E8F0FE;\n",
              "      border: none;\n",
              "      border-radius: 50%;\n",
              "      cursor: pointer;\n",
              "      display: none;\n",
              "      fill: #1967D2;\n",
              "      height: 32px;\n",
              "      padding: 0 0 0 0;\n",
              "      width: 32px;\n",
              "    }\n",
              "\n",
              "    .colab-df-convert:hover {\n",
              "      background-color: #E2EBFA;\n",
              "      box-shadow: 0px 1px 2px rgba(60, 64, 67, 0.3), 0px 1px 3px 1px rgba(60, 64, 67, 0.15);\n",
              "      fill: #174EA6;\n",
              "    }\n",
              "\n",
              "    [theme=dark] .colab-df-convert {\n",
              "      background-color: #3B4455;\n",
              "      fill: #D2E3FC;\n",
              "    }\n",
              "\n",
              "    [theme=dark] .colab-df-convert:hover {\n",
              "      background-color: #434B5C;\n",
              "      box-shadow: 0px 1px 3px 1px rgba(0, 0, 0, 0.15);\n",
              "      filter: drop-shadow(0px 1px 2px rgba(0, 0, 0, 0.3));\n",
              "      fill: #FFFFFF;\n",
              "    }\n",
              "  </style>\n",
              "\n",
              "      <script>\n",
              "        const buttonEl =\n",
              "          document.querySelector('#df-f1894b0f-120c-4cf2-a7a7-b37605cc5dcc button.colab-df-convert');\n",
              "        buttonEl.style.display =\n",
              "          google.colab.kernel.accessAllowed ? 'block' : 'none';\n",
              "\n",
              "        async function convertToInteractive(key) {\n",
              "          const element = document.querySelector('#df-f1894b0f-120c-4cf2-a7a7-b37605cc5dcc');\n",
              "          const dataTable =\n",
              "            await google.colab.kernel.invokeFunction('convertToInteractive',\n",
              "                                                     [key], {});\n",
              "          if (!dataTable) return;\n",
              "\n",
              "          const docLinkHtml = 'Like what you see? Visit the ' +\n",
              "            '<a target=\"_blank\" href=https://colab.research.google.com/notebooks/data_table.ipynb>data table notebook</a>'\n",
              "            + ' to learn more about interactive tables.';\n",
              "          element.innerHTML = '';\n",
              "          dataTable['output_type'] = 'display_data';\n",
              "          await google.colab.output.renderOutput(dataTable, element);\n",
              "          const docLink = document.createElement('div');\n",
              "          docLink.innerHTML = docLinkHtml;\n",
              "          element.appendChild(docLink);\n",
              "        }\n",
              "      </script>\n",
              "    </div>\n",
              "  </div>\n",
              "  "
            ]
          },
          "metadata": {},
          "execution_count": 111
        }
      ],
      "source": [
        "feature_importances_lgb.head(50)"
      ]
    },
    {
      "cell_type": "code",
      "execution_count": null,
      "metadata": {
        "colab": {
          "base_uri": "https://localhost:8080/"
        },
        "id": "5ynDQIIyAuZM",
        "outputId": "e72f9888-f075-4656-daaf-1f49d455f65c"
      },
      "outputs": [
        {
          "name": "stdout",
          "output_type": "stream",
          "text": [
            "              precision    recall  f1-score   support\n",
            "\n",
            "           1       0.45      0.56      0.50        16\n",
            "           2       0.73      0.89      0.80         9\n",
            "           4       0.00      0.00      0.00         3\n",
            "           5       0.45      0.62      0.53         8\n",
            "           6       0.50      0.38      0.43         8\n",
            "           7       0.58      0.70      0.64        10\n",
            "           8       0.00      0.00      0.00         1\n",
            "           9       0.00      0.00      0.00         1\n",
            "          10       0.56      0.56      0.56         9\n",
            "          12       0.00      0.00      0.00         4\n",
            "          13       0.33      0.17      0.22         6\n",
            "\n",
            "    accuracy                           0.51        75\n",
            "   macro avg       0.33      0.35      0.33        75\n",
            "weighted avg       0.46      0.51      0.47        75\n",
            "\n"
          ]
        }
      ],
      "source": [
        "print(classification_report(y_test, preds))"
      ]
    },
    {
      "cell_type": "markdown",
      "metadata": {
        "id": "W0sgBhhK24ev"
      },
      "source": [
        "Let's try random forest with 100 estimators"
      ]
    },
    {
      "cell_type": "code",
      "source": [
        "X.columns"
      ],
      "metadata": {
        "colab": {
          "base_uri": "https://localhost:8080/"
        },
        "id": "OvFaYjxDLwlp",
        "outputId": "25ad4e96-abe2-4c35-9e4b-45b1b6dfe07a"
      },
      "execution_count": null,
      "outputs": [
        {
          "output_type": "execute_result",
          "data": {
            "text/plain": [
              "Index(['MERCHANT_NAME', 'PURCHASE_VALUE',\n",
              "       'IS_PURCHASE_PAID_VIA_MPESA_SEND_MONEY', 'USER_AGE', 'USER_GENDER',\n",
              "       'USER_HOUSEHOLD', 'USER_INCOME', 'USER_ID', 'week', 'avg_wordlength',\n",
              "       ...\n",
              "       'ziro', 'zuku', 'zuri', 'Frequency_per_merchant',\n",
              "       'Mean_Purchase_per_merchant', 'Threshold_min', 'clusters',\n",
              "       'Merchant_clusters', 'polarity', 'subjectivity'],\n",
              "      dtype='object', length=806)"
            ]
          },
          "metadata": {},
          "execution_count": 399
        }
      ]
    },
    {
      "cell_type": "code",
      "source": [
        "X = Train.drop(['MERCHANT_CATEGORIZED_AS','clusters','Merchant_clusters','USER_GENDER'],axis=1)"
      ],
      "metadata": {
        "id": "k_3vFHMiKvVn"
      },
      "execution_count": null,
      "outputs": []
    },
    {
      "cell_type": "code",
      "execution_count": null,
      "metadata": {
        "colab": {
          "base_uri": "https://localhost:8080/"
        },
        "id": "TtEWJe0Vidr-",
        "outputId": "0d0cab0d-a301-4f91-a964-92888d16c1f4"
      },
      "outputs": [
        {
          "output_type": "stream",
          "name": "stdout",
          "text": [
            "1.631160230769231\n",
            "1.2128096794871794\n",
            "1.6013175624999998\n",
            "1.3624820704225353\n",
            "1.4813938833333333\n",
            "1.457832685302456\n"
          ]
        }
      ],
      "source": [
        "sss = StratifiedShuffleSplit(n_splits=5, test_size=0.2, random_state=0)\n",
        "#sss = StratifiedKFold(n_splits=5)\n",
        "#sss = RepeatedStratifiedKFold(n_splits=5, n_repeats=2)\n",
        "oof_f1=[]\n",
        "feature_importances_xgb=[X.shape[1]]\n",
        "xgb_pred = []\n",
        "for train_index, test_index in sss.split(X, y):\n",
        "    X_train, X_test = X.iloc[train_index],X.iloc[test_index]\n",
        "    y_train, y_test = y.iloc[train_index],y.iloc[test_index]\n",
        "    #X_ros, y_ros = ros.fit_resample(X_train, y_train)\n",
        "    #scaled_X_train = mm.fit_transform(X_train)\n",
        "    #scaled_X_test = mm.fit_transform(X_test)\n",
        "    #model = CatBoostClassifier(loss_function='MultiClass',random_state=25,\n",
        "                               #custom_metric=['AUC'])\n",
        "    model = XGBClassifier(metric='multiclass',eval_metric='mlogloss',min_child_weight=0.2,\n",
        "                          gamma=0.03,seed=25,min_child_samples=10,\n",
        "                          max_depth=9,min_gain_to_split=0.35,colsample_bytree = 0.31780576366140434)\n",
        "    model.fit(X_train,y_train,eval_set=[(X_train,y_train),(X_test, y_test)], early_stopping_rounds=10,verbose=False)#erly100\n",
        "    preds=model.predict(X_test)\n",
        "    results=model.evals_result()\n",
        "    print(np.mean(results['validation_1']['mlogloss']))\n",
        "    oof_f1.append(np.mean(results['validation_1']['mlogloss']))\n",
        "    xgb_pred.append(model.predict_proba(Test[X_train.columns]))\n",
        "    feature_importances_xgb += model.feature_importances_\n",
        "print(np.mean(oof_f1))"
      ]
    },
    {
      "cell_type": "code",
      "execution_count": null,
      "metadata": {
        "id": "sr6qlFVsMoo4"
      },
      "outputs": [],
      "source": [
        "feature_importances_xgb = feature_importances_xgb / 5\n",
        "feature_importances_xgb = pd.DataFrame({'feature': list(X.columns), 'importance': feature_importances_xgb}).sort_values('importance', ascending = False)"
      ]
    },
    {
      "cell_type": "code",
      "execution_count": null,
      "metadata": {
        "colab": {
          "base_uri": "https://localhost:8080/",
          "height": 1000
        },
        "id": "QEgjaiHbPL1C",
        "outputId": "1699b9f0-4a27-4328-bebc-67660aad3033"
      },
      "outputs": [
        {
          "output_type": "execute_result",
          "data": {
            "text/plain": [
              "                                   feature  importance\n",
              "733                                    721  161.223099\n",
              "654                                    642  161.218394\n",
              "551                                    539  161.213003\n",
              "711                                    699  161.212887\n",
              "268                                    256  161.212332\n",
              "519                                    507  161.209314\n",
              "113                                    101  161.209199\n",
              "614                                    602  161.208987\n",
              "336                                    324  161.207918\n",
              "574                                    562  161.207388\n",
              "793                                    781  161.207122\n",
              "596                                    584  161.207081\n",
              "2    IS_PURCHASE_PAID_VIA_MPESA_SEND_MONEY  161.207040\n",
              "191                                    179  161.206987\n",
              "690                                    678  161.206863\n",
              "294                                    282  161.206397\n",
              "300                                    288  161.206347\n",
              "121                                    109  161.206179\n",
              "155                                    143  161.206096\n",
              "742                                    730  161.205838\n",
              "182                                    170  161.205706\n",
              "66                                      54  161.205587\n",
              "595                                    583  161.205449\n",
              "364                                    352  161.205085\n",
              "752                                    740  161.205032\n",
              "581                                    569  161.204981\n",
              "331                                    319  161.204711\n",
              "370                                    358  161.204676\n",
              "21                                       9  161.204665\n",
              "454                                    442  161.204589\n",
              "327                                    315  161.204509\n",
              "99                                      87  161.204365\n",
              "535                                    523  161.204325\n",
              "734                                    722  161.204315\n",
              "724                                    712  161.204226\n",
              "293                                    281  161.204153\n",
              "104                                     92  161.204137\n",
              "276                                    264  161.204127\n",
              "552                                    540  161.204009\n",
              "371                                    359  161.203951\n",
              "98                                      86  161.203947\n",
              "799                 Frequency_per_merchant  161.203936\n",
              "384                                    372  161.203887\n",
              "803                      Merchant_clusters  161.203876\n",
              "330                                    318  161.203818\n",
              "453                                    441  161.203803\n",
              "675                                    663  161.203800\n",
              "299                                    287  161.203777\n",
              "189                                    177  161.203728\n",
              "612                                    600  161.203712"
            ],
            "text/html": [
              "\n",
              "  <div id=\"df-bf0fd0bb-5786-42f1-938b-1ccd9cd8a48b\">\n",
              "    <div class=\"colab-df-container\">\n",
              "      <div>\n",
              "<style scoped>\n",
              "    .dataframe tbody tr th:only-of-type {\n",
              "        vertical-align: middle;\n",
              "    }\n",
              "\n",
              "    .dataframe tbody tr th {\n",
              "        vertical-align: top;\n",
              "    }\n",
              "\n",
              "    .dataframe thead th {\n",
              "        text-align: right;\n",
              "    }\n",
              "</style>\n",
              "<table border=\"1\" class=\"dataframe\">\n",
              "  <thead>\n",
              "    <tr style=\"text-align: right;\">\n",
              "      <th></th>\n",
              "      <th>feature</th>\n",
              "      <th>importance</th>\n",
              "    </tr>\n",
              "  </thead>\n",
              "  <tbody>\n",
              "    <tr>\n",
              "      <th>733</th>\n",
              "      <td>721</td>\n",
              "      <td>161.223099</td>\n",
              "    </tr>\n",
              "    <tr>\n",
              "      <th>654</th>\n",
              "      <td>642</td>\n",
              "      <td>161.218394</td>\n",
              "    </tr>\n",
              "    <tr>\n",
              "      <th>551</th>\n",
              "      <td>539</td>\n",
              "      <td>161.213003</td>\n",
              "    </tr>\n",
              "    <tr>\n",
              "      <th>711</th>\n",
              "      <td>699</td>\n",
              "      <td>161.212887</td>\n",
              "    </tr>\n",
              "    <tr>\n",
              "      <th>268</th>\n",
              "      <td>256</td>\n",
              "      <td>161.212332</td>\n",
              "    </tr>\n",
              "    <tr>\n",
              "      <th>519</th>\n",
              "      <td>507</td>\n",
              "      <td>161.209314</td>\n",
              "    </tr>\n",
              "    <tr>\n",
              "      <th>113</th>\n",
              "      <td>101</td>\n",
              "      <td>161.209199</td>\n",
              "    </tr>\n",
              "    <tr>\n",
              "      <th>614</th>\n",
              "      <td>602</td>\n",
              "      <td>161.208987</td>\n",
              "    </tr>\n",
              "    <tr>\n",
              "      <th>336</th>\n",
              "      <td>324</td>\n",
              "      <td>161.207918</td>\n",
              "    </tr>\n",
              "    <tr>\n",
              "      <th>574</th>\n",
              "      <td>562</td>\n",
              "      <td>161.207388</td>\n",
              "    </tr>\n",
              "    <tr>\n",
              "      <th>793</th>\n",
              "      <td>781</td>\n",
              "      <td>161.207122</td>\n",
              "    </tr>\n",
              "    <tr>\n",
              "      <th>596</th>\n",
              "      <td>584</td>\n",
              "      <td>161.207081</td>\n",
              "    </tr>\n",
              "    <tr>\n",
              "      <th>2</th>\n",
              "      <td>IS_PURCHASE_PAID_VIA_MPESA_SEND_MONEY</td>\n",
              "      <td>161.207040</td>\n",
              "    </tr>\n",
              "    <tr>\n",
              "      <th>191</th>\n",
              "      <td>179</td>\n",
              "      <td>161.206987</td>\n",
              "    </tr>\n",
              "    <tr>\n",
              "      <th>690</th>\n",
              "      <td>678</td>\n",
              "      <td>161.206863</td>\n",
              "    </tr>\n",
              "    <tr>\n",
              "      <th>294</th>\n",
              "      <td>282</td>\n",
              "      <td>161.206397</td>\n",
              "    </tr>\n",
              "    <tr>\n",
              "      <th>300</th>\n",
              "      <td>288</td>\n",
              "      <td>161.206347</td>\n",
              "    </tr>\n",
              "    <tr>\n",
              "      <th>121</th>\n",
              "      <td>109</td>\n",
              "      <td>161.206179</td>\n",
              "    </tr>\n",
              "    <tr>\n",
              "      <th>155</th>\n",
              "      <td>143</td>\n",
              "      <td>161.206096</td>\n",
              "    </tr>\n",
              "    <tr>\n",
              "      <th>742</th>\n",
              "      <td>730</td>\n",
              "      <td>161.205838</td>\n",
              "    </tr>\n",
              "    <tr>\n",
              "      <th>182</th>\n",
              "      <td>170</td>\n",
              "      <td>161.205706</td>\n",
              "    </tr>\n",
              "    <tr>\n",
              "      <th>66</th>\n",
              "      <td>54</td>\n",
              "      <td>161.205587</td>\n",
              "    </tr>\n",
              "    <tr>\n",
              "      <th>595</th>\n",
              "      <td>583</td>\n",
              "      <td>161.205449</td>\n",
              "    </tr>\n",
              "    <tr>\n",
              "      <th>364</th>\n",
              "      <td>352</td>\n",
              "      <td>161.205085</td>\n",
              "    </tr>\n",
              "    <tr>\n",
              "      <th>752</th>\n",
              "      <td>740</td>\n",
              "      <td>161.205032</td>\n",
              "    </tr>\n",
              "    <tr>\n",
              "      <th>581</th>\n",
              "      <td>569</td>\n",
              "      <td>161.204981</td>\n",
              "    </tr>\n",
              "    <tr>\n",
              "      <th>331</th>\n",
              "      <td>319</td>\n",
              "      <td>161.204711</td>\n",
              "    </tr>\n",
              "    <tr>\n",
              "      <th>370</th>\n",
              "      <td>358</td>\n",
              "      <td>161.204676</td>\n",
              "    </tr>\n",
              "    <tr>\n",
              "      <th>21</th>\n",
              "      <td>9</td>\n",
              "      <td>161.204665</td>\n",
              "    </tr>\n",
              "    <tr>\n",
              "      <th>454</th>\n",
              "      <td>442</td>\n",
              "      <td>161.204589</td>\n",
              "    </tr>\n",
              "    <tr>\n",
              "      <th>327</th>\n",
              "      <td>315</td>\n",
              "      <td>161.204509</td>\n",
              "    </tr>\n",
              "    <tr>\n",
              "      <th>99</th>\n",
              "      <td>87</td>\n",
              "      <td>161.204365</td>\n",
              "    </tr>\n",
              "    <tr>\n",
              "      <th>535</th>\n",
              "      <td>523</td>\n",
              "      <td>161.204325</td>\n",
              "    </tr>\n",
              "    <tr>\n",
              "      <th>734</th>\n",
              "      <td>722</td>\n",
              "      <td>161.204315</td>\n",
              "    </tr>\n",
              "    <tr>\n",
              "      <th>724</th>\n",
              "      <td>712</td>\n",
              "      <td>161.204226</td>\n",
              "    </tr>\n",
              "    <tr>\n",
              "      <th>293</th>\n",
              "      <td>281</td>\n",
              "      <td>161.204153</td>\n",
              "    </tr>\n",
              "    <tr>\n",
              "      <th>104</th>\n",
              "      <td>92</td>\n",
              "      <td>161.204137</td>\n",
              "    </tr>\n",
              "    <tr>\n",
              "      <th>276</th>\n",
              "      <td>264</td>\n",
              "      <td>161.204127</td>\n",
              "    </tr>\n",
              "    <tr>\n",
              "      <th>552</th>\n",
              "      <td>540</td>\n",
              "      <td>161.204009</td>\n",
              "    </tr>\n",
              "    <tr>\n",
              "      <th>371</th>\n",
              "      <td>359</td>\n",
              "      <td>161.203951</td>\n",
              "    </tr>\n",
              "    <tr>\n",
              "      <th>98</th>\n",
              "      <td>86</td>\n",
              "      <td>161.203947</td>\n",
              "    </tr>\n",
              "    <tr>\n",
              "      <th>799</th>\n",
              "      <td>Frequency_per_merchant</td>\n",
              "      <td>161.203936</td>\n",
              "    </tr>\n",
              "    <tr>\n",
              "      <th>384</th>\n",
              "      <td>372</td>\n",
              "      <td>161.203887</td>\n",
              "    </tr>\n",
              "    <tr>\n",
              "      <th>803</th>\n",
              "      <td>Merchant_clusters</td>\n",
              "      <td>161.203876</td>\n",
              "    </tr>\n",
              "    <tr>\n",
              "      <th>330</th>\n",
              "      <td>318</td>\n",
              "      <td>161.203818</td>\n",
              "    </tr>\n",
              "    <tr>\n",
              "      <th>453</th>\n",
              "      <td>441</td>\n",
              "      <td>161.203803</td>\n",
              "    </tr>\n",
              "    <tr>\n",
              "      <th>675</th>\n",
              "      <td>663</td>\n",
              "      <td>161.203800</td>\n",
              "    </tr>\n",
              "    <tr>\n",
              "      <th>299</th>\n",
              "      <td>287</td>\n",
              "      <td>161.203777</td>\n",
              "    </tr>\n",
              "    <tr>\n",
              "      <th>189</th>\n",
              "      <td>177</td>\n",
              "      <td>161.203728</td>\n",
              "    </tr>\n",
              "    <tr>\n",
              "      <th>612</th>\n",
              "      <td>600</td>\n",
              "      <td>161.203712</td>\n",
              "    </tr>\n",
              "  </tbody>\n",
              "</table>\n",
              "</div>\n",
              "      <button class=\"colab-df-convert\" onclick=\"convertToInteractive('df-bf0fd0bb-5786-42f1-938b-1ccd9cd8a48b')\"\n",
              "              title=\"Convert this dataframe to an interactive table.\"\n",
              "              style=\"display:none;\">\n",
              "        \n",
              "  <svg xmlns=\"http://www.w3.org/2000/svg\" height=\"24px\"viewBox=\"0 0 24 24\"\n",
              "       width=\"24px\">\n",
              "    <path d=\"M0 0h24v24H0V0z\" fill=\"none\"/>\n",
              "    <path d=\"M18.56 5.44l.94 2.06.94-2.06 2.06-.94-2.06-.94-.94-2.06-.94 2.06-2.06.94zm-11 1L8.5 8.5l.94-2.06 2.06-.94-2.06-.94L8.5 2.5l-.94 2.06-2.06.94zm10 10l.94 2.06.94-2.06 2.06-.94-2.06-.94-.94-2.06-.94 2.06-2.06.94z\"/><path d=\"M17.41 7.96l-1.37-1.37c-.4-.4-.92-.59-1.43-.59-.52 0-1.04.2-1.43.59L10.3 9.45l-7.72 7.72c-.78.78-.78 2.05 0 2.83L4 21.41c.39.39.9.59 1.41.59.51 0 1.02-.2 1.41-.59l7.78-7.78 2.81-2.81c.8-.78.8-2.07 0-2.86zM5.41 20L4 18.59l7.72-7.72 1.47 1.35L5.41 20z\"/>\n",
              "  </svg>\n",
              "      </button>\n",
              "      \n",
              "  <style>\n",
              "    .colab-df-container {\n",
              "      display:flex;\n",
              "      flex-wrap:wrap;\n",
              "      gap: 12px;\n",
              "    }\n",
              "\n",
              "    .colab-df-convert {\n",
              "      background-color: #E8F0FE;\n",
              "      border: none;\n",
              "      border-radius: 50%;\n",
              "      cursor: pointer;\n",
              "      display: none;\n",
              "      fill: #1967D2;\n",
              "      height: 32px;\n",
              "      padding: 0 0 0 0;\n",
              "      width: 32px;\n",
              "    }\n",
              "\n",
              "    .colab-df-convert:hover {\n",
              "      background-color: #E2EBFA;\n",
              "      box-shadow: 0px 1px 2px rgba(60, 64, 67, 0.3), 0px 1px 3px 1px rgba(60, 64, 67, 0.15);\n",
              "      fill: #174EA6;\n",
              "    }\n",
              "\n",
              "    [theme=dark] .colab-df-convert {\n",
              "      background-color: #3B4455;\n",
              "      fill: #D2E3FC;\n",
              "    }\n",
              "\n",
              "    [theme=dark] .colab-df-convert:hover {\n",
              "      background-color: #434B5C;\n",
              "      box-shadow: 0px 1px 3px 1px rgba(0, 0, 0, 0.15);\n",
              "      filter: drop-shadow(0px 1px 2px rgba(0, 0, 0, 0.3));\n",
              "      fill: #FFFFFF;\n",
              "    }\n",
              "  </style>\n",
              "\n",
              "      <script>\n",
              "        const buttonEl =\n",
              "          document.querySelector('#df-bf0fd0bb-5786-42f1-938b-1ccd9cd8a48b button.colab-df-convert');\n",
              "        buttonEl.style.display =\n",
              "          google.colab.kernel.accessAllowed ? 'block' : 'none';\n",
              "\n",
              "        async function convertToInteractive(key) {\n",
              "          const element = document.querySelector('#df-bf0fd0bb-5786-42f1-938b-1ccd9cd8a48b');\n",
              "          const dataTable =\n",
              "            await google.colab.kernel.invokeFunction('convertToInteractive',\n",
              "                                                     [key], {});\n",
              "          if (!dataTable) return;\n",
              "\n",
              "          const docLinkHtml = 'Like what you see? Visit the ' +\n",
              "            '<a target=\"_blank\" href=https://colab.research.google.com/notebooks/data_table.ipynb>data table notebook</a>'\n",
              "            + ' to learn more about interactive tables.';\n",
              "          element.innerHTML = '';\n",
              "          dataTable['output_type'] = 'display_data';\n",
              "          await google.colab.output.renderOutput(dataTable, element);\n",
              "          const docLink = document.createElement('div');\n",
              "          docLink.innerHTML = docLinkHtml;\n",
              "          element.appendChild(docLink);\n",
              "        }\n",
              "      </script>\n",
              "    </div>\n",
              "  </div>\n",
              "  "
            ]
          },
          "metadata": {},
          "execution_count": 114
        }
      ],
      "source": [
        "feature_importances_xgb.head(50)"
      ]
    },
    {
      "cell_type": "code",
      "execution_count": null,
      "metadata": {
        "colab": {
          "base_uri": "https://localhost:8080/"
        },
        "id": "viY9TGvkLYl1",
        "outputId": "82a9b64c-2c0c-4799-8928-1cdbd065ce59"
      },
      "outputs": [
        {
          "output_type": "stream",
          "name": "stdout",
          "text": [
            "              precision    recall  f1-score   support\n",
            "\n",
            "           1       0.58      0.69      0.63        16\n",
            "           2       0.89      0.89      0.89         9\n",
            "           4       0.20      0.33      0.25         3\n",
            "           5       0.62      0.62      0.62         8\n",
            "           6       0.57      0.50      0.53         8\n",
            "           7       0.86      0.60      0.71        10\n",
            "           8       1.00      1.00      1.00         1\n",
            "           9       1.00      1.00      1.00         1\n",
            "          10       0.70      0.78      0.74         9\n",
            "          11       0.00      0.00      0.00         0\n",
            "          12       0.33      0.25      0.29         4\n",
            "          13       0.50      0.33      0.40         6\n",
            "\n",
            "    accuracy                           0.63        75\n",
            "   macro avg       0.60      0.58      0.59        75\n",
            "weighted avg       0.65      0.63      0.63        75\n",
            "\n"
          ]
        }
      ],
      "source": [
        "print(classification_report(y_test, preds))"
      ]
    },
    {
      "cell_type": "markdown",
      "metadata": {
        "id": "Zp-wAg5x3J0I"
      },
      "source": [
        "##Feature Selection"
      ]
    },
    {
      "cell_type": "code",
      "execution_count": null,
      "metadata": {
        "id": "178WCvRHyeix"
      },
      "outputs": [],
      "source": [
        "from sklearn.feature_selection import SelectKBest,chi2\n",
        "select = SelectKBest(chi2, k=25)\n",
        "X_new = select.fit_transform(X, y)"
      ]
    },
    {
      "cell_type": "code",
      "execution_count": null,
      "metadata": {
        "colab": {
          "base_uri": "https://localhost:8080/"
        },
        "id": "l52ojRFry7Lr",
        "outputId": "c14f4e5d-ce56-455e-d295-73c6611d9c7d"
      },
      "outputs": [
        {
          "name": "stdout",
          "output_type": "stream",
          "text": [
            "All features:\n",
            "Index([                        'MERCHANT_NAME',\n",
            "                              'PURCHASE_VALUE',\n",
            "       'IS_PURCHASE_PAID_VIA_MPESA_SEND_MONEY',\n",
            "                                    'USER_AGE',\n",
            "                                 'USER_GENDER',\n",
            "                              'USER_HOUSEHOLD',\n",
            "                                 'USER_INCOME',\n",
            "                                     'USER_ID',\n",
            "                                        'week',\n",
            "                              'avg_wordlength',\n",
            "       ...\n",
            "                                           781,\n",
            "                                           782,\n",
            "                                           783,\n",
            "                                           784,\n",
            "                                           785,\n",
            "                                           786,\n",
            "                      'Frequency_per_merchant',\n",
            "                  'Mean_Purchase_per_merchant',\n",
            "                                    'clusters',\n",
            "                           'Merchant_clusters'],\n",
            "      dtype='object', length=803)\n",
            "Selected best 50:\n",
            "Index([             'MERCHANT_NAME',             'PURCHASE_VALUE',\n",
            "                      'USER_INCOME',                    'USER_ID',\n",
            "                             'week',                           87,\n",
            "                                107,                          126,\n",
            "                                143,                          205,\n",
            "                                315,                          324,\n",
            "                                376,                          441,\n",
            "                                480,                          491,\n",
            "                                510,                          584,\n",
            "                                642,                          712,\n",
            "                                730,                          781,\n",
            "           'Frequency_per_merchant', 'Mean_Purchase_per_merchant',\n",
            "                'Merchant_clusters'],\n",
            "      dtype='object')\n"
          ]
        }
      ],
      "source": [
        "filter = select.get_support()\n",
        " \n",
        "print(\"All features:\")\n",
        "print(X.columns)\n",
        " \n",
        "print(\"Selected best 50:\")\n",
        "print(X.columns[filter])"
      ]
    },
    {
      "cell_type": "code",
      "execution_count": null,
      "metadata": {
        "id": "0ZLoFjCM0ius"
      },
      "outputs": [],
      "source": [
        "1X_new = X[X.columns[filter]]"
      ]
    },
    {
      "cell_type": "markdown",
      "metadata": {
        "id": "XJnV9lsd2-s-"
      },
      "source": [
        "### 5. Making the first submission\n",
        "\n",
        "Let’s see how the model performs on the competition test data set provided and how we rank on the competition leaderboard.\n",
        "\n",
        "First we make predictions on the competition test data set."
      ]
    },
    {
      "cell_type": "code",
      "execution_count": null,
      "metadata": {
        "id": "tpyPalDRLj_p"
      },
      "outputs": [],
      "source": [
        "rand_pred = pd.DataFrame(xgb_pred[0])\n",
        "rand_pred1 = pd.DataFrame(xgb_pred[1])\n",
        "rand_pred2 = pd.DataFrame(xgb_pred[2])\n",
        "rand_pred3 = pd.DataFrame(xgb_pred[3])\n",
        "rand_pred4 = pd.DataFrame(xgb_pred[4])"
      ]
    },
    {
      "cell_type": "code",
      "execution_count": null,
      "metadata": {
        "id": "3cCJhtiJLywb"
      },
      "outputs": [],
      "source": [
        "xgb_predictions = 0.4*xgb_pred[1] + 0.1*xgb_pred[2] + 0.3*xgb_pred[3]+ 0.2*xgb_pred[4] "
      ]
    },
    {
      "cell_type": "code",
      "execution_count": null,
      "metadata": {
        "id": "23KjC826qZ67"
      },
      "outputs": [],
      "source": [
        "#predictions = model.predict_proba(test.drop([\"Transaction_ID\"], axis=1))\n",
        "labels = np.argmax(xgb_predictions, axis=1)\n",
        "classes = model.classes_\n",
        "labels = [classes[i] for i in labels]"
      ]
    },
    {
      "cell_type": "code",
      "execution_count": null,
      "metadata": {
        "colab": {
          "base_uri": "https://localhost:8080/"
        },
        "id": "J6iWldfipFsf",
        "outputId": "3c83b7ae-6e48-476f-9955-8dbad12242e6"
      },
      "outputs": [
        {
          "output_type": "execute_result",
          "data": {
            "text/plain": [
              "array([ 1,  2,  3,  4,  5,  6,  7,  8,  9, 10, 11, 12, 13])"
            ]
          },
          "metadata": {},
          "execution_count": 119
        }
      ],
      "source": [
        "classes"
      ]
    },
    {
      "cell_type": "code",
      "execution_count": null,
      "metadata": {
        "id": "QGHv0SeRrZ4R"
      },
      "outputs": [],
      "source": [
        "Test[['Bills & Fees', 'Data & WiFi', 'Education', 'Emergency fund',\n",
        "       'Family & Friends', 'Going out', 'Groceries', 'Health',\n",
        "       'Loan Repayment', 'Miscellaneous', 'Rent / Mortgage', 'Shopping',\n",
        "       'Transport & Fuel']] = xgb_predictions"
      ]
    },
    {
      "cell_type": "code",
      "execution_count": null,
      "metadata": {
        "colab": {
          "base_uri": "https://localhost:8080/",
          "height": 268
        },
        "id": "0XjWLyZ4rZ4S",
        "outputId": "7c71cc69-450c-43e8-c596-da80dc971c25"
      },
      "outputs": [
        {
          "output_type": "execute_result",
          "data": {
            "text/plain": [
              "    Transaction_ID  Bills & Fees  Data & WiFi  Education  Emergency fund  \\\n",
              "373    ID_00x9h2yx      0.196760     0.016585   0.051346        0.324537   \n",
              "374    ID_01db594f      0.124201     0.010699   0.003887        0.010839   \n",
              "375    ID_07pm99no      0.019039     0.006698   0.005648        0.006756   \n",
              "376    ID_09jryhkd      0.308156     0.057028   0.011904        0.016239   \n",
              "377    ID_0ccv924c      0.436060     0.013071   0.008784        0.279699   \n",
              "\n",
              "     Family & Friends  Going out  Groceries    Health  Loan Repayment  \\\n",
              "373          0.094240   0.035525   0.104377  0.028351        0.020510   \n",
              "374          0.009471   0.773937   0.011556  0.008603        0.010424   \n",
              "375          0.011415   0.157975   0.064908  0.008007        0.006167   \n",
              "376          0.036993   0.084364   0.056048  0.015575        0.012277   \n",
              "377          0.056877   0.041763   0.037363  0.012580        0.011102   \n",
              "\n",
              "     Miscellaneous  Rent / Mortgage  Shopping  Transport & Fuel  \n",
              "373       0.038101         0.017884  0.046809          0.024975  \n",
              "374       0.009576         0.004471  0.016182          0.006154  \n",
              "375       0.653718         0.005729  0.011505          0.042434  \n",
              "376       0.250353         0.068663  0.054583          0.027818  \n",
              "377       0.030464         0.012708  0.046281          0.013248  "
            ],
            "text/html": [
              "\n",
              "  <div id=\"df-c885bbf6-5f7e-436c-b449-216ccbe19157\">\n",
              "    <div class=\"colab-df-container\">\n",
              "      <div>\n",
              "<style scoped>\n",
              "    .dataframe tbody tr th:only-of-type {\n",
              "        vertical-align: middle;\n",
              "    }\n",
              "\n",
              "    .dataframe tbody tr th {\n",
              "        vertical-align: top;\n",
              "    }\n",
              "\n",
              "    .dataframe thead th {\n",
              "        text-align: right;\n",
              "    }\n",
              "</style>\n",
              "<table border=\"1\" class=\"dataframe\">\n",
              "  <thead>\n",
              "    <tr style=\"text-align: right;\">\n",
              "      <th></th>\n",
              "      <th>Transaction_ID</th>\n",
              "      <th>Bills &amp; Fees</th>\n",
              "      <th>Data &amp; WiFi</th>\n",
              "      <th>Education</th>\n",
              "      <th>Emergency fund</th>\n",
              "      <th>Family &amp; Friends</th>\n",
              "      <th>Going out</th>\n",
              "      <th>Groceries</th>\n",
              "      <th>Health</th>\n",
              "      <th>Loan Repayment</th>\n",
              "      <th>Miscellaneous</th>\n",
              "      <th>Rent / Mortgage</th>\n",
              "      <th>Shopping</th>\n",
              "      <th>Transport &amp; Fuel</th>\n",
              "    </tr>\n",
              "  </thead>\n",
              "  <tbody>\n",
              "    <tr>\n",
              "      <th>373</th>\n",
              "      <td>ID_00x9h2yx</td>\n",
              "      <td>0.196760</td>\n",
              "      <td>0.016585</td>\n",
              "      <td>0.051346</td>\n",
              "      <td>0.324537</td>\n",
              "      <td>0.094240</td>\n",
              "      <td>0.035525</td>\n",
              "      <td>0.104377</td>\n",
              "      <td>0.028351</td>\n",
              "      <td>0.020510</td>\n",
              "      <td>0.038101</td>\n",
              "      <td>0.017884</td>\n",
              "      <td>0.046809</td>\n",
              "      <td>0.024975</td>\n",
              "    </tr>\n",
              "    <tr>\n",
              "      <th>374</th>\n",
              "      <td>ID_01db594f</td>\n",
              "      <td>0.124201</td>\n",
              "      <td>0.010699</td>\n",
              "      <td>0.003887</td>\n",
              "      <td>0.010839</td>\n",
              "      <td>0.009471</td>\n",
              "      <td>0.773937</td>\n",
              "      <td>0.011556</td>\n",
              "      <td>0.008603</td>\n",
              "      <td>0.010424</td>\n",
              "      <td>0.009576</td>\n",
              "      <td>0.004471</td>\n",
              "      <td>0.016182</td>\n",
              "      <td>0.006154</td>\n",
              "    </tr>\n",
              "    <tr>\n",
              "      <th>375</th>\n",
              "      <td>ID_07pm99no</td>\n",
              "      <td>0.019039</td>\n",
              "      <td>0.006698</td>\n",
              "      <td>0.005648</td>\n",
              "      <td>0.006756</td>\n",
              "      <td>0.011415</td>\n",
              "      <td>0.157975</td>\n",
              "      <td>0.064908</td>\n",
              "      <td>0.008007</td>\n",
              "      <td>0.006167</td>\n",
              "      <td>0.653718</td>\n",
              "      <td>0.005729</td>\n",
              "      <td>0.011505</td>\n",
              "      <td>0.042434</td>\n",
              "    </tr>\n",
              "    <tr>\n",
              "      <th>376</th>\n",
              "      <td>ID_09jryhkd</td>\n",
              "      <td>0.308156</td>\n",
              "      <td>0.057028</td>\n",
              "      <td>0.011904</td>\n",
              "      <td>0.016239</td>\n",
              "      <td>0.036993</td>\n",
              "      <td>0.084364</td>\n",
              "      <td>0.056048</td>\n",
              "      <td>0.015575</td>\n",
              "      <td>0.012277</td>\n",
              "      <td>0.250353</td>\n",
              "      <td>0.068663</td>\n",
              "      <td>0.054583</td>\n",
              "      <td>0.027818</td>\n",
              "    </tr>\n",
              "    <tr>\n",
              "      <th>377</th>\n",
              "      <td>ID_0ccv924c</td>\n",
              "      <td>0.436060</td>\n",
              "      <td>0.013071</td>\n",
              "      <td>0.008784</td>\n",
              "      <td>0.279699</td>\n",
              "      <td>0.056877</td>\n",
              "      <td>0.041763</td>\n",
              "      <td>0.037363</td>\n",
              "      <td>0.012580</td>\n",
              "      <td>0.011102</td>\n",
              "      <td>0.030464</td>\n",
              "      <td>0.012708</td>\n",
              "      <td>0.046281</td>\n",
              "      <td>0.013248</td>\n",
              "    </tr>\n",
              "  </tbody>\n",
              "</table>\n",
              "</div>\n",
              "      <button class=\"colab-df-convert\" onclick=\"convertToInteractive('df-c885bbf6-5f7e-436c-b449-216ccbe19157')\"\n",
              "              title=\"Convert this dataframe to an interactive table.\"\n",
              "              style=\"display:none;\">\n",
              "        \n",
              "  <svg xmlns=\"http://www.w3.org/2000/svg\" height=\"24px\"viewBox=\"0 0 24 24\"\n",
              "       width=\"24px\">\n",
              "    <path d=\"M0 0h24v24H0V0z\" fill=\"none\"/>\n",
              "    <path d=\"M18.56 5.44l.94 2.06.94-2.06 2.06-.94-2.06-.94-.94-2.06-.94 2.06-2.06.94zm-11 1L8.5 8.5l.94-2.06 2.06-.94-2.06-.94L8.5 2.5l-.94 2.06-2.06.94zm10 10l.94 2.06.94-2.06 2.06-.94-2.06-.94-.94-2.06-.94 2.06-2.06.94z\"/><path d=\"M17.41 7.96l-1.37-1.37c-.4-.4-.92-.59-1.43-.59-.52 0-1.04.2-1.43.59L10.3 9.45l-7.72 7.72c-.78.78-.78 2.05 0 2.83L4 21.41c.39.39.9.59 1.41.59.51 0 1.02-.2 1.41-.59l7.78-7.78 2.81-2.81c.8-.78.8-2.07 0-2.86zM5.41 20L4 18.59l7.72-7.72 1.47 1.35L5.41 20z\"/>\n",
              "  </svg>\n",
              "      </button>\n",
              "      \n",
              "  <style>\n",
              "    .colab-df-container {\n",
              "      display:flex;\n",
              "      flex-wrap:wrap;\n",
              "      gap: 12px;\n",
              "    }\n",
              "\n",
              "    .colab-df-convert {\n",
              "      background-color: #E8F0FE;\n",
              "      border: none;\n",
              "      border-radius: 50%;\n",
              "      cursor: pointer;\n",
              "      display: none;\n",
              "      fill: #1967D2;\n",
              "      height: 32px;\n",
              "      padding: 0 0 0 0;\n",
              "      width: 32px;\n",
              "    }\n",
              "\n",
              "    .colab-df-convert:hover {\n",
              "      background-color: #E2EBFA;\n",
              "      box-shadow: 0px 1px 2px rgba(60, 64, 67, 0.3), 0px 1px 3px 1px rgba(60, 64, 67, 0.15);\n",
              "      fill: #174EA6;\n",
              "    }\n",
              "\n",
              "    [theme=dark] .colab-df-convert {\n",
              "      background-color: #3B4455;\n",
              "      fill: #D2E3FC;\n",
              "    }\n",
              "\n",
              "    [theme=dark] .colab-df-convert:hover {\n",
              "      background-color: #434B5C;\n",
              "      box-shadow: 0px 1px 3px 1px rgba(0, 0, 0, 0.15);\n",
              "      filter: drop-shadow(0px 1px 2px rgba(0, 0, 0, 0.3));\n",
              "      fill: #FFFFFF;\n",
              "    }\n",
              "  </style>\n",
              "\n",
              "      <script>\n",
              "        const buttonEl =\n",
              "          document.querySelector('#df-c885bbf6-5f7e-436c-b449-216ccbe19157 button.colab-df-convert');\n",
              "        buttonEl.style.display =\n",
              "          google.colab.kernel.accessAllowed ? 'block' : 'none';\n",
              "\n",
              "        async function convertToInteractive(key) {\n",
              "          const element = document.querySelector('#df-c885bbf6-5f7e-436c-b449-216ccbe19157');\n",
              "          const dataTable =\n",
              "            await google.colab.kernel.invokeFunction('convertToInteractive',\n",
              "                                                     [key], {});\n",
              "          if (!dataTable) return;\n",
              "\n",
              "          const docLinkHtml = 'Like what you see? Visit the ' +\n",
              "            '<a target=\"_blank\" href=https://colab.research.google.com/notebooks/data_table.ipynb>data table notebook</a>'\n",
              "            + ' to learn more about interactive tables.';\n",
              "          element.innerHTML = '';\n",
              "          dataTable['output_type'] = 'display_data';\n",
              "          await google.colab.output.renderOutput(dataTable, element);\n",
              "          const docLink = document.createElement('div');\n",
              "          docLink.innerHTML = docLinkHtml;\n",
              "          element.appendChild(docLink);\n",
              "        }\n",
              "      </script>\n",
              "    </div>\n",
              "  </div>\n",
              "  "
            ]
          },
          "metadata": {},
          "execution_count": 121
        }
      ],
      "source": [
        "Test[[\"Transaction_ID\",'Bills & Fees', 'Data & WiFi', 'Education', 'Emergency fund',\n",
        "       'Family & Friends', 'Going out', 'Groceries', 'Health',\n",
        "       'Loan Repayment', 'Miscellaneous', 'Rent / Mortgage', 'Shopping',\n",
        "       'Transport & Fuel']].head()"
      ]
    },
    {
      "cell_type": "code",
      "execution_count": null,
      "metadata": {
        "id": "9BTdS1ajtYhd"
      },
      "outputs": [],
      "source": [
        "sub = Test[[\"Transaction_ID\",'Bills & Fees', 'Data & WiFi', 'Education', 'Emergency fund',\n",
        "       'Family & Friends', 'Going out', 'Groceries', 'Health',\n",
        "       'Loan Repayment', 'Miscellaneous', 'Rent / Mortgage', 'Shopping',\n",
        "       'Transport & Fuel']]"
      ]
    },
    {
      "cell_type": "markdown",
      "metadata": {
        "id": "ZfiIitsKrZ4V"
      },
      "source": [
        "- We need to convert our submissions to the sample submission format.\n",
        "\n",
        "- We also can see that our model is not doing so good, we only predicted 11 categories instead of 13, for **log loss** to work we need to have **all the categories predicted**. Let's do a deep dive of which category is missing."
      ]
    },
    {
      "cell_type": "code",
      "execution_count": null,
      "metadata": {
        "id": "gdK2rE1NrZ4W"
      },
      "outputs": [],
      "source": [
        "#SZ=test[[\"Transaction_ID\",  \"predictions\"]][\"predictions\"].unique()"
      ]
    },
    {
      "cell_type": "code",
      "execution_count": null,
      "metadata": {
        "id": "lCd00zomrZ4X"
      },
      "outputs": [],
      "source": [
        "#labels_train"
      ]
    },
    {
      "cell_type": "code",
      "execution_count": null,
      "metadata": {
        "id": "fndqW5YI8jij"
      },
      "outputs": [],
      "source": [
        "#set(labels_train)-set(SZ)"
      ]
    },
    {
      "cell_type": "markdown",
      "metadata": {
        "id": "lBGRgmNirZ4Y"
      },
      "source": [
        "- **Education** and **Rent/Mortgage** is not predicted, from the graph provided earlier we also see that the education bar count is very small.\n",
        "\n",
        "**Note** this is only for demotration purpose, I'll edit one row to `education`  and the other to `Rent/Mortgage` so we can get our log loss working. **This should not be done, ensure that your models are able to predict all the classes if not create a column with any missing category  after coverting the submission to log loss and fill all the rows with 0s**"
      ]
    },
    {
      "cell_type": "code",
      "execution_count": null,
      "metadata": {
        "id": "7w9Q06XrrZ4Z"
      },
      "outputs": [],
      "source": [
        "#sub = test[[\"Transaction_ID\",  \"predictions\"]]\n",
        "#sub.at[1,'predictions']='Education'\n",
        "#sub.at[2,'predictions']='Rent / Mortgage'"
      ]
    },
    {
      "cell_type": "code",
      "execution_count": null,
      "metadata": {
        "id": "rqlmrcKZrZ4a"
      },
      "outputs": [],
      "source": [
        "#ss.sample(1)"
      ]
    },
    {
      "cell_type": "code",
      "execution_count": null,
      "metadata": {
        "id": "WGexqm-DrZ4b"
      },
      "outputs": [],
      "source": [
        "#sub = pd.get_dummies(sub, columns=['predictions'])\n",
        "\n",
        "# remove the prefix\n",
        "#sub.columns = sub.columns.str.replace('predictions_','')"
      ]
    },
    {
      "cell_type": "markdown",
      "metadata": {
        "id": "xway9nYc3s1m"
      },
      "source": [
        "Save results in the CSV file."
      ]
    },
    {
      "cell_type": "code",
      "execution_count": null,
      "metadata": {
        "id": "XoLeuE4M3uSs"
      },
      "outputs": [],
      "source": [
        "# Create the submission csv file\n",
        "sub.to_csv('XGBsubmission19.csv', index = False)"
      ]
    },
    {
      "cell_type": "markdown",
      "metadata": {
        "id": "6PipiYQc3ww3"
      },
      "source": [
        "We named our submission file a first_submission.csv. Now we can upload it to the Zindi competition page by clicking the submit button and selecting the file to upload. You also have an option to add comments for each submission."
      ]
    },
    {
      "cell_type": "markdown",
      "metadata": {
        "id": "Kq5e1pAw3zZ3"
      },
      "source": [
        "## More Tips\n",
        "- Look at the extra dataset provided, check if it's resourceful for training\n",
        "- Thorough EDA and domain knowledge sourcing\n",
        "- Re-group Categorical features \n",
        "- More Feature Engineering \n",
        "- Dataset balancing - oversampling, undersampling, SMOTE...\n",
        "- Ensembling of models \n",
        "- Cross-validation: Group folds, Stratified..."
      ]
    },
    {
      "cell_type": "code",
      "source": [
        "do you apply target encoding to both Train and Validat"
      ],
      "metadata": {
        "id": "ogSxN_YIc9ro"
      },
      "execution_count": null,
      "outputs": []
    }
  ],
  "metadata": {
    "colab": {
      "collapsed_sections": [],
      "name": "Alvinapp_competition_Starter_notebook.ipynb",
      "provenance": [],
      "include_colab_link": true
    },
    "kernelspec": {
      "display_name": "Python 3 (ipykernel)",
      "language": "python",
      "name": "python3"
    },
    "language_info": {
      "codemirror_mode": {
        "name": "ipython",
        "version": 3
      },
      "file_extension": ".py",
      "mimetype": "text/x-python",
      "name": "python",
      "nbconvert_exporter": "python",
      "pygments_lexer": "ipython3",
      "version": "3.9.10"
    }
  },
  "nbformat": 4,
  "nbformat_minor": 0
}